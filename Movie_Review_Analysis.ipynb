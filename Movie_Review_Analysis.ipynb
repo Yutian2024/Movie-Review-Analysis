{
  "nbformat": 4,
  "nbformat_minor": 0,
  "metadata": {
    "colab": {
      "provenance": [],
      "gpuType": "T4"
    },
    "kernelspec": {
      "name": "python3",
      "display_name": "Python 3"
    },
    "language_info": {
      "name": "python"
    },
    "accelerator": "GPU"
  },
  "cells": [
    {
      "cell_type": "markdown",
      "metadata": {
        "id": "_bphECiUa9zw"
      },
      "source": [
        "In this task, I built a recurrent neural network to work with sequential text data, specificially, movie review data to identify the reviewer sentiment."
      ]
    },
    {
      "cell_type": "code",
      "metadata": {
        "id": "HgfNOUaPa9z8",
        "colab": {
          "base_uri": "https://localhost:8080/"
        },
        "outputId": "da771ee6-d9d6-4c43-d22c-3e557422defa"
      },
      "source": [
        "# load standard modules/libraries\n",
        "import pandas as pd\n",
        "import numpy as np\n",
        "import matplotlib.pyplot as plt\n",
        "import seaborn as sns\n",
        "from sklearn.model_selection import train_test_split\n",
        "\n",
        "# load special modules/libraries\n",
        "import os\n",
        "import warnings\n",
        "import nltk\n",
        "from nltk.corpus import stopwords\n",
        "nltk.download('stopwords')\n",
        "\n",
        "from collections import Counter\n",
        "import string\n",
        "import re\n",
        "from tqdm  import tqdm\n",
        "\n",
        "# load pytorch modules/libraries\n",
        "import torch\n",
        "import torch.nn as nn\n",
        "import torch.nn.functional as F\n",
        "import torch.optim as optim\n",
        "from torch.utils.data import TensorDataset,DataLoader\n"
      ],
      "outputs": [
        {
          "output_type": "stream",
          "name": "stderr",
          "text": [
            "[nltk_data] Downloading package stopwords to /root/nltk_data...\n",
            "[nltk_data]   Unzipping corpora/stopwords.zip.\n"
          ]
        }
      ],
      "execution_count": null
    },
    {
      "cell_type": "code",
      "metadata": {
        "id": "I_IfXHeTa90F"
      },
      "source": [
        "# download IMDB review data\n",
        "\n",
        "# load dataset\n",
        "df = pd.read_csv(\"IMDB Dataset.csv\")\n",
        "\n",
        "# process into data and labels\n",
        "X = df['review'].values\n",
        "y = df['sentiment'].values\n"
      ],
      "outputs": [],
      "execution_count": null
    },
    {
      "cell_type": "code",
      "source": [
        "# Take a look at some reviews\n",
        "for i in range(6):\n",
        "  print(X[i], y[i], '\\n')\n"
      ],
      "metadata": {
        "id": "8DEb5pmh07Ka",
        "colab": {
          "base_uri": "https://localhost:8080/"
        },
        "outputId": "b74763f1-9282-4968-93b7-17f40591f09f"
      },
      "outputs": [
        {
          "output_type": "stream",
          "name": "stdout",
          "text": [
            "I really liked this Summerslam due to the look of the arena, the curtains and just the look overall was interesting to me for some reason. Anyways, this could have been one of the best Summerslam's ever if the WWF didn't have Lex Luger in the main event against Yokozuna, now for it's time it was ok to have a huge fat man vs a strong man but I'm glad times have changed. It was a terrible main event just like every match Luger is in is terrible. Other matches on the card were Razor Ramon vs Ted Dibiase, Steiner Brothers vs Heavenly Bodies, Shawn Michaels vs Curt Hening, this was the event where Shawn named his big monster of a body guard Diesel, IRS vs 1-2-3 Kid, Bret Hart first takes on Doink then takes on Jerry Lawler and stuff with the Harts and Lawler was always very interesting, then Ludvig Borga destroyed Marty Jannetty, Undertaker took on Giant Gonzalez in another terrible match, The Smoking Gunns and Tatanka took on Bam Bam Bigelow and the Headshrinkers, and Yokozuna defended the world title against Lex Luger this match was boring and it has a terrible ending. However it deserves 8/10 positive \n",
            "\n",
            "Not many television shows appeal to quite as many different kinds of fans like Farscape does...I know youngsters and 30/40+ years old;fans both Male and Female in as many different countries as you can think of that just adore this T.V miniseries. It has elements that can be found in almost every other show on T.V, character driven drama that could be from an Australian soap opera; yet in the same episode it has science fact & fiction that would give even the hardiest \"Trekkie\" a run for his money in the brainbender stakes! Wormhole theory, Time Travel in true equational form...Magnificent. It embraces cultures from all over the map as the possibilities are endless having multiple stars and therefore thousands of planets to choose from.<br /><br />With such a broad scope; it would be expected that nothing would be able to keep up the illusion for long, but here is where \"Farscape\" really comes into it's own element...It succeeds where all others have failed, especially the likes of Star Trek (a universe with practically zero Kaos element!) They ran out of ideas pretty quickly + kept rehashing them! Over the course of 4 seasons they manage to keep the audience's attention using good continuity and constant character evolution with multiple threads to every episode with unique personal touches to camera that are specific to certain character groups within the whole. This structure allows for an extremely large area of subject matter as loyalties are forged and broken in many ways on many many issues. I happened to see the pilot (Premiere) in passing and just had to keep tuning in after that to see if Crichton would ever \"Get the girl\", after seeing them all on television I was delighted to see them available on DVD & I have to admit that it was the only thing that kept me sane whilst I had to do a 12 hour night shift and developed chronic insomnia...Farscape was the only thing to get me through those extremely long nights...<br /><br />Do yourself a favour; Watch the pilot and see what I mean...<br /><br />Farscape Comet positive \n",
            "\n",
            "The film quickly gets to a major chase scene with ever increasing destruction. The first really bad thing is the guy hijacking Steven Seagal would have been beaten to pulp by Seagal's driving, but that probably would have ended the whole premise for the movie.<br /><br />It seems like they decided to make all kinds of changes in the movie plot, so just plan to enjoy the action, and do not expect a coherent plot. Turn any sense of logic you may have, it will reduce your chance of getting a headache.<br /><br />I does give me some hope that Steven Seagal is trying to move back towards the type of characters he portrayed in his more popular movies. negative \n",
            "\n",
            "Jane Austen would definitely approve of this one!<br /><br />Gwyneth Paltrow does an awesome job capturing the attitude of Emma. She is funny without being excessively silly, yet elegant. She puts on a very convincing British accent (not being British myself, maybe I'm not the best judge, but she fooled me...she was also excellent in \"Sliding Doors\"...I sometimes forget she's American ~!). <br /><br />Also brilliant are Jeremy Northam and Sophie Thompson and Phyllida Law (Emma Thompson's sister and mother) as the Bates women. They nearly steal the show...and Ms. Law doesn't even have any lines!<br /><br />Highly recommended. positive \n",
            "\n",
            "Expectations were somewhat high for me when I went to see this movie, after all I thought Steve Carell could do no wrong coming off of great movies like Anchorman, The 40 Year-Old Virgin, and Little Miss Sunshine. Boy, was I wrong.<br /><br />I'll start with what is right with this movie: at certain points Steve Carell is allowed to be Steve Carell. There are a handful of moments in the film that made me laugh, and it's due almost entirely to him being given the wiggle-room to do his thing. He's an undoubtedly talented individual, and it's a shame that he signed on to what turned out to be, in my opinion, a total train-wreck.<br /><br />With that out of the way, I'll discuss what went horrifyingly wrong.<br /><br />The film begins with Dan Burns, a widower with three girls who is being considered for a nationally syndicated advice column. He prepares his girls for a family reunion, where his extended relatives gather for some time with each other.<br /><br />The family is high atop the list of things that make this an awful movie. No family behaves like this. It's almost as if they've been transported from Pleasantville or Leave it to Beaver. They are a caricature of what we think a family is when we're 7. It reaches the point where they become obnoxious and simply frustrating. Touch football, crossword puzzle competitions, family bowling, and talent shows ARE NOT HOW ACTUAL PEOPLE BEHAVE. It's almost sickening.<br /><br />Another big flaw is the woman Carell is supposed to be falling for. Observing her in her first scene with Steve Carell is like watching a stroke victim trying to be rehabilitated. What I imagine is supposed to be unique and original in this woman comes off as mildly retarded.<br /><br />It makes me think that this movie is taking place on another planet. I left the theater wondering what I just saw. After thinking further, I don't think it was much. negative \n",
            "\n",
            "I've watched this movie on a fairly regular basis for most of my life, and it never gets old. For all the snide remarks and insults (mostly from David Spade), \"Tommy Boy\" has a giant heart. And that's what keeps this movie funny after all these years.<br /><br />Tommy Callahan (Chris Farley) is the son of Big Tom Callahan (Brian Dennehy), master car parts salesman, and has ridden on that all his life. But after his died dies on his wedding day, Tommy learns that the company is in debt, and about to be bought by Ray Zalinsky (Dan Akroyd), the owner of a huge car parts company. So in order to save the company, Tommy has to go on the road to sell the company's new brake pads. Along for the ride, though not by choice, is Richard Hayden (David Spade) a former classmate of Tommy's who was Big Tom's right-hand man.<br /><br />The movie rides on the chemistry between the two SNL stars (and real-life best friends) Chris Farley and David Spade. The duo has enough comic energy going between them to power the world. It's the big, dumb guy versus the smart little guy. It works, and some of their scenes are unforgettably funny. Farley and Spade are actually decent dramatic actors as well. Although the film is primarily a comedy, it has its fair share of drama, but Spade and especially Farley are just as good there as when they're making the audience laugh.<br /><br />Forgive me, but I have to talk about Chris Farley a little more. I read his biography (\"The Chris Farley Show: A Biography in Three Acts,\" for anyone who cares), and understanding who Chris was in real life made this movie more special to me. Chris Farley was a genuinely good person who struggled, and ultimately failed to conquer his addictions. Although this was the first movie he had a major role in, it is his best film. It really showed who he was, and just how much talent he had. Knowing Chris's story adds another layer to this movie, although it doesn't make it any less funny.<br /><br />Farley and Spade are matched with a good on screen cast. Rob Lowe is suitably slimy as Tommy's \"new brother,\" and Bo Derek is solid as his step-mother. Brian Dennehy is great as Big Tom. Dennehy makes it easy to believe that they're father in son. Big Tom is just as crazy as his son, although he's smarter and more mature. Dan Akroyd gives one of his best performances as Zalinsky, giving Tommy the hard truth behind advertising. Julie Warner is also good as Tommy's love interest, Michelle.<br /><br />For me, Peter Segal is one of the great comedy directors. He keeps the pace quick and energetic, but most importantly, he knows how to make comedy funny. He doesn't belabor the jokes, and he understands that funny actors know what they're doing and he allows them to do it. But Segal goes a step further. He gives \"Tommy Boy\" a friendly, almost nostalgic tone that both tugs the heartstrings (genuinely) and tickles the funnybone.<br /><br />Critics didn't like \"Tommy Boy.\" Shame on them. A movie doesn't have to be super sophisticated or subversively intellectual to be funny (God forbid Farley and Spade were forced to do muted comedy a la \"The Office\"). This is a great movie and one of my all-time favorites. positive \n",
            "\n"
          ]
        }
      ],
      "execution_count": null
    },
    {
      "cell_type": "markdown",
      "source": [
        "Most of the data (comments) are written diligently, which makes them long and rich.\n",
        "There are many information with sentiment to be captured.\n",
        "Also, data balance is very well with an equal amount of positive and negative reviews.\n",
        "It is a high-quality dataset for sentiment analysis.\n",
        "\n",
        "Possible challenges including mixed sentiments within one review, using narration instead of adjectives, or even sarcasm.\n",
        "For example, if you read the start of the second comment (which is negative) printed above, you might think it is positive.\n",
        "In the body of the comment, the commenter showed his dislike by comparing it to Australian soap opera instead of saying out directly.\n",
        "And there are typos and untranslatable emojis that can be misleading.\n",
        "Take the last comment printed above (which is positive) as an example.\n",
        "It seems to have used the same emoji as the second last one, while the two are actually sentimentally opposite.\n",
        "Also I think the sentence 'his died dies' has a typo, or else it is not coherent."
      ],
      "metadata": {
        "id": "htD4e3kpjT-p"
      }
    },
    {
      "cell_type": "code",
      "source": [
        "# Dataset overview\n",
        "avg_ch_len = len(''.join(X)) / len(X)\n",
        "print(\"Average character length per review:\", avg_ch_len)\n",
        "\n",
        "ch_len = [len(x) for x in X]\n",
        "print(\"Length of the longest review:\", max(ch_len))\n",
        "print(\"Length of the shortest review:\", min(ch_len))\n",
        "\n",
        "num_pos, num_neg = sum([1 for i in y if i == 'positive']), sum([1 for i in y if i == 'negative'])\n",
        "print(\"Number of positive reviews:\", num_pos)\n",
        "print(\"Number of negative reviews:\", num_neg)\n",
        "\n",
        "pos_rev, neg_rev = [len(X[i]) for i in range(len(X)) if y[i] == 'positive'], [len(X[i]) for i in range(len(X)) if y[i] == 'negative']\n",
        "bins = np.linspace(0, max(max(pos_rev), max(neg_rev)), 100)\n",
        "plt.hist(pos_rev, bins=bins, alpha=0.5, label='Positive')\n",
        "plt.hist(neg_rev, bins=bins, alpha=0.5, label='Negative')\n",
        "plt.title('Average Character Length')\n",
        "plt.xlabel('character length')\n",
        "plt.ylabel('frequency')\n",
        "plt.legend()\n",
        "plt.show()\n"
      ],
      "metadata": {
        "id": "G5SRXZ4V6F4t",
        "colab": {
          "base_uri": "https://localhost:8080/",
          "height": 559
        },
        "outputId": "03c25af9-f8d8-414b-aa3d-a37c4f32fc7b"
      },
      "outputs": [
        {
          "output_type": "stream",
          "name": "stdout",
          "text": [
            "Average character length per review: 1311.239225\n",
            "Length of the longest review: 13704\n",
            "Length of the shortest review: 32\n",
            "Number of positive reviews: 20004\n",
            "Number of negative reviews: 19996\n"
          ]
        },
        {
          "output_type": "display_data",
          "data": {
            "text/plain": [
              "<Figure size 640x480 with 1 Axes>"
            ],
            "image/png": "[encoded data removed]"
          },
          "metadata": {}
        }
      ],
      "execution_count": null
    },
    {
      "cell_type": "markdown",
      "source": [
        " Number of positive and negative reviews are almost equal,\n",
        "  which indicates that the dataset is balanced.\n",
        " Most reviews are within 2,000 characters, and very few reviews are longer than 6,000 characters.\n",
        "\n",
        " In general, the distribution of positive and negative reviews are similar,\n",
        "  which indicates that there is no significant correlation between character lengths and sentiments.\n",
        "  and that will make it hard for the model to distinguish.\n",
        " If we look more carefully, there seem to be a little bit more negative reviews within 2,000 characters\n",
        "  and a little bit more positive reviews over 2,000 characters.\n",
        " This might make the model more sensitive and increase the risk of overfitting,\n",
        "  as the network might tend to short reviews and not able to process long reviews well."
      ],
      "metadata": {
        "id": "yEfbayrvjmH9"
      }
    },
    {
      "cell_type": "code",
      "source": [
        "# Helper code for training LSTM\n",
        "def preprocess_string(str1):\n",
        "    # remove all non-word characters excluding number and letters\n",
        "    str1= re.sub(r\"[^\\w\\s]\",'',str1)\n",
        "    # remove all whitespace with no space\n",
        "    str1= re.sub(r\"\\s\",'',str1)\n",
        "    # replace digits with no space\n",
        "    str1= re.sub(r\"\\d\",'',str1)\n",
        "    return str1\n",
        "\n",
        "def preprocess_sentence(sen1):\n",
        "    word_list=[]\n",
        "    stop_word = set(stopwords.words(\"english\"))\n",
        "    for word in sen1.lower().split():\n",
        "        word = preprocess_string(word)\n",
        "        if word not in stop_word and word!='':\n",
        "            word_list.append(word)\n",
        "    return word_list\n",
        "\n",
        "def get_stoi(data):\n",
        "    word_list=[]\n",
        "    for review in data:\n",
        "        word_list.extend(preprocess_sentence(review))\n",
        "    corpus = Counter(word_list)\n",
        "    print(corpus.get)\n",
        "    # sorting on the basis of most common words\n",
        "    corpus_ =sorted(corpus,key= corpus.get,reverse=True)[:1000]\n",
        "    # creating a dict\n",
        "    stoi =  {ch:i+1 for i,ch in enumerate(corpus_)}\n",
        "    return stoi\n",
        "\n",
        "def tokenize(data, labels, stoi):\n",
        "    # tokenize\n",
        "    data_encoded = []\n",
        "    for review in data:\n",
        "        data_encoded.append([stoi[word] for word in preprocess_sentence(review)\n",
        "                             if word in stoi.keys()])\n",
        "\n",
        "    labels_encoded = [1 if label =='positive' else 0 for label in labels]\n",
        "\n",
        "    return np.array(data_encoded, dtype=object), np.array(labels_encoded)\n",
        "\n",
        "def padding_(sentences, seq_len):\n",
        "    features = np.zeros((len(sentences), seq_len),dtype=int)\n",
        "    for ii, review in enumerate(sentences):\n",
        "        if len(review)!=0:\n",
        "            features[ii, -len(review):] = np.array(review)[:seq_len]\n",
        "\n",
        "    return features"
      ],
      "metadata": {
        "id": "tAjcY6oPz61e"
      },
      "outputs": [],
      "execution_count": null
    },
    {
      "cell_type": "markdown",
      "source": [
        "The function 'preprocess_string' helps removing several kinds of unnecessary noise.\n",
        "The function 'preprocess_sentence' helps standardizing spellings (all into lower case letters) and deleting stop words.\n",
        "These two functions together can make the data cleaner, so training can be more efficient and accurate.\n",
        "The function 'get_stoi' creats a dict with 1000 most common words only, which can helps avoiding the interference of rare words and reduce memory requirement.\n",
        "The function 'tokenize' tokenizes text and encode label into binary numbers, so that model input can be handled by LSTM.\n",
        "The function padding makes sure all sequences to be equally long, so that LSTM can read them as input."
      ],
      "metadata": {
        "id": "iL7afAtLjy6b"
      }
    },
    {
      "cell_type": "code",
      "metadata": {
        "id": "P_Y6Puz9a90l",
        "colab": {
          "base_uri": "https://localhost:8080/"
        },
        "outputId": "b6183761-f94c-476b-f035-7d2cdf3c5202"
      },
      "source": [
        "# Split the dataset\n",
        "X_tr, X_vt, y_tr, y_vt = train_test_split(X, y, train_size=0.6, random_state=0)\n",
        "X_val, X_te, y_val, y_te = train_test_split(X_vt, y_vt, train_size=0.5, random_state=0)\n",
        "\n",
        "stoi = get_stoi(X_tr)\n",
        "X_tr_encoded, y_train = tokenize(X_tr, y_tr, stoi)\n",
        "X_val_encoded, y_valid = tokenize(X_val, y_val, stoi)\n",
        "X_te_encoded, y_test = tokenize(X_te, y_te, stoi)\n",
        "seq_len = 500\n",
        "X_train = padding_(X_tr_encoded, seq_len)\n",
        "X_valid = padding_(X_val_encoded, seq_len)\n",
        "X_test = padding_(X_te_encoded, seq_len)\n"
      ],
      "outputs": [
        {
          "output_type": "stream",
          "name": "stdout",
          "text": [
            "<built-in method get of Counter object at 0x7c05cc269d90>\n"
          ]
        }
      ],
      "execution_count": null
    },
    {
      "cell_type": "code",
      "metadata": {
        "id": "V8N8qLWOa90y",
        "colab": {
          "base_uri": "https://localhost:8080/"
        },
        "outputId": "3bc9efc1-60ce-4e2d-c6b3-46a4d6f37d76"
      },
      "source": [
        "# Create DataLoader\n",
        "train_dataset = TensorDataset(torch.Tensor(X_train), torch.Tensor(y_train))\n",
        "valid_dataset = TensorDataset(torch.Tensor(X_valid), torch.Tensor(y_valid))\n",
        "train_loader = DataLoader(train_dataset, batch_size=16, shuffle=True)\n",
        "valid_loader = DataLoader(valid_dataset, batch_size=16, shuffle=False)\n",
        "\n",
        "for i, (data, target) in enumerate(train_loader):\n",
        "  print(f\"Data shape: {data.shape}\\nTarget shape: {target.shape}\")\n",
        "  break\n"
      ],
      "outputs": [
        {
          "output_type": "stream",
          "name": "stdout",
          "text": [
            "Data shape: torch.Size([16, 500])\n",
            "Target shape: torch.Size([16])\n"
          ]
        }
      ],
      "execution_count": null
    },
    {
      "cell_type": "code",
      "source": [
        "# Baseline Model\n",
        "class BaselineSentimentRNN(nn.Module):\n",
        "    def __init__(self, vocab_size, embedding_dim=4, hidden_dim=4, output_dim=2):\n",
        "        super().__init__()\n",
        "        self.embedding = nn.Embedding(vocab_size, embedding_dim)\n",
        "        self.rnn = nn.RNN(embedding_dim, hidden_dim, batch_first=True)\n",
        "        self.fc = nn.Linear(hidden_dim, output_dim)\n",
        "\n",
        "    def forward(self, x):\n",
        "        embedded = self.embedding(x)\n",
        "        # Vanilla RNN returns: outputs, hidden\n",
        "        outputs, hidden = self.rnn(embedded)\n",
        "        # hidden.shape = (num_layers, batch_size, hidden_dim)\n",
        "        out = self.fc(hidden[-1])  # take the last layer's hidden state\n",
        "        return out\n"
      ],
      "metadata": {
        "id": "WhlW4QG-38Sb"
      },
      "execution_count": null,
      "outputs": []
    },
    {
      "cell_type": "code",
      "metadata": {
        "id": "4LTQ7zFka909"
      },
      "source": [
        "# RNN model\n",
        "class SentimentRNN(nn.Module):\n",
        "    def __init__(self, vocab_size, embedding_dim=4, hidden_dim=4, output_dim=2):\n",
        "        super(SentimentRNN, self).__init__()\n",
        "\n",
        "        self.embedding = nn.Embedding(vocab_size, embedding_dim)\n",
        "        self.rnn = nn.GRU(embedding_dim, hidden_dim, batch_first=True)\n",
        "        self.fc = nn.Linear(hidden_dim*2, output_dim)\n",
        "\n",
        "    def forward(self, x):\n",
        "\n",
        "        x = x.long()\n",
        "        embedded = self.embedding(x)\n",
        "        out, _ = self.rnn(embedded)\n",
        "        out = torch.cat([torch.max(out, dim=1)[0],\n",
        "                 torch.mean(out, dim=1)], dim=1)\n",
        "        out = self.fc(out)\n",
        "        return out\n",
        "\n",
        "model = SentimentRNN(vocab_size=1001)\n"
      ],
      "outputs": [],
      "execution_count": null
    },
    {
      "cell_type": "code",
      "metadata": {
        "id": "pvNfhGD6a91A"
      },
      "source": [
        "def get_accuracy(model, data_loader, device):\n",
        "    \"\"\" Compute the accuracy of the `model` across a dataset `data`\n",
        "\n",
        "    Example usage:\n",
        "\n",
        "    >>> model = MyRNN() # to be defined\n",
        "    >>> get_accuracy(model, valid_loader) # the variable `valid_loader` is from above\n",
        "    \"\"\"\n",
        "\n",
        "    correct, total = 0, 0\n",
        "    model.eval()\n",
        "    with torch.no_grad():\n",
        "      for data, target in data_loader:\n",
        "        data, target = data.to(device), target.to(device)\n",
        "        output = model(data)\n",
        "        pred = output.max(1, keepdim=True)[1]\n",
        "        correct += pred.eq(target.view_as(pred)).sum().item()\n",
        "        total += target.shape[0]\n",
        "    return correct / total\n"
      ],
      "outputs": [],
      "execution_count": null
    },
    {
      "cell_type": "code",
      "source": [
        "# Model training\n",
        "def train_network(model, train_loader, valid_loader, num_epochs=5, learning_rate=1e-5):\n",
        "\n",
        "    device = torch.device(\"cuda\" if torch.cuda.is_available() else \"cpu\")\n",
        "    model = model.to(device)\n",
        "\n",
        "    criterion = nn.CrossEntropyLoss()\n",
        "    optimizer = torch.optim.Adam(model.parameters(), lr=learning_rate)\n",
        "    train_losses, valid_losses, train_acc, valid_acc = [], [], [], []\n",
        "    epochs = []\n",
        "    for epoch in range(num_epochs):\n",
        "        model.train()\n",
        "        train_loss = 0\n",
        "        for data, target in train_loader:\n",
        "            data, target = data.to(device), target.to(device)\n",
        "            optimizer.zero_grad()\n",
        "            pred = model(data)\n",
        "            loss = criterion(pred, target.long())\n",
        "            train_loss += loss.item()\n",
        "            loss.backward()\n",
        "            optimizer.step()\n",
        "        train_losses.append(train_loss/len(train_loader))\n",
        "\n",
        "        model.eval()\n",
        "        valid_loss = 0\n",
        "        with torch.no_grad():\n",
        "            for data, target in valid_loader:\n",
        "                data, target = data.to(device), target.to(device)\n",
        "                pred = model(data)\n",
        "                loss = criterion(pred, target.long())\n",
        "                valid_loss += loss.item()\n",
        "        valid_losses.append(valid_loss/len(valid_loader))\n",
        "\n",
        "        if epoch % 5 == 4:\n",
        "            epochs.append(epoch)\n",
        "            train_acc.append(get_accuracy(model, train_loader, device))\n",
        "            valid_acc.append(get_accuracy(model, valid_loader, device))\n",
        "            print(\"Epoch %d; Train Loss %f; Val Loss %f; Train Acc %f; Val Acc %f\" % (\n",
        "                epoch+1, train_losses[-1], valid_losses[-1], train_acc[-1], valid_acc[-1]))\n",
        "\n",
        "    # plotting\n",
        "    plt.title(\"Loss Curve\")\n",
        "    plt.plot(train_losses, label=\"Train\")\n",
        "    plt.plot(valid_losses, label=\"Validation\")\n",
        "    plt.xlabel(\"Epoch\")\n",
        "    plt.ylabel(\"Loss\")\n",
        "    plt.legend(loc='best')\n",
        "    plt.show()\n",
        "\n",
        "    plt.title(\"Accuracy Curve\")\n",
        "    plt.plot(epochs, train_acc, label=\"Train\")\n",
        "    plt.plot(epochs, valid_acc, label=\"Validation\")\n",
        "    plt.xlabel(\"Epoch\")\n",
        "    plt.ylabel(\"Accuracy\")\n",
        "    plt.legend(loc='best')\n",
        "    plt.show()"
      ],
      "metadata": {
        "id": "jfXt-B6PKqMe"
      },
      "execution_count": null,
      "outputs": []
    },
    {
      "cell_type": "code",
      "metadata": {
        "id": "CVtf7CJCa91D",
        "colab": {
          "base_uri": "https://localhost:8080/",
          "height": 1000
        },
        "outputId": "ab2b664f-56c8-4dc5-cf0c-ef474267c948"
      },
      "source": [
        "model = SentimentRNN(vocab_size=1001)\n",
        "train_network(model, train_loader, valid_loader, num_epochs=100, learning_rate=1e-4)"
      ],
      "outputs": [
        {
          "output_type": "stream",
          "name": "stdout",
          "text": [
            "Epoch 5; Train Loss 0.693157; Val Loss 0.691709; Train Acc 0.518750; Val Acc 0.524500\n",
            "Epoch 10; Train Loss 0.685495; Val Loss 0.684176; Train Acc 0.575958; Val Acc 0.572000\n",
            "Epoch 15; Train Loss 0.666916; Val Loss 0.665861; Train Acc 0.644000; Val Acc 0.635625\n",
            "Epoch 20; Train Loss 0.632336; Val Loss 0.634385; Train Acc 0.675417; Val Acc 0.659750\n",
            "Epoch 25; Train Loss 0.594723; Val Loss 0.602411; Train Acc 0.697375; Val Acc 0.678250\n",
            "Epoch 30; Train Loss 0.562529; Val Loss 0.575867; Train Acc 0.717333; Val Acc 0.703500\n",
            "Epoch 35; Train Loss 0.536782; Val Loss 0.553752; Train Acc 0.733542; Val Acc 0.718375\n",
            "Epoch 40; Train Loss 0.514075; Val Loss 0.533319; Train Acc 0.751208; Val Acc 0.727875\n",
            "Epoch 45; Train Loss 0.494392; Val Loss 0.515612; Train Acc 0.764250; Val Acc 0.742750\n",
            "Epoch 50; Train Loss 0.477531; Val Loss 0.499638; Train Acc 0.777083; Val Acc 0.754625\n",
            "Epoch 55; Train Loss 0.462652; Val Loss 0.486128; Train Acc 0.785500; Val Acc 0.763500\n",
            "Epoch 60; Train Loss 0.449052; Val Loss 0.473507; Train Acc 0.793583; Val Acc 0.772625\n",
            "Epoch 65; Train Loss 0.437122; Val Loss 0.462481; Train Acc 0.800292; Val Acc 0.780125\n",
            "Epoch 70; Train Loss 0.426040; Val Loss 0.452178; Train Acc 0.806750; Val Acc 0.786375\n",
            "Epoch 75; Train Loss 0.416389; Val Loss 0.443246; Train Acc 0.813792; Val Acc 0.791375\n",
            "Epoch 80; Train Loss 0.407363; Val Loss 0.437079; Train Acc 0.818958; Val Acc 0.795375\n",
            "Epoch 85; Train Loss 0.399679; Val Loss 0.428171; Train Acc 0.823708; Val Acc 0.801625\n",
            "Epoch 90; Train Loss 0.392996; Val Loss 0.422076; Train Acc 0.827167; Val Acc 0.804375\n",
            "Epoch 95; Train Loss 0.386890; Val Loss 0.417263; Train Acc 0.831125; Val Acc 0.808125\n",
            "Epoch 100; Train Loss 0.381395; Val Loss 0.412675; Train Acc 0.833958; Val Acc 0.812375\n"
          ]
        },
        {
          "output_type": "display_data",
          "data": {
            "text/plain": [
              "<Figure size 640x480 with 1 Axes>"
            ],
            "image/png": "[encoded data removed]"
          },
          "metadata": {}
        },
        {
          "output_type": "display_data",
          "data": {
            "text/plain": [
              "<Figure size 640x480 with 1 Axes>"
            ],
            "image/png": "[encoded data removed]"
          },
          "metadata": {}
        }
      ],
      "execution_count": null
    },
    {
      "cell_type": "code",
      "source": [
        "def train_network(model, train_loader, valid_loader, num_epochs=5, learning_rate=1e-5):\n",
        "\n",
        "    device = torch.device(\"cuda\" if torch.cuda.is_available() else \"cpu\")\n",
        "    model = model.to(device)\n",
        "\n",
        "    criterion = nn.CrossEntropyLoss()\n",
        "    optimizer = torch.optim.Adam(model.parameters(), lr=learning_rate)\n",
        "    train_losses, valid_losses, train_acc, valid_acc = [], [], [], []\n",
        "    epochs = []\n",
        "    for epoch in range(num_epochs):\n",
        "        model.train()\n",
        "        train_loss = 0\n",
        "        for data, target in train_loader:\n",
        "            data, target = data.to(device), target.to(device)\n",
        "            optimizer.zero_grad()\n",
        "            pred = model(data)\n",
        "            loss = criterion(pred, target.long())\n",
        "            train_loss += loss.item()\n",
        "            loss.backward()\n",
        "            optimizer.step()\n",
        "        train_losses.append(train_loss/len(train_loader))\n",
        "\n",
        "        model.eval()\n",
        "        valid_loss = 0\n",
        "        with torch.no_grad():\n",
        "            for data, target in valid_loader:\n",
        "                data, target = data.to(device), target.to(device)\n",
        "                pred = model(data)\n",
        "                loss = criterion(pred, target.long())\n",
        "                valid_loss += loss.item()\n",
        "        valid_losses.append(valid_loss/len(valid_loader))\n",
        "\n",
        "        if epoch % 5 == 4:\n",
        "            epochs.append(epoch)\n",
        "            train_acc.append(get_accuracy(model, train_loader, device))\n",
        "            valid_acc.append(get_accuracy(model, valid_loader, device))\n",
        "            print(\"Epoch %d; Train Loss %f; Val Loss %f; Train Acc %f; Val Acc %f\" % (\n",
        "                epoch+1, train_losses[-1], valid_losses[-1], train_acc[-1], valid_acc[-1]))\n",
        "        # model weights saving\n",
        "        if epoch == 79:\n",
        "            torch.save(model.state_dict(), 'A4-RNN-Yutian_Mei-1010584529.pth')\n",
        "\n",
        "    # plotting\n",
        "    plt.title(\"Loss Curve\")\n",
        "    plt.plot(train_losses, label=\"Train\")\n",
        "    plt.plot(valid_losses, label=\"Validation\")\n",
        "    plt.xlabel(\"Epoch\")\n",
        "    plt.ylabel(\"Loss\")\n",
        "    plt.legend(loc='best')\n",
        "    plt.show()\n",
        "\n",
        "    plt.title(\"Accuracy Curve\")\n",
        "    plt.plot(epochs, train_acc, label=\"Train\")\n",
        "    plt.plot(epochs, valid_acc, label=\"Validation\")\n",
        "    plt.xlabel(\"Epoch\")\n",
        "    plt.ylabel(\"Accuracy\")\n",
        "    plt.legend(loc='best')\n",
        "    plt.show()"
      ],
      "metadata": {
        "id": "xCSUJoHOK_z4"
      },
      "execution_count": null,
      "outputs": []
    },
    {
      "cell_type": "code",
      "source": [
        "# Hyperparameters tuning\n",
        "seq_len = 500\n",
        "X_train = padding_(X_tr_encoded, seq_len)\n",
        "X_valid = padding_(X_val_encoded, seq_len)\n",
        "X_test = padding_(X_te_encoded, seq_len)\n",
        "train_dataset = TensorDataset(torch.Tensor(X_train), torch.Tensor(y_train))\n",
        "valid_dataset = TensorDataset(torch.Tensor(X_valid), torch.Tensor(y_valid))\n",
        "train_loader = DataLoader(train_dataset, batch_size=32, shuffle=True)\n",
        "valid_loader = DataLoader(valid_dataset, batch_size=32, shuffle=False)\n",
        "model = SentimentRNN(vocab_size=1001)\n",
        "train_network(model, train_loader, valid_loader, num_epochs=120, learning_rate=2e-4)\n"
      ],
      "metadata": {
        "colab": {
          "base_uri": "https://localhost:8080/",
          "height": 1000
        },
        "id": "FgBBdJYpFntV",
        "outputId": "6399cbd1-a5ab-42da-f37a-568c8f70000b"
      },
      "execution_count": null,
      "outputs": [
        {
          "output_type": "stream",
          "name": "stdout",
          "text": [
            "Epoch 5; Train Loss 0.690489; Val Loss 0.689801; Train Acc 0.561542; Val Acc 0.554250\n",
            "Epoch 10; Train Loss 0.672650; Val Loss 0.669279; Train Acc 0.625625; Val Acc 0.627000\n",
            "Epoch 15; Train Loss 0.606632; Val Loss 0.600387; Train Acc 0.706167; Val Acc 0.700875\n",
            "Epoch 20; Train Loss 0.516678; Val Loss 0.514178; Train Acc 0.753667; Val Acc 0.749500\n",
            "Epoch 25; Train Loss 0.467439; Val Loss 0.470438; Train Acc 0.782958; Val Acc 0.776250\n",
            "Epoch 30; Train Loss 0.438570; Val Loss 0.446592; Train Acc 0.797333; Val Acc 0.790250\n",
            "Epoch 35; Train Loss 0.417773; Val Loss 0.430971; Train Acc 0.811417; Val Acc 0.798750\n",
            "Epoch 40; Train Loss 0.401790; Val Loss 0.420140; Train Acc 0.820292; Val Acc 0.806750\n",
            "Epoch 45; Train Loss 0.388602; Val Loss 0.408927; Train Acc 0.827500; Val Acc 0.813875\n",
            "Epoch 50; Train Loss 0.377576; Val Loss 0.400891; Train Acc 0.833875; Val Acc 0.819625\n",
            "Epoch 55; Train Loss 0.368362; Val Loss 0.394649; Train Acc 0.840125; Val Acc 0.822625\n",
            "Epoch 60; Train Loss 0.360459; Val Loss 0.389299; Train Acc 0.845542; Val Acc 0.826250\n",
            "Epoch 65; Train Loss 0.353042; Val Loss 0.384357; Train Acc 0.848708; Val Acc 0.827375\n",
            "Epoch 70; Train Loss 0.346726; Val Loss 0.380341; Train Acc 0.852667; Val Acc 0.829500\n",
            "Epoch 75; Train Loss 0.341203; Val Loss 0.378789; Train Acc 0.855208; Val Acc 0.830000\n",
            "Epoch 80; Train Loss 0.336532; Val Loss 0.374886; Train Acc 0.856792; Val Acc 0.834375\n",
            "Epoch 85; Train Loss 0.332725; Val Loss 0.371906; Train Acc 0.860292; Val Acc 0.835250\n",
            "Epoch 90; Train Loss 0.329064; Val Loss 0.370487; Train Acc 0.862333; Val Acc 0.836625\n",
            "Epoch 95; Train Loss 0.325822; Val Loss 0.368864; Train Acc 0.862917; Val Acc 0.837000\n",
            "Epoch 100; Train Loss 0.322731; Val Loss 0.368264; Train Acc 0.863125; Val Acc 0.836750\n",
            "Epoch 105; Train Loss 0.320332; Val Loss 0.366575; Train Acc 0.864667; Val Acc 0.837250\n",
            "Epoch 110; Train Loss 0.318094; Val Loss 0.366111; Train Acc 0.866125; Val Acc 0.836125\n",
            "Epoch 115; Train Loss 0.315932; Val Loss 0.365481; Train Acc 0.866750; Val Acc 0.839375\n",
            "Epoch 120; Train Loss 0.314179; Val Loss 0.365560; Train Acc 0.869000; Val Acc 0.835750\n"
          ]
        },
        {
          "output_type": "display_data",
          "data": {
            "text/plain": [
              "<Figure size 640x480 with 1 Axes>"
            ],
            "image/png": "[encoded data removed]"
          },
          "metadata": {}
        },
        {
          "output_type": "display_data",
          "data": {
            "text/plain": [
              "<Figure size 640x480 with 1 Axes>"
            ],
            "image/png": "[encoded data removed]"
          },
          "metadata": {}
        }
      ]
    },
    {
      "cell_type": "markdown",
      "source": [
        "Learning rate: After tuning, I found 2e-4 to be best.\n",
        " Further decreasing will result in slower convergence, while further increasing will result in unstable training.\n",
        "Epoch: After tuning, I found 80 to be best.\n",
        " We can see that validation loss and accuracy has become stable after around 80 epochs.\n",
        " Less epochs will result in underfitting, while more epochs will result in overfitting.\n",
        "Batch size: After tuning, I found 32 to be best.\n",
        " Smaller batch size will result in longer training time, while larger batch size will result in worse generalization.\n",
        "Sequence length: After tuning, I found 500 to be best.\n",
        " Further decreasing will result in lower validation accuracy (perhaps owning to information loss),\n",
        "  while further increasing won't improve performance but will require more computation resources."
      ],
      "metadata": {
        "id": "ks9rhra1kVKP"
      }
    },
    {
      "cell_type": "code",
      "metadata": {
        "id": "D5L5D-A1a91W",
        "colab": {
          "base_uri": "https://localhost:8080/"
        },
        "outputId": "6587a523-834d-4f81-8c57-f8ecdd34fcf7"
      },
      "source": [
        "# Final test accuracy\n",
        "model = SentimentRNN(vocab_size=1001)\n",
        "model.load_state_dict(torch.load('A4-RNN-Yutian_Mei-1010584529.pth'))\n",
        "model.eval()\n",
        "\n",
        "test_dataset = TensorDataset(torch.Tensor(X_test), torch.Tensor(y_test))\n",
        "test_loader = DataLoader(test_dataset, batch_size=32, shuffle=False)\n",
        "device = torch.device(\"cpu\")\n",
        "test_accuracy = get_accuracy(model, test_loader, device)\n",
        "print(f\"Test Accuracy: {test_accuracy:.4f}\")\n"
      ],
      "outputs": [
        {
          "output_type": "stream",
          "name": "stderr",
          "text": [
            "<ipython-input-60-c809d4f79fcc>:4: FutureWarning: You are using `torch.load` with `weights_only=False` (the current default value), which uses the default pickle module implicitly. It is possible to construct malicious pickle data which will execute arbitrary code during unpickling (See https://github.com/pytorch/pytorch/blob/main/SECURITY.md#untrusted-models for more details). In a future release, the default value for `weights_only` will be flipped to `True`. This limits the functions that could be executed during unpickling. Arbitrary objects will no longer be allowed to be loaded via this mode unless they are explicitly allowlisted by the user via `torch.serialization.add_safe_globals`. We recommend you start setting `weights_only=True` for any use case where you don't have full control of the loaded file. Please open an issue on GitHub for any issues related to this experimental feature.\n",
            "  model.load_state_dict(torch.load('A4-RNN-Yutian_Mei-1010584529.pth'))\n"
          ]
        },
        {
          "output_type": "stream",
          "name": "stdout",
          "text": [
            "Test Accuracy: 0.8330\n"
          ]
        }
      ],
      "execution_count": null
    },
    {
      "cell_type": "markdown",
      "source": [
        "As expected, the final test accuracy of my model is a little bit lower than training and validation accuracy (83.30% vs 85.68% vs 83.44%).\n",
        "The results reflect that there is neither serious overfitting nor underfitting, which I am happy to see.\n",
        "Also, as test data was unseen by the model before and test accuracy is close to validation accuracy, it indicates that the model has good generalization ability."
      ],
      "metadata": {
        "id": "ESuIH2jzkcvW"
      }
    },
    {
      "cell_type": "code",
      "metadata": {
        "id": "IJt0APcBBwd5",
        "colab": {
          "base_uri": "https://localhost:8080/"
        },
        "outputId": "848c8675-5d77-420a-d648-122b1b5420c2"
      },
      "source": [
        "# Look over misclassified samples\n",
        "model = SentimentRNN(vocab_size=1001)\n",
        "model.load_state_dict(torch.load('A4-RNN-Yutian_Mei-1010584529.pth'))\n",
        "model.eval()\n",
        "errors = []\n",
        "itos = {idx: word for word, idx in stoi.items()} # indices back to words\n",
        "with torch.no_grad():\n",
        "  for data, target in test_loader:\n",
        "    outputs = model(data)\n",
        "    _, predicted = torch.max(outputs, dim=1)\n",
        "    j = 0\n",
        "    for i in range(len(target)):\n",
        "      if predicted[i] != target[i]:\n",
        "        input_indices = data[i].cpu().numpy()\n",
        "        input_words = [itos[idx] for idx in input_indices if idx != 0]\n",
        "        print(input_words, target[i].item())\n",
        "        j += 1\n",
        "        if j == 5:\n",
        "          break\n",
        "    if j == 5:\n",
        "      break"
      ],
      "outputs": [
        {
          "output_type": "stream",
          "name": "stdout",
          "text": [
            "['read', 'novel', 'interest', 'became', 'quite', 'characters', 'tale', 'based', 'br', 'however', 'simply', 'casting', 'based', 'acting', 'talent', 'obvious', 'peter', 'neither', 'able', 'act', 'way', 'attempts', 'french', 'accent', 'hilarious', 'entertaining', 'way', 'found', 'surprised', 'made', 'br', 'fans', 'novel', 'stay', 'away', 'one'] 0.0\n",
            "['upon', 'time', 'used', 'write', 'doctor', 'whole', 'new', 'american', 'produced', 'doctor', 'soon', 'master', 'going', 'played', 'everyone', 'point', 'imdb', 'came', 'type', 'name', 'one', 'wrote', 'wrote', 'best', 'known', 'role', 'film', 'called', 'school', 'actually', 'looking', 'back', 'best', 'known', 'didnt', 'stop', 'person', 'mind', 'made', 'american', 'master', 'going', 'fans', 'playing', 'master', 'saw', 'doctor', 'great', 'many', 'fans', 'among', 'thought', 'performance', 'best', 'thing', 'american', 'production', 'br', 'br', 'im', 'film', 'wanted', 'see', 'simply', 'first', 'time', 'id', 'heard', 'name', 'didnt', 'get', 'chance', 'see', 'fairly', 'disappointed', 'know', 'nothing', 'everyone', 'else', 'seems', 'mention', 'dont', 'dont', 'know', 'mentioned', 'film', 'feels', 'somewhat', 'even', 'saw', 'release', 'seem', 'years', 'along', 'cast', 'little', 'dance', 'makes', 'wonder', 'wouldnt', 'worked', 'lot', 'better', 'produced', 'could', 'would', 'meant', 'relationship', 'film', 'wasnt', 'relationship', 'given', 'much', 'better', 'performances', 'since'] 0.0\n",
            "['first', 'john', 'films', 'seeing', 'female', 'reason', 'enjoyed', 'dvd', 'john', 'set', 'movie', 'person', 'alive', 'lives', 'son', 'movie', 'see', 'sex', 'people', 'film', 'soundtrack', 'rock', 'problem', 'parts', 'film', 'seem', 'get', 'little', 'boring', 'found', 'female', 'little', 'fun', 'sex', 'violence', 'images', 'enjoy'] 1.0\n",
            "['years', 'came', 'movie', 'excellent', 'effects', 'war', 'american', 'family', 'seen', 'war', 'truly', 'title', 'best', 'years', 'lives', 'anything', 'since', 'times', 'still', 'images', 'left', 'future', 'br', 'truly', 'cast', 'despite', 'best', 'years', 'lives', 'stories', 'men', 'comes', 'back', 'although', 'finds', 'wife', 'upon', 'cannot', 'find', 'decent', 'job', 'despite', 'war', 'want', 'girl', 'wants', 'life', 'comes', 'hate', 'hand', 'problems', 'due', 'hands', 'war', 'feels', 'entire', 'world', 'including', 'girl', 'family', 'br', 'almost', 'three', 'hours', 'film', 'never', 'seems', 'long', 'much', 'even', 'small', 'moments', 'plot', 'nothing', 'seems', 'wasted', 'screen', 'due', 'lack', 'editing', 'performance', 'though', 'even', 'every', 'character', 'moment', 'film', 'time', 'right', 'talk', 'seen', 'american', 'films', 'including', 'ones', 'made', 'around', 'world', 'war', 'one', 'never', 'violence', 'three', 'male', 'leads', 'lot', 'turned', 'store', 'couldnt', 'men', 'seen', 'battle', 'even', 'worse', 'worth', 'film', 'coming', 'home', 'time', 'america', 'war', 'films', 'come', 'end', 'second', 'world', 'war', 'still', 'order', 'make'] 1.0\n",
            "['film', 'end', 'characters', 'enjoy', 'seeing', 'small', 'part', 'william', 'good', 'always', 'still', 'worth', 'watching', 'starts', 'strong', 'keeps', 'getting', 'like', 'sure', 'put'] 0.0\n",
            "['work', 'pretty', 'couple', 'really', 'creepy', 'elements', 'found', 'work', 'first', 'expected', 'given', 'reviews', 'imdb', 'dialog', 'comes', 'across', 'given', 'although', 'overall', 'run', 'film', 'goes', 'predictable', 'running', 'strange', 'typical', 'horror', 'movie', 'br', 'local', 'characters', 'worst', 'characters', 'children', 'great', 'development', 'given', 'seems', 'quite', 'br', 'im', 'going', 'say', 'entirely', 'original', 'best', 'thing', 'since', 'isnt', 'great', 'way', 'interesting', 'long', 'minutes', 'back', 'would', 'say', 'movie', 'means', 'really', 'good', 'horror', 'elements', 'also', 'really', 'slow', 'development', 'seem', 'directors', 'film', 'br', 'good', 'night', 'good', 'br', 'br'] 1.0\n",
            "['acting', 'excellent', 'film', 'great', 'actors', 'fun', 'see', 'young', 'man', 'comedy', 'drama', 'apparently', 'comedy', 'drama', 'apparently', 'appear', 'forced', 'script', 'though', 'br', 'line', 'write', 'loved', 'man', 'comedy', 'acting', 'wonderful', 'story', 'line', 'script', 'day', 'pretty', 'wonderful', 'actress', 'try', 'watch', 'features'] 0.0\n",
            "['way', 'first', 'way', 'course', 'tom', 'brother', 'whos', 'playing', 'hate', 'thing', 'fake', 'back', 'funny', 'parts', 'movie', 'fact', 'every', 'single', 'actor', 'looks', 'german', 'also', 'think', 'even', 'left', 'alone', 'guy', 'tom', 'actual', 'something', 'liked', 'moment', 'leaves', 'starts', 'ask', 'help', 'suddenly', 'finds', 'middle', 'turns', 'turns', 'turns', 'around', 'like', 'looking', 'fact', 'behind', 'anyway', 'music', 'wasnt', 'bad', 'okay', 'ending', 'wish', 'german', 'version'] 0.0\n",
            "['end', 'many', 'coming', 'world', 'power', 'power', 'come', 'production', 'less', 'major', 'change', 'br', 'br', 'film', 'youre', 'new', 'may', 'first', 'viewing', 'beyond', 'beyond', 'br', 'br', 'living', 'would', 'tell', 'big', 'avoid', 'time', 'nature', 'make', 'difficult', 'impossible', 'without', 'us', 'br', 'br', 'think', 'film', 'look'] 1.0\n"
          ]
        },
        {
          "output_type": "stream",
          "name": "stderr",
          "text": [
            "<ipython-input-66-a372d8f94575>:4: FutureWarning: You are using `torch.load` with `weights_only=False` (the current default value), which uses the default pickle module implicitly. It is possible to construct malicious pickle data which will execute arbitrary code during unpickling (See https://github.com/pytorch/pytorch/blob/main/SECURITY.md#untrusted-models for more details). In a future release, the default value for `weights_only` will be flipped to `True`. This limits the functions that could be executed during unpickling. Arbitrary objects will no longer be allowed to be loaded via this mode unless they are explicitly allowlisted by the user via `torch.serialization.add_safe_globals`. We recommend you start setting `weights_only=True` for any use case where you don't have full control of the loaded file. Please open an issue on GitHub for any issues related to this experimental feature.\n",
            "  model.load_state_dict(torch.load('A4-RNN-Yutian_Mei-1010584529.pth'))\n"
          ]
        }
      ],
      "execution_count": null
    },
    {
      "cell_type": "markdown",
      "source": [
        "By printing out some misclassified samples (I printed those words used by model for classification),\n",
        " I found that there are likely to be more adjectives with contrary meanings to the original sentiment in these comments.\n",
        "For example, in the second row printed above, there are words like 'new', 'best', 'master' and so on; in the fifth row, there are words like 'enjoy', 'good' and so on.\n",
        "However, They are both negative comments.\n",
        "In the fourth row, there are words like 'hate', wasted' and so on; in the sixth row, there are words like 'horrow', 'strange', 'slow' and so on.\n",
        "However, they are both positive comments."
      ],
      "metadata": {
        "id": "Yg45IS9VkkFd"
      }
    },
    {
      "cell_type": "code",
      "metadata": {
        "id": "h_2nSJq8a91b"
      },
      "source": [
        "review = \"\"\" Man.... I wish I loved this movie more than I did. Don't get me wrong,\n",
        "it's a solid action movie with jaw-dropping stunts (some of the best in the series),\n",
        "but as a Mission: Impossible movie, it felt like a small step backward for the franchise.\n",
        "Fallout had mind-blowing action sequences and stunt work, along with developing Ethan's\n",
        "relationship with Ilsa, providing closure with Julia, showing the lengths Ethan would\n",
        "go to protect those closest to him, and battling an imposing villain. Dead Reckoning:\n",
        "Part One stretches the movie across two films only to seemingly showcase action\n",
        "spectacle after action spectacle while sacrificing character development.\n",
        "Characters I have grown to love over a decade of films felt sidelined, ignored,\n",
        "or wasted. Hayley Atwell's new character chewed up most of the screen time, and\n",
        "while she was fantastic, I wanted to see more of the original team. The new villain\n",
        "had an inconsistent ability that confused more than intimidated. There were some\n",
        "important emotional moments that I just didn't feel the weight of when I definitely\n",
        "should have. Part Two might tie everything together and make me enjoy Part One\n",
        "more in retrospect, but unfortunately, I left wanting more from this one. \"\"\"\n"
      ],
      "outputs": [],
      "execution_count": null
    },
    {
      "cell_type": "code",
      "source": [
        "seq_len = 500\n",
        "tokens = preprocess_sentence(review)\n",
        "indexed_tokens = [stoi[word] for word in tokens if word in stoi]\n",
        "padded_tokens = padding_([indexed_tokens], seq_len)\n",
        "review_tensor = torch.tensor(padded_tokens, dtype=torch.long)\n",
        "\n",
        "model = SentimentRNN(vocab_size=1001)\n",
        "model.load_state_dict(torch.load('A4-RNN-Yutian_Mei-1010584529.pth'))\n",
        "model.eval()\n",
        "with torch.no_grad():\n",
        "  output = model(review_tensor)\n",
        "  prob = torch.softmax(output, dim=1)\n",
        "print(f\"Probability of positive: {prob[0][1].item()}; negative: {1-prob[0][1].item()}\")\n"
      ],
      "metadata": {
        "id": "CB-82EtwBmKb",
        "colab": {
          "base_uri": "https://localhost:8080/"
        },
        "outputId": "3c4710c5-4e6e-45eb-d353-5a1bf05802f7"
      },
      "outputs": [
        {
          "output_type": "stream",
          "name": "stdout",
          "text": [
            "Probability of positive: 0.9134528040885925; negative: 0.08654719591140747\n"
          ]
        }
      ],
      "execution_count": null
    },
    {
      "cell_type": "markdown",
      "source": [
        "Detecting positive and negative reviews is definitely a difficult task.\n",
        "There are a thousand Hamlets in the eyes of a thousand people, not to say they are discribing them in their own style.\n",
        "\n",
        "A simple baseline model I can think of is a ANN with embedding layer and fully connected layers.\n",
        "We may use activation function like sigmoid to generate prediction.\n",
        "After defining loss function (e.g. BCE), model training can be done through GD and back propagation with the same training and validation set used above.\n",
        "And finally we can compare the performance on test set of our model with this baseline model.\n",
        "This simple baseline model may be able to capture some patterns in positive and negative reviews.\n",
        "But it should not do better than our model.\n",
        "The difference between the two model's performances can also indicate how well our model is performing."
      ],
      "metadata": {
        "id": "Q9TEzNgMkrhx"
      }
    },
    {
      "cell_type": "code",
      "metadata": {
        "id": "5R-_BQyiAMoo"
      },
      "source": [
        "# Transfer learning\n",
        "# install relevant libraries\n",
        "!pip install -qq transformers"
      ],
      "outputs": [],
      "execution_count": null
    },
    {
      "cell_type": "code",
      "source": [
        "# load relevant libraries\n",
        "import transformers\n",
        "from transformers import BertModel, BertTokenizer, AdamW, get_linear_schedule_with_warmup\n",
        "\n",
        "PRE_TRAINED_MODEL_NAME = 'bert-base-cased'\n",
        "\n",
        "tokenizer = BertTokenizer.from_pretrained(PRE_TRAINED_MODEL_NAME)\n",
        "bert_model = BertModel.from_pretrained(PRE_TRAINED_MODEL_NAME)\n"
      ],
      "metadata": {
        "id": "e9xrgpywH3iz"
      },
      "execution_count": null,
      "outputs": []
    },
    {
      "cell_type": "code",
      "source": [
        "sample_txt = 'I want to learn how to do sentiment analysis using BERT and tokenizer.'\n",
        "\n",
        "encoding = tokenizer.encode_plus(\n",
        "  sample_txt,\n",
        "  max_length=32,\n",
        "  add_special_tokens=True, # Add '[CLS]' and '[SEP]'\n",
        "  return_token_type_ids=False,\n",
        "  pad_to_max_length=True,\n",
        "  return_attention_mask=True,\n",
        "  return_tensors='pt',  # Return PyTorch tensors\n",
        "  truncation = True\n",
        ")"
      ],
      "metadata": {
        "id": "_20pdf-tYySb",
        "colab": {
          "base_uri": "https://localhost:8080/"
        },
        "outputId": "3859c942-890f-434e-903e-c2c675e50915"
      },
      "outputs": [
        {
          "output_type": "stream",
          "name": "stderr",
          "text": [
            "/usr/local/lib/python3.11/dist-packages/transformers/tokenization_utils_base.py:2681: FutureWarning: The `pad_to_max_length` argument is deprecated and will be removed in a future version, use `padding=True` or `padding='longest'` to pad to the longest sequence in the batch, or use `padding='max_length'` to pad to a max length. In this case, you can give a specific length with `max_length` (e.g. `max_length=45`) or leave max_length to None to pad to the maximal input size of the model (e.g. 512 for Bert).\n",
            "  warnings.warn(\n"
          ]
        }
      ],
      "execution_count": null
    },
    {
      "cell_type": "code",
      "source": [
        "encoding['input_ids']"
      ],
      "metadata": {
        "id": "O1B4RiOOcbGY",
        "colab": {
          "base_uri": "https://localhost:8080/"
        },
        "outputId": "3f7c9b7c-4d1e-4dc0-d998-6adb1147b8bc"
      },
      "outputs": [
        {
          "output_type": "execute_result",
          "data": {
            "text/plain": [
              "tensor([[  101,   146,  1328,  1106,  3858,  1293,  1106,  1202, 17024,  3622,\n",
              "          1606,   139,  9637,  1942,  1105, 22559, 17260,   119,   102,     0,\n",
              "             0,     0,     0,     0,     0,     0,     0,     0,     0,     0,\n",
              "             0,     0]])"
            ]
          },
          "metadata": {},
          "execution_count": 5
        }
      ],
      "execution_count": null
    },
    {
      "cell_type": "code",
      "source": [
        "encoding['attention_mask']"
      ],
      "metadata": {
        "id": "7sZ1j9PfceFF",
        "colab": {
          "base_uri": "https://localhost:8080/"
        },
        "outputId": "c3e32cd0-67c8-4a22-9d39-3e16946975c6"
      },
      "outputs": [
        {
          "output_type": "execute_result",
          "data": {
            "text/plain": [
              "tensor([[1, 1, 1, 1, 1, 1, 1, 1, 1, 1, 1, 1, 1, 1, 1, 1, 1, 1, 1, 0, 0, 0, 0, 0,\n",
              "         0, 0, 0, 0, 0, 0, 0, 0]])"
            ]
          },
          "metadata": {},
          "execution_count": 6
        }
      ],
      "execution_count": null
    },
    {
      "cell_type": "code",
      "source": [
        "hidden_states = bert_model(input_ids=encoding['input_ids'],\n",
        "                           attention_mask=encoding['attention_mask'])[0]\n",
        "pooled_output = bert_model(input_ids=encoding['input_ids'],\n",
        "                           attention_mask=encoding['attention_mask'])[1]"
      ],
      "metadata": {
        "id": "dZ458Q_uYzxu"
      },
      "outputs": [],
      "execution_count": null
    },
    {
      "cell_type": "code",
      "source": [
        "hidden_size = bert_model.config.hidden_size\n",
        "\n",
        "print(hidden_size)\n",
        "print(hidden_states.shape)\n",
        "print(pooled_output.shape)\n"
      ],
      "metadata": {
        "id": "GqwUAEIzZNBO",
        "colab": {
          "base_uri": "https://localhost:8080/"
        },
        "outputId": "1597a716-6cce-4a77-da86-d3cb5f8f0577"
      },
      "outputs": [
        {
          "output_type": "stream",
          "name": "stdout",
          "text": [
            "768\n",
            "torch.Size([1, 32, 768])\n",
            "torch.Size([1, 768])\n"
          ]
        }
      ],
      "execution_count": null
    },
    {
      "cell_type": "markdown",
      "source": [
        "In the above code we loaded a short text sequence, tokenized it using the same tokenization that was used in the pretrained BERT model, and fed the tokenized input into the BERT model to obtain the embeddings.\n",
        "\n",
        "The model output consists of two forms of embeddings:\n",
        "- **hidden_states** are the final layer of outputs that has a shape sequence_length x embeddings, much like the hidden states of a recurrent neural network\n",
        "- **pooled_output** is the result of applying max pooling on the hidden states to effectively collapse the sequence dimenension and ensure the same output size for any given sequence before feeding into the classification stage"
      ],
      "metadata": {
        "id": "7HCaqLDaZo2l"
      }
    },
    {
      "cell_type": "code",
      "source": [
        "# Data loading\n",
        "df = pd.read_csv(\"IMDB Dataset.csv\")\n",
        "df_train, df_vt = train_test_split(df, test_size=0.6, random_state=0)\n",
        "df_valid, df_test = train_test_split(df_vt, test_size=0.5, random_state=0)"
      ],
      "metadata": {
        "id": "WMPN4Q9Pkx_s"
      },
      "execution_count": null,
      "outputs": []
    },
    {
      "cell_type": "code",
      "source": [
        "from torch.utils.data import Dataset, DataLoader\n",
        "\n",
        "class MovieReviewDataset(Dataset):\n",
        "    def __init__(\n",
        "        self,\n",
        "        reviews,\n",
        "        targets,\n",
        "        tokenizer,\n",
        "        max_len,\n",
        "        bert_model=None,\n",
        "        embed_folder='embeddings',\n",
        "        precompute=True\n",
        "    ):\n",
        "        \"\"\"\n",
        "        reviews     : array/list of text data\n",
        "        targets     : array/list of 'positive'/'negative' labels\n",
        "        tokenizer   : BERT tokenizer\n",
        "        max_len     : maximum sequence length for tokenization\n",
        "        bert_model  : a BERT model for generating embeddings (if precompute=True)\n",
        "        embed_folder: folder to store .pt files of precomputed embeddings\n",
        "        precompute  : True -> generate & save embeddings, False -> load from disk only\n",
        "        \"\"\"\n",
        "        self.reviews = reviews\n",
        "        self.targets = targets\n",
        "        self.tokenizer = tokenizer\n",
        "        self.max_len = max_len\n",
        "        self.bert_model = bert_model\n",
        "        self.embed_folder = embed_folder\n",
        "        self.precompute = precompute\n",
        "\n",
        "        # Create the folder if it doesn't exist\n",
        "        if not os.path.exists(self.embed_folder):\n",
        "            os.makedirs(self.embed_folder)\n",
        "\n",
        "        if self.precompute and (self.bert_model is not None):\n",
        "            self._precompute_embeddings()\n",
        "\n",
        "    def __len__(self):\n",
        "        return len(self.reviews)\n",
        "\n",
        "    def __getitem__(self, idx):\n",
        "        \"\"\"\n",
        "        Returns a dictionary with:\n",
        "          - 'review_text'   : original text (optional, for reference)\n",
        "          - 'pooled_output' : [768]-dim embedding from BERT\n",
        "          - 'last_hidden'   : [seq_len, 768] from the last hidden layer\n",
        "          - 'targets'       : 0 or 1\n",
        "        \"\"\"\n",
        "        review = str(self.reviews[idx])\n",
        "        target = 1 if self.targets[idx] == 'positive' else 0\n",
        "\n",
        "        embed_path = os.path.join(self.embed_folder, f'embedding_{idx}.pt')\n",
        "        # Load precomputed embeddings\n",
        "        embedding_dict = torch.load(embed_path)\n",
        "\n",
        "        return {\n",
        "            'review_text': review,\n",
        "            'pooled_output': embedding_dict['pooled'],\n",
        "            'last_hidden': embedding_dict['last'],\n",
        "            'targets': torch.tensor(target, dtype=torch.long)\n",
        "        }\n",
        "\n",
        "\n",
        "    def _precompute_embeddings(self, batch_size=256, device=\"cuda\"):\n",
        "        \"\"\"\n",
        "        Precompute embeddings in batches rather than one by one.\n",
        "        \"\"\"\n",
        "        # Move the model to device (CPU/GPU)\n",
        "        self.bert_model = self.bert_model.to(device)\n",
        "        self.bert_model.eval()\n",
        "\n",
        "        print(\"Precomputing BERT embeddings (batched)...\")\n",
        "\n",
        "        # 1) Tokenize everything\n",
        "        encodings = [self.tokenizer.encode_plus(\n",
        "            str(review),\n",
        "            add_special_tokens=True,\n",
        "            max_length=self.max_len,\n",
        "            return_token_type_ids=False,\n",
        "            pad_to_max_length=True,\n",
        "            return_attention_mask=True,\n",
        "            return_tensors='pt',\n",
        "            truncation=True\n",
        "        ) for review in self.reviews]\n",
        "        input_ids = torch.cat([e['input_ids'] for e in encodings], dim=0)\n",
        "        attention_masks = torch.cat([e['attention_mask'] for e in encodings], dim=0)\n",
        "\n",
        "        # 2) Create a TensorDataset and DataLoader\n",
        "        dataset_tensors = TensorDataset(input_ids, attention_masks)\n",
        "        dataloader = DataLoader(dataset_tensors, batch_size=batch_size, shuffle=False)\n",
        "\n",
        "        # We'll need to index back into `self.reviews` to save each sample’s .pt\n",
        "        idx_offset = 0\n",
        "\n",
        "        for batch in tqdm(dataloader, total=len(dataloader)):\n",
        "            input_ids, attention_mask = [t.to(device) for t in batch]\n",
        "\n",
        "            with torch.no_grad():\n",
        "                outputs = self.bert_model(\n",
        "                    input_ids=input_ids,\n",
        "                    attention_mask=attention_mask,\n",
        "                    output_hidden_states=True\n",
        "                )\n",
        "            # outputs.pooler_output.shape is [batch_size, hidden_dim]\n",
        "            # outputs.hidden_states[-1].shape is [batch_size, seq_len, hidden_dim]\n",
        "\n",
        "            pooled_output_batch = outputs.pooler_output.detach().cpu()\n",
        "            last_hidden_batch = outputs.hidden_states[-1].detach().cpu()\n",
        "\n",
        "            # 3) Save each sample in the batch\n",
        "            for i in range(len(input_ids)):\n",
        "                sample_idx = idx_offset + i\n",
        "                embed_path = os.path.join(self.embed_folder, f'embedding_{sample_idx}.pt')\n",
        "\n",
        "                # Skip if already exists (optional check)\n",
        "                if os.path.isfile(embed_path):\n",
        "                    continue\n",
        "\n",
        "                embedding_dict = {\n",
        "                    'pooled': pooled_output_batch[i].detach().cpu().clone(),\n",
        "                    'last': last_hidden_batch[i].detach().cpu().clone()\n",
        "                }\n",
        "\n",
        "                torch.save(embedding_dict, embed_path)\n",
        "\n",
        "            idx_offset += len(input_ids)\n",
        "\n",
        "        print(\"Done precomputing embeddings.\")\n"
      ],
      "metadata": {
        "id": "LzlpaXmteHQd"
      },
      "outputs": [],
      "execution_count": null
    },
    {
      "cell_type": "code",
      "source": [
        "# prepare data loaders\n",
        "MAX_LEN = 400\n",
        "BATCH_SIZE = 32\n",
        "\n",
        "#training data\n",
        "train_dataset = MovieReviewDataset(\n",
        "    reviews=df_train['review'].values,\n",
        "    targets=df_train['sentiment'].values,\n",
        "    tokenizer=tokenizer,\n",
        "    max_len=MAX_LEN,\n",
        "    bert_model=bert_model,       # required if we want to precompute now\n",
        "    embed_folder='train_embeds', # folder to save embeddings\n",
        "    precompute=True              # set to True so we generate them\n",
        ")\n",
        "\n",
        "train_data_loader = DataLoader(\n",
        "    train_dataset,\n",
        "    batch_size=BATCH_SIZE,\n",
        "    num_workers=4\n",
        ") #modify num_works as needed\n",
        "\n",
        "\n",
        "#validation data\n",
        "\n",
        "valid_dataset = MovieReviewDataset(\n",
        "    reviews=df_valid['review'].values,\n",
        "    targets=df_valid['sentiment'].values,\n",
        "    tokenizer=tokenizer,\n",
        "    max_len=MAX_LEN,\n",
        "    bert_model=bert_model,\n",
        "    embed_folder='valid_embeds',\n",
        "    precompute=True\n",
        ")\n",
        "\n",
        "valid_data_loader = DataLoader(\n",
        "    valid_dataset,\n",
        "    batch_size=BATCH_SIZE,\n",
        "    num_workers=4\n",
        ")\n",
        "\n",
        "#test data\n",
        "\n",
        "test_dataset = MovieReviewDataset(\n",
        "    reviews=df_test['review'].values,\n",
        "    targets=df_test['sentiment'].values,\n",
        "    tokenizer=tokenizer,\n",
        "    max_len=MAX_LEN,\n",
        "    bert_model=bert_model,\n",
        "    embed_folder='test_embeds',\n",
        "    precompute=True\n",
        ")\n",
        "\n",
        "test_data_loader = DataLoader(\n",
        "    test_dataset,\n",
        "    batch_size=BATCH_SIZE,\n",
        "    num_workers=4\n",
        ")\n"
      ],
      "metadata": {
        "id": "27_5roCZeI8T",
        "colab": {
          "base_uri": "https://localhost:8080/"
        },
        "outputId": "fb77a9e8-cc9a-41ed-c5fe-33295b75a855"
      },
      "outputs": [
        {
          "output_type": "stream",
          "name": "stdout",
          "text": [
            "Precomputing BERT embeddings (batched)...\n"
          ]
        },
        {
          "output_type": "stream",
          "name": "stderr",
          "text": [
            "/usr/local/lib/python3.11/dist-packages/transformers/tokenization_utils_base.py:2681: FutureWarning: The `pad_to_max_length` argument is deprecated and will be removed in a future version, use `padding=True` or `padding='longest'` to pad to the longest sequence in the batch, or use `padding='max_length'` to pad to a max length. In this case, you can give a specific length with `max_length` (e.g. `max_length=45`) or leave max_length to None to pad to the maximal input size of the model (e.g. 512 for Bert).\n",
            "  warnings.warn(\n",
            "100%|██████████| 63/63 [07:15<00:00,  6.91s/it]\n",
            "/usr/local/lib/python3.11/dist-packages/torch/utils/data/dataloader.py:624: UserWarning: This DataLoader will create 4 worker processes in total. Our suggested max number of worker in current system is 2, which is smaller than what this DataLoader is going to create. Please be aware that excessive worker creation might get DataLoader running slow or even freeze, lower the worker number to avoid potential slowness/freeze if necessary.\n",
            "  warnings.warn(\n"
          ]
        },
        {
          "output_type": "stream",
          "name": "stdout",
          "text": [
            "Done precomputing embeddings.\n",
            "Precomputing BERT embeddings (batched)...\n"
          ]
        },
        {
          "output_type": "stream",
          "name": "stderr",
          "text": [
            "100%|██████████| 47/47 [05:31<00:00,  7.05s/it]\n"
          ]
        },
        {
          "output_type": "stream",
          "name": "stdout",
          "text": [
            "Done precomputing embeddings.\n",
            "Precomputing BERT embeddings (batched)...\n"
          ]
        },
        {
          "output_type": "stream",
          "name": "stderr",
          "text": [
            "100%|██████████| 47/47 [05:36<00:00,  7.15s/it]"
          ]
        },
        {
          "output_type": "stream",
          "name": "stdout",
          "text": [
            "Done precomputing embeddings.\n"
          ]
        },
        {
          "output_type": "stream",
          "name": "stderr",
          "text": [
            "\n"
          ]
        }
      ],
      "execution_count": null
    },
    {
      "cell_type": "code",
      "source": [
        "# Take a look at one sample\n",
        "\n",
        "for sample in train_data_loader:\n",
        "  print(\"Text:\")\n",
        "  for text in sample['review_text']:\n",
        "    print(text)\n",
        "  print(\"Pooled Output:\", sample['pooled_output'].shape)\n",
        "  print(\"Last Hidden:\", sample['last_hidden'].shape)\n",
        "  print(\"Targets:\", sample['targets'])\n",
        "  break\n"
      ],
      "metadata": {
        "id": "UgdwGNtik1ZR",
        "colab": {
          "base_uri": "https://localhost:8080/"
        },
        "outputId": "68c2d62e-44fa-415e-e831-16c316c38219"
      },
      "outputs": [
        {
          "output_type": "stream",
          "name": "stderr",
          "text": [
            "/usr/local/lib/python3.11/dist-packages/torch/utils/data/dataloader.py:624: UserWarning: This DataLoader will create 4 worker processes in total. Our suggested max number of worker in current system is 2, which is smaller than what this DataLoader is going to create. Please be aware that excessive worker creation might get DataLoader running slow or even freeze, lower the worker number to avoid potential slowness/freeze if necessary.\n",
            "  warnings.warn(\n"
          ]
        },
        {
          "output_type": "stream",
          "name": "stdout",
          "text": [
            "Text:\n",
            "The film quickly gets to a major chase scene with ever increasing destruction. The first really bad thing is the guy hijacking Steven Seagal would have been beaten to pulp by Seagal's driving, but that probably would have ended the whole premise for the movie.<br /><br />It seems like they decided to make all kinds of changes in the movie plot, so just plan to enjoy the action, and do not expect a coherent plot. Turn any sense of logic you may have, it will reduce your chance of getting a headache.<br /><br />I does give me some hope that Steven Seagal is trying to move back towards the type of characters he portrayed in his more popular movies.\n",
            "Life Begins - and ends - in a typical 1930's maternity / recovery ward, where we view 48 hours in the lives of several high risk pregnant women, played by Loretta Young, Glenda Farrell, Clara Blandick (Aunty Em???), Vivienne Osborne, Dorothy Tree, and Gloria Shea, as they await to give birth. While the film features plot devices which seem far fetched today when maternity wards are much more controlled and restricted, it does offer us a look back in time to see what giving birth in a typical city hospital in 1932 was like for our grandmothers and great-grandmothers. I found the film fascinating and exceptionally moving.<br /><br />Oddly enough, the most outstanding performance in this film comes from a male cast member, young Eric Linden as Jed Sutton, Grace's (Loretta Young) husband. What an actor! As a first time father, Jed is distraught and uneasy with hospital staff who seem to brush off his concerns about his wife as they might brush crumbs off a cafeteria table. I felt his every concern keenly. I'd like to see more of this actor's work. He had a very emotional voice, which was used to unforgettable effect in Gone With The Wind. In that film Eric played the young soldier whose leg was amputated without anesthesia, who screamed \"Don't cut! Don't cut!\" as Scarlett fled the hospital in horror. Chilling! Another great performance is from Aline MacMahon, who plays Miss Bowers, the nurse. Her character is a salt of the earth type, the kind of nurse we all hope to get for our hospital stays, who breaks the hospital rules constantly in order to show a more humane side of the medical profession.<br /><br />Loretta Young did another superb acting job here as well, a very authentic and deeply felt performance as Grace. My, she is great in these precodes, I've really grown to appreciate her more as an actress the last few months.<br /><br />Glenda Farrell played her role of a shrill unwed mother a little over the top for my taste (didn't anyone know back in 1932 that swigging brandy from a hot water bottle might be hazardous to unborn babies' health?) but her character redeems herself in the end.<br /><br />Also in the cast was an uncredited Gilbert Roland, silent movie star, as a grieving Italian husband. His screen time was brief, but notable.<br /><br />Life Begins is a must-see precode, try to catch it sometime on TCM, but remember to bring a few hankies to cry into. 9 out of 10.\n",
            "One thing I have noticed about British horror movies from the 1970s is that they don`t hold up to repeated viewing THEATRE OF BLOOD is a case in point as are all those Amicus anthology movies . Add THE BEAST IN THE CELLAR to the list <br /><br />Much of the drama of this movie revolves around the build up of a plot revelation at the end . Once you know what the revelation is this becomes a rather flat film . It does open with a fairly good hook but after that we`re treated to long boring sequences of two old ladies making small talk . Correct me if I`m wrong but how many people watch a horror movie expecting a couple of old ladies making small talk ? The only sort of interest to be found in THE BEAST IN THE CELLAR is the anti-smoking stance . Some people have mentioned that this is an anti-war or anti-military film but watch carefully and you`ll see that everytime a squaddie lights up for a fly puff he gets killed . Rather strange considering attitudes to smoking weren`t nearly so hysterical as they are nowadays\n",
            "Aah yes the workout show was a great. Not only did many women get in shape, but many teenage boys got a great workout as well. I am not saying that the show was in any way not appropriate for family viewing, but if you check the other works from the shows producer, you will find more adult themes in his works, which are also excellent. Many of the viewers looked forward to the show, men and women alike all gained good information and a wonderful release,from the workouts. The girls were perfect, and Beautiful, the show is a classic and should do well in syndication. The show should still be on, as there are never enough choices to view when it comes to health and beauty.\n",
            "I buy or at least watch every Seagall movie. He came out with a handful of good movies then descending into poor stories, bad camera work and a walk-thru persona, he nearly lost me. A few movies ago he remembered how to make a decent movie. Now he's forgotten again. This film is seriously dark (on any level you care to name). There is a lot of slash & gash going on here with no discernible purpose unless it's meant as a warning against the military.<br /><br />Seagall may have had a stand-in for many of his scenes as it was often too dark to tell and someone else's voice was used most of the time. Sadly the only interesting character was the bad guy who killed his guard to escape custody & then proceeded to raise havoc all over the place. Okay since when do we place an armed guard in the holding room with a prisoner? Anyway this bad guy was at least colorful, and very focused. There's lots of gore if you like that king of thing. It looked to me like the bad guys tore the same gash every time. I'm just glad they didn't suck the blood from their hapless victims. I harken you back to my summary. Basically it is a horror movie disguised as an action film.Dec 6,2006\n",
            "I saw this Documentary at the Cannes Film Festival, in a small 200-seat Cinema at the top of the main building at the Cannes Film Festival.<br /><br />I absolutely was into it. I love the mix of awesomely made fictional scenes. It is amazing set-design. The scenes look really like they were filmed in 1920ies or 1930ies.<br /><br />And the music is so nice.<br /><br />I rate this experience 9/10.<br /><br />* spoilers ahead *<br /><br />The Documentary tells about awesome Blues-men, with black-and-white old-looking scenes of the black man playing the guitar and singing. It is really amazing. But this also mixes in new bands and that is maybe one thing I might dislike in this Documentary. It is the too abundant use of links to modern rock-bands playing those Blues songs in a modern way. I didn't really appreciate their trashed way of playing such awesome Blues songs. This is the same kind of un-perfect musical taste I found when watching Wim Wenders Buena Vista Social Club.<br /><br />The Documentary was such a standing-ovation at this first screening in the little cinema, that the next day this Documentary was shown for everyone and normal tourists on the beach of the Croisette at the open-air cinema. Though the sand, the quality of the projection and the bad quality of the sound probably made it a difficult experience to enjoy for the thousands of people who were sitting in the sand that night.\n",
            "It has been years since I have been privileged to see this movie on TV. I only wish I could contact someone to see it again. I married a man with three children and two had Fetal Alcohol Syndrome. I didn't' realize this but seeing this movie helped me understand more about their problems and more about how I can love them and help them overcome their difficulties. My step-son is now 35 and thank the Lord he has blossomed wonderfully but still has many after affects of being born by an alcoholic mother. We speak every month to Rehab patients with alcohol and drug addictions and this sharing has truly made monumental changes in their behaviors and endeavors to start out a new life not addicted to drugs and alcohol. Please please let me know how I can get a copy VHS or DVD of this movie or when they will show the movie again on TV. If you have not been in these shoes, you probably could never understand its value. Thank you so very much.\n",
            "Just saw this at the Chicago Film Festival - avoid it at all costs unless you have sleep problems. It is a film filled with pretensions - it opens with a minor quote from \"Hiroshima mon amour\" and it's all downhill from there. Camera work - imagine a child trying to imitate Wong Kar Wai. Story line - Smokey Robinson and the Miracles' \"The Love I saw in You Was Just a Mirage\" expanded from 3 minutes to over 2 hours but filled with repetition. For butt numbing pain this film ranks with the benches at the Methodist church my parent dragged me to when I was a kid. I want 2+ hours of my life refunded. Julian Hernandez's promoter prefaced the viewing with comment that the film was \"controversial\" - that is true only for the film's narcotic effect.\n",
            "First of all; it's very dilettantish to try describe way of history only from positions of guns, germs and steel. The same tried to do Marxists from economical positions.<br /><br />The reason of Western success can't be just dumb luck, the advantages of domesticated plants and animals. We see, that all around the world any advantages and bonuses are complete useless if they aren't wisely managed. In the Japan there isn't huge natural resources, but Japan is one of the top world economies, the same situation in Singapore, but in Nigeria, country with rich oil resources, there are only middle-low success. Both of this nations had and still have access to Western technology and inventions, but why such gap? <br /><br />In the end of movie Daimond declared, that it's very important to understand factors of guns, germs and steel, to UNDERSTAND. Maybe the main factor of world's difference is not geography, but people ability to understand and use things? The mental ability to understand. And in this case geography is only subordinated.\n",
            "Despite being a huge fan of Fred Astaire and Ginger Rogers' movies, it wasn't until about 6 years ago that I first saw 'Follow the Fleet'. I knew all the songs from an old Astaire/Rogers record (yes, vinyl) but knew nothing of the plot.<br /><br />Unfortunately, while the songs are catchy and Ginger Rogers' character is sweet and funny, you just can't like 'Bake Baker'. While trying to make up to his longtime partner, he continually sabotages her career. His character doesn't have the usual humour and elan of the other films' Astaire characters.<br /><br />Worth watching for the songs and a great solo tap routine by Ginger Rogers.\n",
            "Starring Tomas Milian and Manny Perez  'Washington Heights' is a low budget drama set in a Latino neighborhood in NYC.<br /><br />A young comic-book artist (Manny Perez) wants to escape his Latino neighborhood. When his father is crippled by a robber's gunshot, the young man is forced to run the family bodega.<br /><br />The movie was shot in a budget (low resolution video and poor audio) with low profile actors.<br /><br />The plot flowed well for 85 minutes but the last 5 minutes were just terrible. We don't know for sure if Perez and his girlfriend remained together and if Angel ended-up in jail for the shooting.<br /><br />4/10\n",
            "I'll dispense with the usual comparisons to a certain legendary filmmaker known for his neurotic New Yorker persona, because quite frankly, to draw comparisons with bumbling loser Josh Kornbluth, is just an insult to any such director. I will also avoid mentioning the spot-on satire `Office Space' in the same breath as this celluloid catastrophe. I can, however, compare it to waking up during your own surgery  it's painful to watch and you wonder whether the surgeons really know what they're doing. Haiku Tunnel is the kind of film you wish they'd pulled the plug on in its early stages of production. It was cruel to let it live and as a result, audiences around the world are being made to suffer.<br /><br />The film's premise  if indeed it has one  is not even worth discussing, but for the sake of caution I will. Josh Kornbluth, a temp worker with severe commitment-phobia, is offered a permanent job. His main duty is to mail out 17 high priority letters for his boss. But ludicrously, he is unable to perform this simple task. My reaction? Big deal! That's not a story it's a passing thought at best - one that should've passed any self-respecting filmmaker by. <br /><br />The leading actor  if you can call him that  is a clumsy buffoon of a man, with chubby features, a receding, untamed hairline, and a series of facial expressions that range from cringe-making to plain disturbing. Where o where did the director find this schmuck? What's that you say he is the director? Oh, my mistake. Playing yourself in your own embarrassment of a screenplay is one thing, but I suspect that Mr Kornbluth isn't that convincing as a human being, let alone an actor. Rest assured, this is by no means an aimless character assassination, but never before have I been so riled up by an actor's on-screen presence! My frustration was further confounded by his incessant to-camera monologues in between scenes. I mean, as if the viewer needs an ounce of intelligence to comprehend this drivel, Kornbluth insults us further by `explaining' the action (first rule of filmmaking: `dramatize exposition' show, don't tell). Who does this guy think he is? He has no charisma, no charm, and judging by his Hawaiian shirts, no sense of style. His casting agent should be shot point blank!<br /><br />The supporting actors do nothing to relieve the intense boredom I felt, with but one exception. Patricia Scanlon puts in a very funny appearance as Helen the ex-secretary, who has been driven insane by her old boss, and makes harassing phone calls from her basement, while holding a flashlight under her face. This did make me chuckle to myself, but the moment soon passed and I was back to checking my watch for the remainder of the film.<br /><br />The film's title is also a misnomer. Haiku Tunnel has nothing to do with the ancient form of Japanese poetry. Don't be fooled into thinking this is an art house film because of its pretentious-sounding title or the fact that it only played in a handful of cinemas and made no money at the box office there's a very good reason for that!<br /><br />\n",
            "Perhaps it's just the format of this film, a documentary, but I believe that the movie would have been much better served by good actors and more solid dialogue. The fact that the actors are also the business owners is a double-edged sword. They know better than anyone else the emotions and complexities of the business they were in, but, since they are not professional actors, they do a very poor job of conveying those emotions and the documentary suffers. There were some truly memorable scenes in this movie and lots of good lines but they were delivered so poorly that they will fade away with time and the only memory I will have of this documentary is that it had some good scenes which I can't remember. <br /><br />Watch this if you want a first-hand account of the .com bust and see what happened to the 99% of people in the industry who didn't become instant millionares. However, be prepared for some nauseating camera work, poor acting, poor dialogue, and an overall bad movie that epitomizes the era of the Internet boom.\n",
            "I missed this movie in the cinema but had some idea in the back of my head that it was worth a look, so when I saw it on the shelves in DVD I thought \"time to watch it\". Big mistake!<br /><br />A long list of stars cannot save this turkey, surely one of the worst movies ever. An incomprehensible plot is poorly delivered and poorly presented. Perhaps it would have made more sense if I'd read Robbins' novel but unless the film is completely different to the novel, and with Robbins assisting in the screenplay I doubt it, the novel would have to be an excruciating read as well.<br /><br />I hope the actors were well paid as they looked embarrassed to be in this waste of celluloid and more lately DVD blanks, take for example Pat Morita. Even Thurman has the grace to look uncomfortable at times.<br /><br />Save yourself around 98 minutes of your life for something more worthwhile, like trimming your toenails or sorting out your sock drawer. Even when you see it in the \"under $5\" throw-away bin at your local store, resist the urge!\n",
            "What are people on here talking about? I must have seen a different movie than you guys. I was so bored that I walked out of the theater. What is up with this stuff. I only laughed once and not even that hard. Whoever greenlit this movie should be taken out into the street and beaten. I usually always find something I like in a movie, but this is crazy. \"Slackers\" makes \"Not Another Teen Movie\" look like a classic. It ranks up there with such trash as \"Body Shots\", \"Con Air\", and \"Conspiracy Theory\" as one of the worst of all time. AVOID AT ALL COSTS! I thought the studio would be handing out money to people as they left the theater as a sign of their apologies, but to my dismay that wasn't happening. Looks like I will never see that money again or the two hours.\n",
            "Typically, I'm a comedy guy. I rented this at the video store under comedy, and thought \"Albert Brooks! Awesome!\" and rented it. It seemed like the romantic comedy, and I remembered I hated those, and had the full mindset of hating this movie.<br /><br />Boy, was I wrong.<br /><br />While this is a romantic comedy, it's acted by an amazing lead & supporting cast (Brooks, Hunter, Cusack, and Nicholson), and everything works well within itself. The script sounds real and not forced, like this could be happening in the news station you're watching at night. It takes your emotions and makes you enjoy Hunter and Brooks and loathe Hurt, which makes the ending a bit unenjoyable and fruitless, but it shows how you don't need a happy ending to end a movie, you just need a truthful ending, which is what everyone got. Not everybody's life ends well, and it shows in Broadcast News. Maybe people don't like the ending because it's not your typical happy ending associated with romantic comedies... but it works, it's real, and it's genius. Broadcast News is a classic in it's time, and a fine romance movie up there with \"Casablanca\". Well, maybe not that high, but it's the only other romance I can think of that I like.<br /><br />Broadcast News: 9/10.\n",
            "Set in a post-apocalyptic environment, cyborgs led by warlord Job rein over the human population. They basically keep them as livestock, as they need fresh human blood to live off. Nea and her brother managed to survive one of their attacks when she was a kid, and years have past when she came face-to-face with the cyborgs again, but this time she's saved by the cyborg Gabriel, who was created to destroy all cyborgs. Job and his men are on their way to capture a largely populated city, while Nea (with revenge on mind) pleads Gabriel to train her in the way of killing cyborgs and she'll get him to Gabriel.<br /><br />Cheap low-rent cyborg / post-apocalyptic foray by writer / director Albert Pyun (who made \"Cyborg\" prior to it and the blistering \"Nemsis\" the same year) is reasonably a misguided hunk of junk with some interesting novelties. Very little structure makes its way into the threadbare story, as the turgid script is weak, corny and overstated. The leaden banter tries to be witty, but it pretty much stinks and comes across being comical in the unintentional moments. Most of the occurring actions are pretty senseless and routine. The material could've used another polish up, as it was an inspired idea swallowed up by lazy inclusions, lack of a narrative and an almost jokey tone. The open-ended, cliffhanger conclusion is just too abrupt, especially since a sequel has yet to be made. Makes it feel like that that run out of money, and said \"Time to pack up. Let's finish it off another day (or maybe in another decade). There's no rush.\" However it did find it rather diverting, thanks largely to its quick pace, some well-executed combat and George Mooradian's gliding cinematography that beautifully captured the visually arresting backdrop. Performances are fair. Kris Kristofferson's dry and steely persona works perfectly as Gabriel and a self-assured, psychically capable Kathy Long pulls off the stunts expertly and with aggression. However her acting is too wooden. A mugging Lance Henriksen gives a mouth-watering performance of pure ham, as the villainous cyborg leader Job who constantly having a saliva meltdown. Scott Paulin also drums up plenty of gleefulness as one of the cyborgs and Gary Daniels pouts about as one too. Pyun strikes up few exciting martial art set pieces, involving some flashy vigour and gratuitous slow-motion. Seeping into the background is a scorching, but mechanical sounding music score. The special effects and make-up FX stand up fine enough. Watchable, but not quite a success and it's minimal limitations can be a cause of that.\n",
            "This movie is mostly chase scenes and special effects. It is very weak on plot. Most of the computer talk was just mumbo-jumbo. I watched this because I was a big fan of the original War Games movie which was based mostly on computer fact and real computer terminology. This movie had none of that. Most of the computer scenes were not only impossible and highly unrealistic of real computers and networks, but just lame. It is like it was written by somebody who has no comprehension of real computers.<br /><br />The ripley game was lame and was essentially just an arcade game. No real hacking, so what was the point? Movie was boring. Lame sequel.\n",
            "This movie is not realistic at all, more of a comedy than a serious war film. Very old-fashioned too. Maybe I was just expecting it to be on a same level with \"Platoon\". I wonder, why 50% of the voters gave it 10? Something must be wrong.\n",
            "My brother got me hooked on Carlin back in the 70s. I always loved his observational humor. That is, looking at every day things and finding the humor in it, like asking the question,\"Have you ever tried to throw away an old waste basket? You can't do it! They keep bringing back to you!\" And asking questions like why is the word kill more acceptable then the \"F\" word, while making prefect sense with the discussion.<br /><br />However, during the 90s his stuff was less funny, and more angry. What he seemed to be doing was holding a mirror to society's face and say 'take a look!' At this point, his shows were less of a comedy show, and more of a gripe session. But in all fairness he always made a tremendous amount of sense. He really made you think.<br /><br />Here was Carlin old and new. He starts out about the fun one could have by getting old, and later slamming the the state of the world. Again making perfect sense.<br /><br />This was his best since \"Jammin' in New York\", and as it turns out his last.<br /><br />I think what 'The Shootist' was to John Wayne, or 'A Prairie Home Companion' to Robert Altman, 'It's Bad For Ya' is to George Carlin. A fond farewell to a true great icon. Love him, or hate him, I think he will be remembered.\n",
            "Oh Dear Lord, How on Earth was any part of this film ever approved by anyone? It reeks of cheese from start to finish, but it's not even good cheese. It's the scummiest, moldiest, most tasteless cheese there is, and I cannot believe there is anyone out there who actually, truly enjoyed it. Yes, if you saw it with a load of drunk/stoned buddies then some bits might be funny in a sad kind of way, but for the rest of the audience the only entertaining parts are when said group of buddies are throwing popcorn and abusive insults at each other and the screen. I watched it with an up-for-a-few-laughs guy, having had a few beers in preparation to chuckle away at the film's expected crapness. We got the crapness (plenty of it), but not the chuckles. It doesn't even qualify as a so-bad-it's-good movie. It's just plain bad. Very, very bad. Here's why (look away if you're spoilerphobic): The movie starts out with a guy beating another guy to death. OK, I was a few minutes late in so not sure why this was, but I think I grasped the 'this guy is a bit of a badass who you don't want to mess with' message behind the ingenious scene. Oh, and a guy witnesses it. So, we already have our ultra-evil bad guy, and wussy but cute (apparently) good guy. Cue Hero. Big Sam steps on the scene in the usual fashion, saving good guy in the usual inane way that only poor action films can accomplish, i.e. Hero is immune to bullets, everyone else falls over rather clumsily. Cue first plot hole. How the bloody hell did Sammy know where this guy was, or that he'd watched the murder. Perhaps this, and the answers to all my plot-hole related questions, was explained in the 2 minutes before I got into the cinema, but I doubt it. In fact, I'm going to stop poking holes in the plot right here, lest I turn the movie into something resembling swiss cheese (which we all know is good cheese). So, the 'plot' (a very generous word to use). Good guy must get to LA, evil guy would rather he didn't, Hero Sam stands between the two. Cue scenery for the next vomit-inducing hour - the passenger plane. As I said, no more poking at plot holes, I'll just leave it there. Passenger plane. Next, the vital ingredient up until now missing from this gem of a movie, and what makes it everything it is - Snakes. Yay! Oh, pause. First we have the introduction to all the obligatory characters that a lame movie must have. Hot, horny couple (see if you can guess how they die), dead-before-any-snakes-even-appear British guy (those pesky Brits, eh?), cute kids, and Jo Brand. For all you Americans that's an English comic famous for her size and unattractiveness. Now that we've met the cast, let's watch all of them die (except of course the cute kids). Don't expect anything original, it's just snake bites on various and ever-increasingly hilarious (really not) parts of the body. Use your imagination, since the film-makers obviously didn't use theirs.<br /><br />So, that's most of the film wrapped up, so now for the best bit, the ending. As expected, everything is just so happy as the plane lands that everyone in sight starts sucking face. Yep, Ice-cool Sammy included. But wait, we're not all off the plane yet! The last guy to get off is good guy, but just as he does he gets bitten by a (you guessed it) snake (of all things). Clearly this one had been hiding in Mr. Jackson's hair the whole time, since it somehow managed to resist the air pressure trick that the good old hero had employed a few minutes earlier, despite the 200ft constrictor (the one that ate that pesky British bugger) being unable to. So, Sam shoots him and the snake in one fell swoop. At this point I prayed that the movie was about to make a much-needed U-turn and reveal that all along the hero was actually a traitor of some sort. But no. In a kind of icing on the cake way (but with stale cheese, remember), it is revealed that the climax of the film was involving a bullet proof vest. How anyone can think that an audience 10 years ago, let alone in 2006 would be impressed by their ingenuity is beyond me, but it did well in summing up the film.<br /><br />Actually, we're not quite done yet. After everyone has sucked face (Uncle Sam with leading actress, good guy with Tiffany, token Black guy with token White girl, and the hot couple in a heart warming bout of necrophilia), it's time for good guy and hero to get it on....In Bali!!! Nope, it wasn't at all exciting, the exclamation marks were just there to represent my utter joy at seeing the credits roll. Yes, the final shot of the film is a celebratory surfing trip to convey the message that a bit of male bonding has occurred, and a chance for any morons that actually enjoyed the movie to whoop a few times. That's it. This is the first time I've ever posted a movie review, but I felt so strongly that somebody must speak out against this scourge of cinematography. If you like planes, snakes, Samuel L.Jackson, air hostesses, bad guys, surfing, dogs in bags or English people, then please, please don't see this movie. It will pollute your opinion of all of the above so far that you'll never want to come into contact with any of them ever again. Go see United 93 instead. THAT was good.\n",
            "I bought this video at Walmart's $1 bin. I think I over-paid!!! In the 1940s, Bela Lugosi made a long string of 3rd-rate movies for small studios (in this case, Monogram--the ones who made most of the Bowry Boys films). While the wretchedness of most of these films does not approach the level of awfulness his last films achieved (Ed Wood \"classics\" such as Bride of the Monster and Plan 9 From Outer Space), they are nonetheless poor films and should be avoided by all but the most die-hard fans.<br /><br />I am an old movie junkie, so I gave this a try. Besides, a few of these lesser films were actually pretty good--just not this one.<br /><br />Lugosi is, what else, a mad scientist who wants to keep his rather bizarre and violent wife alive through a serum he concocts from young brides. They never really explained WHY it had to be brides or why it must be women or even what disease his wife had--so you can see that the plot was never really hashed out at all.<br /><br />Anyways, a really annoying female reporter (a Lois Lane type without Jimmy Olsen or Superman) wants to get to the bottom of all these apparent murders in which the bodies were STOLEN! So, she follows some clues all the way to the doorstep of Lugosi. Lugosi's home is complete with his crazed wife, a female assistant and two strange people who are apparently the assistant's sons (an ugly hunchbacked sex fiend and a dwarf). Naturally this plucky reporter faints repeatedly throughout the film--apparently narcolepsy and good investigative journalism go hand in hand! Eventually, the maniacs ALL die--mostly due to their own hands and all is well. At the conclusion, the reporter and a doctor she just met decide to marry. And, naturally, the reporter's dumb cameraman faints when this occurs. If you haven't noticed, there's a lot of fainting in this film. Or, maybe because it was such a slow and ponderous film they just fell asleep!\n",
            "This film is too good for words. Its so unbelievably great and funny and true to life. You just know from watching this that the person who wrote this has DEFIANTLY felt the way that Jip and his friends do through the film. It was my life at one point and I would rely on coming home to watch Human Traffic ever night before I could even think of going to bed. I think you just get so loved up with the characters and their life style. Of course, this film wouldn't be for old people more around the age of 16 to 22 I guess. There is defiantly nothing wrong with this film and it will have you in stitches all the way through. It doesn't have a particular story line to it. The general idea is a weekend in the life of older teens in London and what they get up to. The places they go, the people they meet, the drugs they take and the experiences they have. You have to get this movie on DVD never mind just watching it, you have to have it!!!\n",
            "Princess Tam Tam is without the trappings of racism, in the way we think of racism in the United States, but there are more subtle (to the American viewer) assertions about ethnic identity during the time. Pay attention to Alwina's (Baker) placement within shots, how she is addressed by the other characters, the settings around her that all depict her as a \"savage\" African, and ask yourself if Alwina has any shred of agency throughout the film. I don't want to ruin anything but at the end pay very careful attention, the dichotomy between \"Eastern\" and \"Western\" culture is to say the least offensive, such diction is thankfully disavowed these days. The French have a checkered past as an imperial force throughout the areas depicted (see Chris Marker's Les Statues Meurent Aussi- 1953), and pay attention to the places the European travelers visit while they are in Africa, and what does that reflect about their attitudes towards the \"other\". I give this film a 7 because I am a sucker for Baker, much of what she did in her professional career, like Princes Tam Tam, that is regressive is certainly overshadowed by her efforts towards integration, her work as a freaking spy (I am gushing, sorry.) However the film for me is captivating because of her performance, besides that it is a telling relic of bygone mentalities.\n",
            "Okay, truthfully, I saw the previews for this movie and thought to myself, what are the producers thinking? Hutton, Jolie, and DUCHOVNY? How could the monotoned actor possibly compete with Jolie's natural power on the screen? But surprisingly, the two had the kind of chemistry that showed intense caring without a kiss. Even David's humor matched up to Jolie's spark and fire. As for Hutton, he played the psycho very well, contrasting with David's calm delivery of life threatening situations. Overall, I was very impressed with the writing and character development. I gave it 8 stars.\n",
            "I originally posted the first user comment on this movie,and claimed it was crap and it didnt make sense.I DIDNT MAKE SENSE. Campfire tales is a thoroughly enjoying film (now that im 2 years older and watched it last night).The actors were famous but not TOO famous. The acting itself was more than acceptable,it was rather good.I will rate the movie per segment of films.<br /><br />1)The black and white scene (A.K.A-\"The Hook\") This one was rather pointless,it looked good,but didnt hold much grip at all,the only disappointing one,i dont think it was even included as a segment.Here is the scare-o-meter.<br /><br />------(Poor)<br /><br />2)The R.V Story (honeymooners stuck in woods) Possibly the most entertaining of all tales,the acting was good in this one too,dissapointing bout the typical caravan sex scenes.Yet it was intruiging,you think \"WHo was knocking on that door\".It had suspense,and not too gory.Liked this one<br /><br />--------------------------(Very Good)<br /><br />3)Internet Chat Tale (Little Girl Meets Psycho) This was a smart addition,gore left at a minimal,frights left at EXTREME.Although dull at times,the last few minutes were most entertaining,dont get me wrong it was still fun to watch.Real creepy,and could happen to anybody,so watch who youre talking to.<br /><br />---------------------------(Very Good)<br /><br />4)Ghost Tale (Man kisses ghost)?? Not the best,it wasnt too atmospheric for a ghost tale.This one was strange,the aspects were rather good,playing music and the screaming,but everything was too real to be ghastly,although it was good,it was quiet bloody,and could have been better with that idea.<br /><br />-------------(Acceptable)<br /><br />5)The Ending (the 4 lost teenagers) These are the 2 attractive gals and guys telling the tales through-out the film.The best thing about the film is definantley the ending,it set a great impression,the ending was totally un-expected.Watch it,it was so well done,the realism was spectacular.<br /><br />-----------------------------------(TOP NOTCH)<br /><br />6)THE FILM OVERALL Campfire tales was more than i used to take it for,i actually like it so much now im buying it on video,cause its a truly entertaining horror movie forget the trash you see these days,like many,im dissapointed that this didnt really go nowhere,it was straight to video,to me it was better than all the hype \"horror\" you see these days. Overall for Campfire Tales<br /><br />----------------------------- (Very Good)<br /><br />8 out of 10\n",
            "This is the worst film I have ever seen, bar none. From the flimsy-looking, poorly lit sets, to the laughable acting, to the infantile plot and shoddy, drawn-out action sequences, this film is so bad, its hilarious. For about ten minutes. After which you will be reaching for the remote or the power socket to end this film non-experience. Although it was obviously made with the entire production and acting staff's collective tongue rammed in cheek (please God), I found Jack Frost 2 so dreadful as to be unwatchable for more than a quarter of an hour. If you have not had enough of it after this time, you must be indulging in drug abuse.\n",
            "For Native Mongolian speakers the film lacked emotion and emphasis. Used too many non Native speakers especially Jamukha. Too many diversions from the actual history. Terrible terrible subtitle!!! I wonder where and who did that subtitle. It was both in English and Thai. I wonder how bad the subtitle was in Thai if the English subtitle was soooo bad! Described the one of the greatest leader's life very uninteresting. There are better films made by Mongolian directors with very low budget from 1980's. Honestly, I'm wondering if the film critics of Academy award is that lenient or what? Only good thing was some good CGI in some fighting scenes only moderately... not over the top CGI\n",
            "There are no reasons to watch this movie. Should you have won and extreme amount of money and having spent your time discovering life's every pleasure and have come to a point where by chance you are at a loose end and have some time to kill (like that would ever happen) then get this movie from the video shop (if you can find it AND put up with the assistant laughing at you then ask for this movie. Be prepared however for you mind to be invaded by extremely wooden acting by absolutely everyone (in fact the best acting was by the people who said nothing). Oliver Reed tops off his grand career by playing a drunk - go figure. But wait I forgot there is one reason to watch this movie - Claudia Udy showing her chest! Sadly no other reason than that!\n",
            "This is the second film I've seen of Ida Lupino as a director after 53's the hitch-hiker. I think this one was a better film then that one. This one has a girl who is about to get married and she is then sexually assaulted and doesn't like everyone looking and talking about her so she runs away and and is taken in by a family. I think Leonard Maltin's review is right only to give it 2 and 1/2 stars.\n",
            "Everyone is surely familiar with this most famous of stories  a heartless businessman is visited by the ghost of his dead partner on Christmas Eve and warned that if he continues in his uncaring ways then he will be doomed to an afterlife in chains. So that he can avoid his partner's fate he is visited by three spirits who show him visions of Christmases past, present and yet to come, so that he will hopefully see the error of his ways before it is too late. A rather morbid tale one might think, but it is classic Charles Dickens, and also one of the most famous and popular Christmas stories of all time.<br /><br />To me this is the definitive version of Dickens' timeless story; it's the one I always remember watching in school, and I remember being absolutely terrified by it! The ghost of Jacob Marley, the final scene with the ghost of Christmas present under the bridge, and the ghost of Christmas yet-to-come especially I found very frightening. How on earth did the film gain the 'U' certificate? (For non-UK readers 'U' is the lowest classification, it means family friendly and children welcome, nothing to scare them etc... This is certainly not the case though, as some smaller children will undoubtedly find the final segment positively terrifying with the grim reaper-like spectre of Christmas future.<br /><br />Be that as it may, from the many versions of this classic story I have seen adapted for film, this is possibly the most faithful to the book. Most notably included is a segment rarely seen in film adaptations of the original text - that of the ghost of Christmas present showing Scrooge the two children hidden under his robe (you'd never get away with a scene like that nowadays!). The two children represent Ignorance and Need (although changed to Want in this film).<br /><br />Criticisms for me however become apparent having watched it again with more objective and trained eyes, the main one of which being that George C. Scott's portrayal of Scrooge seems simply not cold enough. He laughs too much. I don't want to use the word jolly because of course Ebeneezer is anything but, but he does seem to be merely a grumpy old man, rather than the positively unkind, cold and uncaring man that he is in the book and other films. Patrick Stewart portrayed him excellently in one of the most recent versions filmed, and Michael Caine, despite acting alongside the Muppets, was positively cold. Further, the development of the character over the course of the film as he learns more about the error of his ways and grows towards redemption is unconvincing and appears inconsistent. He appears to have changed little by the time he reaches the third spirit's final lesson.<br /><br />But ignoring this one (albeit major) quibble, it is still a spellbinding and ultimately heart-warming Christmas tale, as all Christmas films should be. London of course looks like the perfect picturesque quaint snow-covered English town that many Americans probably imagine it still is (the truth is that even then that London was grey and grimy  and any snow would never have been so white!) And everyone is so impeccably dressed too, even the poor people look rather dapper. But of course it's a Christmas film, so why shouldn't everything look nice? Perfect holiday season viewing; coupled with copies of It's a Wonderful Life, Miracle on 34th Street and The Snowman and you've got everything you need.\n",
            "If you have not seen this excellent movie about life in the 90s (in L.A.) then you've missed a special treat. This is one of the most amazingly and most powerful movies ever made about life for Americans in the 90s and it even carries over into today's world in which we live in. It covers everything from raising a child, prejudice (more than one way),love, adultery, empty nest syndrome, selfishness, etc..and the list goes on. This story builds up to an ultimate climax and then when nothing else matters it always goes back to love with friends and family and love of life. It helps us dig deep within ourselves and to make us search for what we want out of life. Makes us ask questions of ourselves. Have we done enough for others, are we like this, etc.??? Sit back and enjoy a wonderfully done and emotional movie that I'm sure others will enjoy for a lifetime.<br /><br />Take note of Mary Mcdonnell, Kevin Kline and Danny Glover's wonderful performance through this whole film. These actors are amazing and really show the true glow and meaning of what message is being sent to all of us. These are 3 of my favorite actors for life after seeing this film over 10 years ago now. I still enjoy it again and again. Also enjoy the wonderful soundtrack with it and don't forget to count how many times you see the helicopter fly by and try to figure out it's symbolism for the movie??hmmm... I almost forgot this is probably Steve Martin's very first serious acting role in any film he has ever done. He, too does an excellent job in this movie. This may come as a surprise to most of you. Sit back, relax and enjoy truly good film making.....\n",
            "Pooled Output: torch.Size([32, 768])\n",
            "Last Hidden: torch.Size([32, 400, 768])\n",
            "Targets: tensor([0, 1, 0, 1, 0, 1, 1, 0, 0, 0, 0, 0, 0, 0, 0, 1, 0, 0, 0, 1, 0, 0, 1, 1,\n",
            "        1, 1, 0, 0, 0, 1, 1, 1])\n"
          ]
        }
      ],
      "execution_count": null
    },
    {
      "cell_type": "markdown",
      "source": [
        "train_data_loader: 'review_text': a list for original text;\n",
        " 'pooled_output': [768]-dim embedding from BERT;\n",
        " 'last_hidden': [seq_len, 768] from the last hidden layer of BERT;\n",
        " 'targets': labels (0 for negative, 1 for positive)."
      ],
      "metadata": {
        "id": "HqdPmD2hlLyt"
      }
    },
    {
      "cell_type": "code",
      "source": [
        "# Range of token values\n",
        "min_token, max_token = float('inf'), float('-inf')\n",
        "for sample in train_data_loader:\n",
        "  last_hidden = sample['last_hidden']\n",
        "  token = last_hidden.flatten().tolist()\n",
        "  min_token, max_token = min(min_token, min(token)), max(max_token, max(token))\n",
        "print(\"Range of token values:\", min_token, 'to', max_token)\n"
      ],
      "metadata": {
        "id": "6cVEH5YhkYUQ",
        "colab": {
          "base_uri": "https://localhost:8080/"
        },
        "outputId": "5aa3e144-dbe5-4867-be88-090a52425015"
      },
      "outputs": [
        {
          "output_type": "stream",
          "name": "stdout",
          "text": [
            "Range of token values: -9.89176082611084 to 7.872392177581787\n"
          ]
        }
      ],
      "execution_count": null
    },
    {
      "cell_type": "markdown",
      "source": [
        "Firstly, the tokenizer is initialized by pretrained BERT.\n",
        "Then it converts text into numerical tokens that BERT can understand.\n",
        "After that, the tokenized IDs are fed into BERT to generate embeddings.\n",
        "So by extracting the last hidden state from precomputed embeddings, we can convert it into token values."
      ],
      "metadata": {
        "id": "QJPHcDOUlSod"
      }
    },
    {
      "cell_type": "code",
      "source": [
        "# Histograms\n",
        "tokens = []\n",
        "for sample in train_data_loader:\n",
        "  last_hidden = sample['last_hidden'].flatten().tolist()\n",
        "  tokens.extend(last_hidden)\n",
        "plt.hist(tokens, bins=100, alpha=0.5)\n",
        "plt.xlabel(\"Token values\")\n",
        "plt.ylabel(\"Frequency\")\n",
        "plt.title(\"Training Data\")\n",
        "plt.show()\n",
        "\n",
        "tokens = []\n",
        "for sample in valid_data_loader:\n",
        "  last_hidden = sample['last_hidden'].flatten().tolist()\n",
        "  tokens.extend(last_hidden)\n",
        "plt.hist(tokens, bins=100, alpha=0.5)\n",
        "plt.xlabel(\"Token values\")\n",
        "plt.ylabel(\"Frequency\")\n",
        "plt.title(\"Validation Data\")\n",
        "plt.show()\n",
        "\n",
        "tokens = []\n",
        "for sample in test_data_loader:\n",
        "  last_hidden = sample['last_hidden'].flatten().tolist()\n",
        "  tokens.extend(last_hidden)\n",
        "plt.hist(tokens, bins=100, alpha=0.5)\n",
        "plt.xlabel(\"Token values\")\n",
        "plt.ylabel(\"Frequency\")\n",
        "plt.title(\"Test Data\")\n",
        "plt.show()\n"
      ],
      "metadata": {
        "id": "HTZdkR7ukhRg",
        "colab": {
          "base_uri": "https://localhost:8080/"
        },
        "outputId": "b6e72c0e-74fc-4969-de32-1f64c7243f31"
      },
      "outputs": [
        {
          "output_type": "stream",
          "name": "stderr",
          "text": [
            "/usr/local/lib/python3.11/dist-packages/torch/utils/data/dataloader.py:624: UserWarning: This DataLoader will create 4 worker processes in total. Our suggested max number of worker in current system is 2, which is smaller than what this DataLoader is going to create. Please be aware that excessive worker creation might get DataLoader running slow or even freeze, lower the worker number to avoid potential slowness/freeze if necessary.\n",
            "  warnings.warn(\n"
          ]
        }
      ],
      "execution_count": null
    },
    {
      "cell_type": "code",
      "source": [
        "from collections import Counter\n",
        "\n",
        "token_counter = Counter()\n",
        "for text in df_train['review'].values:\n",
        "  tokens = tokenizer.tokenize(text)\n",
        "  token_counter.update(tokens)\n",
        "top_5_tokens = token_counter.most_common(5)\n",
        "print(\"Top 5 occurring tokens:\")\n",
        "for token, count in top_5_tokens:\n",
        "  print(f\"Token: {token}, Count: {count}\")\n"
      ],
      "metadata": {
        "colab": {
          "base_uri": "https://localhost:8080/"
        },
        "id": "iGZWFKQCWWPC",
        "outputId": "e57d5b43-5d25-4282-8d0c-1362320f1908"
      },
      "execution_count": null,
      "outputs": [
        {
          "output_type": "stream",
          "name": "stdout",
          "text": [
            "Top 5 occurring tokens:\n",
            "Token: ., Count: 209365\n",
            "Token: the, Count: 186465\n",
            "Token: ,, Count: 175761\n",
            "Token: a, Count: 101229\n",
            "Token: and, Count: 100162\n"
          ]
        }
      ]
    },
    {
      "cell_type": "markdown",
      "source": [
        "Top 5 occuring tokens are printed above.\n",
        "They are either punctuation marks or empty words that are most commonly used,\n",
        " but might have little use for sentiment analysis."
      ],
      "metadata": {
        "id": "MtVA5RO-lb0Y"
      }
    },
    {
      "cell_type": "code",
      "source": [
        "for sample in train_data_loader:\n",
        "  print(\"Pooled Output:\", sample['pooled_output'].shape)\n",
        "  print(\"Pooled Output:\", sample['pooled_output'])\n",
        "  print(\"Last Hidden:\", sample['last_hidden'].shape)\n",
        "  print(\"Last Hidden:\", sample['last_hidden'])\n",
        "  break\n"
      ],
      "metadata": {
        "id": "1HOknY9Ncai9",
        "colab": {
          "base_uri": "https://localhost:8080/"
        },
        "outputId": "a5309f5f-44e4-4390-ee34-57d351c1356d"
      },
      "outputs": [
        {
          "output_type": "stream",
          "name": "stdout",
          "text": [
            "Pooled Output: torch.Size([32, 768])\n",
            "Pooled Output: tensor([[-0.6604,  0.2984,  0.9997,  ...,  0.9999, -0.8279,  0.9786],\n",
            "        [-0.6063,  0.2938,  0.9995,  ...,  0.9999, -0.6413,  0.9814],\n",
            "        [-0.2810,  0.2217,  0.9963,  ...,  0.9992, -0.9338,  0.9577],\n",
            "        ...,\n",
            "        [-0.7672,  0.4464,  0.9999,  ...,  1.0000, -0.3439,  0.9821],\n",
            "        [-0.7146,  0.4268,  0.9997,  ...,  0.9999, -0.3357,  0.9761],\n",
            "        [-0.8178,  0.4087,  0.9998,  ...,  0.9999, -0.0922,  0.9777]])\n",
            "Last Hidden: torch.Size([32, 400, 768])\n",
            "Last Hidden: tensor([[[ 5.2496e-01,  6.0587e-02, -1.5166e-01,  ..., -1.7546e-01,\n",
            "           3.1312e-01,  1.4122e-01],\n",
            "         [ 1.4004e-01, -5.5314e-01,  3.0105e-01,  ..., -1.6027e-01,\n",
            "           2.5123e-01,  2.2539e-01],\n",
            "         [ 2.2665e-01, -4.7405e-02,  7.4681e-02,  ...,  3.6010e-01,\n",
            "           3.4568e-01, -1.6381e-01],\n",
            "         ...,\n",
            "         [ 1.3595e-02,  2.0125e-01, -1.8064e-01,  ...,  1.2063e-01,\n",
            "          -6.3830e-02,  4.6668e-01],\n",
            "         [ 7.9451e-02,  2.9889e-01, -1.4208e-01,  ...,  1.0811e-02,\n",
            "           6.8588e-02,  3.4992e-01],\n",
            "         [ 1.9704e-02,  2.8714e-01, -1.7145e-01,  ...,  1.0103e-02,\n",
            "           9.1863e-03,  1.7182e-01]],\n",
            "\n",
            "        [[ 4.6694e-01,  6.0505e-02, -4.0743e-01,  ..., -2.5357e-01,\n",
            "           2.9976e-01,  2.3912e-01],\n",
            "         [ 1.3496e-01, -4.8200e-01,  3.9021e-01,  ..., -2.7310e-01,\n",
            "           2.8170e-01, -2.0073e-01],\n",
            "         [ 5.8915e-02,  2.2730e-01,  2.4348e-01,  ..., -3.5084e-02,\n",
            "           9.5476e-02, -6.4859e-01],\n",
            "         ...,\n",
            "         [ 2.2526e-01, -2.6021e-01,  4.3489e-02,  ...,  4.0572e-01,\n",
            "           4.4263e-01,  7.6004e-02],\n",
            "         [ 8.2281e-01, -4.9252e-01, -1.9398e-02,  ...,  4.3419e-01,\n",
            "          -1.7509e-01,  2.1838e-01],\n",
            "         [ 2.5801e-01,  4.9759e-01, -3.1672e-01,  ...,  8.1466e-01,\n",
            "          -4.7952e-01,  1.2752e-01]],\n",
            "\n",
            "        [[ 5.5185e-01,  7.0284e-02, -5.8462e-02,  ..., -2.9664e-01,\n",
            "          -5.9976e-02,  2.0629e-03],\n",
            "         [ 1.3791e-01, -6.4540e-01,  2.6851e-01,  ..., -1.7442e-01,\n",
            "           5.2479e-02, -8.6904e-02],\n",
            "         [-4.8865e-01, -2.6028e-01,  6.8626e-02,  ..., -5.6721e-02,\n",
            "          -1.8785e-01, -9.0749e-01],\n",
            "         ...,\n",
            "         [ 2.6140e-01,  2.2479e-01,  1.2805e-02,  ...,  1.0116e-01,\n",
            "           1.1603e-01,  2.1275e-01],\n",
            "         [ 1.7795e-01,  2.1158e-01, -1.3339e-01,  ...,  1.4244e-01,\n",
            "           7.1891e-02,  1.6758e-01],\n",
            "         [ 1.3013e-01,  2.0945e-01, -8.2142e-02,  ...,  1.5287e-01,\n",
            "           4.5465e-02,  1.7108e-01]],\n",
            "\n",
            "        ...,\n",
            "\n",
            "        [[ 9.0100e-01, -2.4021e-01, -1.4384e-01,  ..., -1.7792e-01,\n",
            "           1.6585e-01,  1.8858e-01],\n",
            "         [ 3.6885e-01, -6.8566e-01,  5.4430e-01,  ..., -5.0391e-02,\n",
            "           4.7120e-01,  2.0516e-01],\n",
            "         [ 3.4637e-01,  1.3811e-01,  2.8231e-01,  ...,  7.0625e-01,\n",
            "           3.4089e-01, -7.0206e-02],\n",
            "         ...,\n",
            "         [-2.8416e-02,  2.2596e-01, -8.7025e-02,  ...,  2.5758e-01,\n",
            "           1.6077e-01, -7.6891e-03],\n",
            "         [ 1.3717e-01,  1.3307e-01, -9.0117e-02,  ...,  3.1212e-01,\n",
            "           4.0517e-01,  4.7463e-02],\n",
            "         [-1.7690e-01,  2.5295e-01, -1.1609e-01,  ...,  4.3090e-01,\n",
            "           2.6350e-01, -3.2259e-02]],\n",
            "\n",
            "        [[ 3.0397e-01, -8.8267e-02, -2.3288e-01,  ..., -1.5303e-01,\n",
            "           2.1823e-01,  2.0097e-01],\n",
            "         [ 2.7866e-01, -6.6930e-01,  5.3529e-01,  ..., -1.3621e-01,\n",
            "          -7.3703e-02,  2.8094e-02],\n",
            "         [-1.3240e-01, -3.2864e-01,  3.7849e-01,  ...,  1.5135e-01,\n",
            "           9.1448e-02,  1.2315e-01],\n",
            "         ...,\n",
            "         [ 6.9207e-01, -3.9032e-01, -6.3364e-01,  ...,  6.3209e-01,\n",
            "          -1.0001e+00,  1.0034e+00],\n",
            "         [ 5.9183e-01,  2.4892e-01, -5.5784e-01,  ..., -5.8993e-01,\n",
            "          -1.4307e-01,  1.3232e+00],\n",
            "         [ 4.7510e-01,  5.7958e-01, -1.4418e-01,  ...,  8.1387e-01,\n",
            "          -5.9919e-01,  3.6953e-01]],\n",
            "\n",
            "        [[ 4.4136e-01,  1.3020e-01, -2.2821e-01,  ..., -5.3767e-02,\n",
            "           4.9554e-01,  4.6811e-01],\n",
            "         [ 4.5043e-01, -5.1266e-01,  2.2207e-01,  ..., -1.5447e-01,\n",
            "           8.3895e-02, -7.8160e-02],\n",
            "         [ 1.1253e+00, -9.3714e-01,  1.2673e-01,  ...,  3.0634e-01,\n",
            "          -4.3351e-01,  8.9740e-01],\n",
            "         ...,\n",
            "         [-3.3915e-02,  9.6231e-03,  7.4520e-02,  ...,  8.8188e-02,\n",
            "           2.5688e-01,  1.4849e-01],\n",
            "         [-4.2565e-02,  2.6604e-01, -2.6309e-02,  ...,  5.4183e-02,\n",
            "           2.6919e-01,  3.7053e-01],\n",
            "         [-4.8302e-02,  2.4316e-01, -5.6783e-04,  ...,  9.0109e-02,\n",
            "           2.5228e-01,  2.9433e-01]]])\n"
          ]
        }
      ],
      "execution_count": null
    },
    {
      "cell_type": "markdown",
      "source": [
        "pooled_output: [batch_size, hidden_size]\n",
        "last_hidden: [batch_size, sequence_length, hidden_size]\n",
        "Batch size and sequence length are defined in advance and can be modified by us.\n",
        "Hidden size is determined by the characteristic of BERT, which is fixed (768)."
      ],
      "metadata": {
        "id": "nanlO7CWliFR"
      }
    },
    {
      "cell_type": "code",
      "source": [
        "class BaselineSentimentClassifierPooled(nn.Module):\n",
        "    def __init__(self, n_classes):\n",
        "        super(BaselineSentimentClassifierPooled, self).__init__()\n",
        "        self.linear = nn.Linear(768, n_classes)\n",
        "\n",
        "    def forward(self, pooled_embedding):\n",
        "        outputs = self.linear(pooled_embedding)\n",
        "        return outputs\n"
      ],
      "metadata": {
        "id": "gNDd-010GSnM"
      },
      "execution_count": null,
      "outputs": []
    },
    {
      "cell_type": "code",
      "source": [
        "class SentimentClassifierPooled(nn.Module):\n",
        "\n",
        "  def __init__(self, n_classes):\n",
        "    super(SentimentClassifierPooled, self).__init__()\n",
        "\n",
        "    self.fc1 = nn.Linear(768, 256)\n",
        "    self.relu = nn.ReLU()\n",
        "    self.dropout = nn.Dropout(0.1)\n",
        "    self.fc2 = nn.Linear(256, n_classes)\n",
        "\n",
        "  def forward(self, pooled_embedding):\n",
        "\n",
        "    x = self.fc1(pooled_embedding)\n",
        "    x = self.relu(x)\n",
        "    x = self.dropout(x)\n",
        "    outputs = self.fc2(x)\n",
        "\n",
        "    return outputs\n"
      ],
      "metadata": {
        "id": "kAISbN5VexqS"
      },
      "outputs": [],
      "execution_count": null
    },
    {
      "cell_type": "code",
      "source": [
        "class BaselineSentimentClassifierLast(nn.Module):\n",
        "    def __init__(self, n_classes):\n",
        "        super(BaselineSentimentClassifierLast, self).__init__()\n",
        "\n",
        "        self.linear = nn.Linear(768, n_classes)\n",
        "\n",
        "\n",
        "    def forward(self, last_hidden):\n",
        "\n",
        "        x, _ = torch.max(last_hidden, dim=1)\n",
        "        x = self.dropout(x)\n",
        "        outputs = self.linear(x)\n",
        "        return outputs\n"
      ],
      "metadata": {
        "id": "pqDKQse6H-Y6"
      },
      "execution_count": null,
      "outputs": []
    },
    {
      "cell_type": "code",
      "source": [
        "class SentimentClassifierLast(nn.Module):\n",
        "\n",
        "  def __init__(self, n_classes):\n",
        "    super(SentimentClassifierLast, self).__init__()\n",
        "\n",
        "    self.fc1 = nn.Linear(768, 256)\n",
        "    self.relu = nn.ReLU()\n",
        "    self.dropout = nn.Dropout(0.1)\n",
        "    self.fc2 = nn.Linear(256, n_classes)\n",
        "\n",
        "\n",
        "  def forward(self, last_hidden):\n",
        "\n",
        "    x, _ = torch.max(last_hidden, dim=1)\n",
        "    x = self.fc1(x)\n",
        "    x = self.relu(x)\n",
        "    x = self.dropout(x)\n",
        "    outputs = self.fc2(x)\n",
        "\n",
        "    return outputs"
      ],
      "metadata": {
        "id": "Q34oWGhoe38H"
      },
      "outputs": [],
      "execution_count": null
    },
    {
      "cell_type": "code",
      "metadata": {
        "id": "LC89f2i7iYZl"
      },
      "source": [
        "def get_accuracy(model, data_loader, device, use_pooled=True):\n",
        "    \"\"\" Compute the accuracy of the `model` across a dataset `data`\n",
        "\n",
        "    Example usage:\n",
        "\n",
        "    >>> model = MyRNN() # to be defined\n",
        "    >>> get_accuracy(model, valid_loader) # the variable `valid_loader` is from above\n",
        "    \"\"\"\n",
        "\n",
        "    correct, total = 0, 0\n",
        "    model.eval()\n",
        "    with torch.no_grad():\n",
        "      for batch in data_loader:\n",
        "        data = batch[\"pooled_output\" if use_pooled else \"last_hidden\"].to(device)\n",
        "        target = batch[\"targets\"].to(device)\n",
        "        output = model(data)\n",
        "        pred = output.max(1, keepdim=True)[1]\n",
        "        correct += pred.eq(target.view_as(pred)).sum().item()\n",
        "        total += target.shape[0]\n",
        "    return correct / total\n"
      ],
      "outputs": [],
      "execution_count": null
    },
    {
      "cell_type": "code",
      "metadata": {
        "id": "wuqypAPxiYZm"
      },
      "source": [
        "# Model training\n",
        "\n",
        "def train_model(model, train_loader, valid_loader, num_epochs=5, learning_rate=1e-5, use_pooled=True):\n",
        "\n",
        "    device = torch.device(\"cuda\" if torch.cuda.is_available() else \"cpu\")\n",
        "    model = model.to(device)\n",
        "\n",
        "    criterion = nn.CrossEntropyLoss()\n",
        "    optimizer = torch.optim.Adam(model.parameters(), lr=learning_rate)\n",
        "    train_losses, valid_losses, train_acc, valid_acc = [], [], [], []\n",
        "\n",
        "    for epoch in range(num_epochs):\n",
        "        model.train()\n",
        "        train_loss = 0\n",
        "        for batch in train_loader:\n",
        "            data = batch['pooled_output' if use_pooled else 'last_hidden'].to(device)\n",
        "            target = batch['targets'].to(device)\n",
        "            optimizer.zero_grad()\n",
        "            pred = model(data)\n",
        "            loss = criterion(pred, target.long())\n",
        "            train_loss += loss.item()\n",
        "            loss.backward()\n",
        "            optimizer.step()\n",
        "        train_losses.append(train_loss/len(train_loader))\n",
        "\n",
        "        model.eval()\n",
        "        valid_loss = 0\n",
        "        with torch.no_grad():\n",
        "            for batch in valid_loader:\n",
        "                data = batch['pooled_output' if use_pooled else 'last_hidden'].to(device)\n",
        "                target = batch['targets'].to(device)\n",
        "                pred = model(data)\n",
        "                loss = criterion(pred, target.long())\n",
        "                valid_loss += loss.item()\n",
        "        valid_losses.append(valid_loss/len(valid_loader))\n",
        "\n",
        "        train_acc.append(get_accuracy(model, train_loader, device, use_pooled))\n",
        "        valid_acc.append(get_accuracy(model, valid_loader, device, use_pooled))\n",
        "        print(\"Epoch %d; Train Loss %f; Val Loss %f; Train Acc %f; Val Acc %f\" % (\n",
        "            epoch+1, train_losses[-1], valid_losses[-1], train_acc[-1], valid_acc[-1]))\n",
        "\n",
        "        # model weights saving\n",
        "        if epoch == 9:\n",
        "            torch.save(model.state_dict(), 'A4-BERT-Yutian_Mei-1010584529.pth')\n",
        "\n",
        "    # plotting\n",
        "    plt.title(\"Loss Curve\")\n",
        "    plt.plot(train_losses, label=\"Train\")\n",
        "    plt.plot(valid_losses, label=\"Validation\")\n",
        "    plt.xlabel(\"Epoch\")\n",
        "    plt.ylabel(\"Loss\")\n",
        "    plt.legend(loc='best')\n",
        "    plt.show()\n",
        "\n",
        "    plt.title(\"Accuracy Curve\")\n",
        "    plt.plot(train_acc, label=\"Train\")\n",
        "    plt.plot(valid_acc, label=\"Validation\")\n",
        "    plt.xlabel(\"Epoch\")\n",
        "    plt.ylabel(\"Accuracy\")\n",
        "    plt.legend(loc='best')\n",
        "    plt.show()\n"
      ],
      "outputs": [],
      "execution_count": null
    },
    {
      "cell_type": "code",
      "source": [
        "model_last = SentimentClassifierLast(n_classes=2)\n",
        "train_model(model_last, train_data_loader, valid_data_loader, num_epochs=20, learning_rate=1e-4, use_pooled=False)"
      ],
      "metadata": {
        "colab": {
          "base_uri": "https://localhost:8080/",
          "height": 1000
        },
        "id": "dYLO-KCb_g9a",
        "outputId": "05e62459-db8b-4092-b71b-07b6bc36bd65"
      },
      "execution_count": null,
      "outputs": [
        {
          "output_type": "stream",
          "name": "stderr",
          "text": [
            "/usr/local/lib/python3.11/dist-packages/torch/utils/data/dataloader.py:624: UserWarning: This DataLoader will create 4 worker processes in total. Our suggested max number of worker in current system is 2, which is smaller than what this DataLoader is going to create. Please be aware that excessive worker creation might get DataLoader running slow or even freeze, lower the worker number to avoid potential slowness/freeze if necessary.\n",
            "  warnings.warn(\n"
          ]
        },
        {
          "output_type": "stream",
          "name": "stdout",
          "text": [
            "Epoch 1; Train Loss 0.673322; Val Loss 0.642478; Train Acc 0.671937; Val Acc 0.665167\n",
            "Epoch 2; Train Loss 0.618763; Val Loss 0.610576; Train Acc 0.632812; Val Acc 0.631917\n",
            "Epoch 3; Train Loss 0.561783; Val Loss 0.577509; Train Acc 0.682500; Val Acc 0.673500\n",
            "Epoch 4; Train Loss 0.520313; Val Loss 0.570598; Train Acc 0.692438; Val Acc 0.681417\n",
            "Epoch 5; Train Loss 0.491889; Val Loss 0.529883; Train Acc 0.736938; Val Acc 0.728250\n",
            "Epoch 6; Train Loss 0.473113; Val Loss 0.521661; Train Acc 0.746000; Val Acc 0.735167\n",
            "Epoch 7; Train Loss 0.460472; Val Loss 0.504194; Train Acc 0.760375; Val Acc 0.749167\n",
            "Epoch 8; Train Loss 0.452263; Val Loss 0.503885; Train Acc 0.762563; Val Acc 0.751250\n",
            "Epoch 9; Train Loss 0.444480; Val Loss 0.485265; Train Acc 0.778563; Val Acc 0.765750\n",
            "Epoch 10; Train Loss 0.439750; Val Loss 0.494449; Train Acc 0.771687; Val Acc 0.759750\n",
            "Epoch 11; Train Loss 0.436391; Val Loss 0.479841; Train Acc 0.783312; Val Acc 0.771167\n",
            "Epoch 12; Train Loss 0.431242; Val Loss 0.479158; Train Acc 0.784125; Val Acc 0.771750\n",
            "Epoch 13; Train Loss 0.429199; Val Loss 0.475598; Train Acc 0.788188; Val Acc 0.773500\n",
            "Epoch 14; Train Loss 0.427243; Val Loss 0.473459; Train Acc 0.789188; Val Acc 0.776333\n",
            "Epoch 15; Train Loss 0.426368; Val Loss 0.468977; Train Acc 0.792937; Val Acc 0.778250\n",
            "Epoch 16; Train Loss 0.423728; Val Loss 0.464530; Train Acc 0.796438; Val Acc 0.779833\n",
            "Epoch 17; Train Loss 0.422865; Val Loss 0.470173; Train Acc 0.794000; Val Acc 0.777250\n",
            "Epoch 18; Train Loss 0.420304; Val Loss 0.459252; Train Acc 0.799562; Val Acc 0.783167\n",
            "Epoch 19; Train Loss 0.420642; Val Loss 0.466705; Train Acc 0.796000; Val Acc 0.779333\n",
            "Epoch 20; Train Loss 0.420271; Val Loss 0.456221; Train Acc 0.802063; Val Acc 0.784833\n"
          ]
        },
        {
          "output_type": "display_data",
          "data": {
            "text/plain": [
              "<Figure size 640x480 with 1 Axes>"
            ],
            "image/png": "[encoded data removed]"
          },
          "metadata": {}
        },
        {
          "output_type": "display_data",
          "data": {
            "text/plain": [
              "<Figure size 640x480 with 1 Axes>"
            ],
            "image/png": "[encoded data removed]"
          },
          "metadata": {}
        }
      ]
    },
    {
      "cell_type": "code",
      "source": [
        "# Hyperparameters tuning\n",
        "\n",
        "model_pooled = SentimentClassifierPooled(n_classes=2)\n",
        "train_model(model_pooled, train_data_loader, valid_data_loader, num_epochs=10, learning_rate=1e-4, use_pooled=True)"
      ],
      "metadata": {
        "colab": {
          "base_uri": "https://localhost:8080/",
          "height": 1000
        },
        "id": "oMwHyMWZzLvA",
        "outputId": "93b27a52-e1cd-4607-bcdf-2816c66cb9bd"
      },
      "execution_count": null,
      "outputs": [
        {
          "output_type": "stream",
          "name": "stderr",
          "text": [
            "/usr/local/lib/python3.11/dist-packages/torch/utils/data/dataloader.py:624: UserWarning: This DataLoader will create 4 worker processes in total. Our suggested max number of worker in current system is 2, which is smaller than what this DataLoader is going to create. Please be aware that excessive worker creation might get DataLoader running slow or even freeze, lower the worker number to avoid potential slowness/freeze if necessary.\n",
            "  warnings.warn(\n"
          ]
        },
        {
          "output_type": "stream",
          "name": "stdout",
          "text": [
            "Epoch 1; Train Loss 0.640366; Val Loss 0.608566; Train Acc 0.675625; Val Acc 0.677917\n",
            "Epoch 2; Train Loss 0.585437; Val Loss 0.574606; Train Acc 0.709375; Val Acc 0.702083\n",
            "Epoch 3; Train Loss 0.557534; Val Loss 0.548848; Train Acc 0.728938; Val Acc 0.721917\n",
            "Epoch 4; Train Loss 0.537973; Val Loss 0.530760; Train Acc 0.743375; Val Acc 0.737667\n",
            "Epoch 5; Train Loss 0.523957; Val Loss 0.520185; Train Acc 0.751500; Val Acc 0.746333\n",
            "Epoch 6; Train Loss 0.513674; Val Loss 0.510232; Train Acc 0.756875; Val Acc 0.751750\n",
            "Epoch 7; Train Loss 0.507089; Val Loss 0.501150; Train Acc 0.762875; Val Acc 0.760500\n",
            "Epoch 8; Train Loss 0.502386; Val Loss 0.499801; Train Acc 0.763625; Val Acc 0.762167\n",
            "Epoch 9; Train Loss 0.497539; Val Loss 0.492462; Train Acc 0.768750; Val Acc 0.766583\n",
            "Epoch 10; Train Loss 0.493351; Val Loss 0.489904; Train Acc 0.769437; Val Acc 0.768333\n"
          ]
        },
        {
          "output_type": "display_data",
          "data": {
            "text/plain": [
              "<Figure size 640x480 with 1 Axes>"
            ],
            "image/png": "[encoded data removed]"
          },
          "metadata": {}
        },
        {
          "output_type": "display_data",
          "data": {
            "text/plain": [
              "<Figure size 640x480 with 1 Axes>"
            ],
            "image/png": "[encoded data removed]"
          },
          "metadata": {}
        }
      ]
    },
    {
      "cell_type": "markdown",
      "source": [
        "I tried to tune a couple of different hyperparameters above.\n",
        "But as the training time was far too long (2hrs for 10 epochs), I could not reach the best possible results.\n",
        "SentimentClassifierPooled and SentimentClassifierLast after 10 epochs of training have achieved similar accuracy.\n",
        "While the former is a little bit higher on validation set, I have chosen and saved it as the BERT model in this part.\n",
        "The hyperparameters are chosen as follows:\n",
        "Learning rate: 1e-4.\n",
        " Further decreasing will result in slower convergence, while further increasing will result in unstable training.\n",
        "Epoch: 10.\n",
        " We can see that validation loss and accuracy has become stable after around 10 epochs.\n",
        " Less epochs will result in underfitting, while more epochs will result in overfitting.\n",
        "Batch size: 32.\n",
        " Smaller batch size will result in longer training time, while larger batch size will result in worse generalization.\n",
        "Hidden size: 256.\n",
        " Larger hidden size will likely to result in overfitting and increase training time, while smaller hidden size will decrease accuracy.\n",
        " As the input size is 768, decreasing it into a little less than half is a proper choice."
      ],
      "metadata": {
        "id": "eF00X1PMl_KG"
      }
    },
    {
      "cell_type": "code",
      "source": [
        "# Final test accuracy\n",
        "model = SentimentClassifierPooled(n_classes=2)\n",
        "model.load_state_dict(torch.load('A4-BERT-Yutian_Mei-1010584529.pth'))\n",
        "model.eval()\n",
        "device = torch.device(\"cpu\")\n",
        "test_accuracy = get_accuracy(model, test_data_loader, device, use_pooled=True)\n",
        "print(f\"Test Accuracy: {test_accuracy:.4f}\")\n"
      ],
      "metadata": {
        "id": "AoweZb8i2cRb",
        "colab": {
          "base_uri": "https://localhost:8080/"
        },
        "outputId": "8de57677-2d1f-4b14-8300-48a6c0fa370b"
      },
      "outputs": [
        {
          "output_type": "stream",
          "name": "stdout",
          "text": [
            "Test Accuracy: 0.7693\n"
          ]
        }
      ],
      "execution_count": null
    },
    {
      "cell_type": "code",
      "source": [
        "accs = {\n",
        "  'Model': ['RNN', 'RNN', 'RNN', 'BERT', 'BERT', 'BERT'],\n",
        "  'Dataset': ['Training', 'Validation', 'Test', 'Training', 'Validation', 'Test'],\n",
        "  'Accuracy': [0.8568, 0.8344, 0.8330, 0.7694, 0.7683, 0.7693]\n",
        "}\n",
        "df_accs = pd.DataFrame(accs)\n",
        "df_accs"
      ],
      "metadata": {
        "colab": {
          "base_uri": "https://localhost:8080/",
          "height": 237
        },
        "id": "dhDQT_eauU1z",
        "outputId": "d960567a-75ca-4dcd-a6f4-67209092f26f"
      },
      "execution_count": null,
      "outputs": [
        {
          "output_type": "execute_result",
          "data": {
            "text/plain": [
              "  Model     Dataset  Accuracy\n",
              "0   RNN    Training    0.8568\n",
              "1   RNN  Validation    0.8344\n",
              "2   RNN        Test    0.8330\n",
              "3  BERT    Training    0.7694\n",
              "4  BERT  Validation    0.7683\n",
              "5  BERT        Test    0.7693"
            ],
            "text/html": [
              "\n",
              "  <div id=\"df-b9742e96-214e-44df-b488-b413ed3f5ac1\" class=\"colab-df-container\">\n",
              "    <div>\n",
              "<style scoped>\n",
              "    .dataframe tbody tr th:only-of-type {\n",
              "        vertical-align: middle;\n",
              "    }\n",
              "\n",
              "    .dataframe tbody tr th {\n",
              "        vertical-align: top;\n",
              "    }\n",
              "\n",
              "    .dataframe thead th {\n",
              "        text-align: right;\n",
              "    }\n",
              "</style>\n",
              "<table border=\"1\" class=\"dataframe\">\n",
              "  <thead>\n",
              "    <tr style=\"text-align: right;\">\n",
              "      <th></th>\n",
              "      <th>Model</th>\n",
              "      <th>Dataset</th>\n",
              "      <th>Accuracy</th>\n",
              "    </tr>\n",
              "  </thead>\n",
              "  <tbody>\n",
              "    <tr>\n",
              "      <th>0</th>\n",
              "      <td>RNN</td>\n",
              "      <td>Training</td>\n",
              "      <td>0.8568</td>\n",
              "    </tr>\n",
              "    <tr>\n",
              "      <th>1</th>\n",
              "      <td>RNN</td>\n",
              "      <td>Validation</td>\n",
              "      <td>0.8344</td>\n",
              "    </tr>\n",
              "    <tr>\n",
              "      <th>2</th>\n",
              "      <td>RNN</td>\n",
              "      <td>Test</td>\n",
              "      <td>0.8330</td>\n",
              "    </tr>\n",
              "    <tr>\n",
              "      <th>3</th>\n",
              "      <td>BERT</td>\n",
              "      <td>Training</td>\n",
              "      <td>0.7694</td>\n",
              "    </tr>\n",
              "    <tr>\n",
              "      <th>4</th>\n",
              "      <td>BERT</td>\n",
              "      <td>Validation</td>\n",
              "      <td>0.7683</td>\n",
              "    </tr>\n",
              "    <tr>\n",
              "      <th>5</th>\n",
              "      <td>BERT</td>\n",
              "      <td>Test</td>\n",
              "      <td>0.7693</td>\n",
              "    </tr>\n",
              "  </tbody>\n",
              "</table>\n",
              "</div>\n",
              "    <div class=\"colab-df-buttons\">\n",
              "\n",
              "  <div class=\"colab-df-container\">\n",
              "    <button class=\"colab-df-convert\" onclick=\"convertToInteractive('df-b9742e96-214e-44df-b488-b413ed3f5ac1')\"\n",
              "            title=\"Convert this dataframe to an interactive table.\"\n",
              "            style=\"display:none;\">\n",
              "\n",
              "  <svg xmlns=\"http://www.w3.org/2000/svg\" height=\"24px\" viewBox=\"0 -960 960 960\">\n",
              "    <path d=\"M120-120v-720h720v720H120Zm60-500h600v-160H180v160Zm220 220h160v-160H400v160Zm0 220h160v-160H400v160ZM180-400h160v-160H180v160Zm440 0h160v-160H620v160ZM180-180h160v-160H180v160Zm440 0h160v-160H620v160Z\"/>\n",
              "  </svg>\n",
              "    </button>\n",
              "\n",
              "  <style>\n",
              "    .colab-df-container {\n",
              "      display:flex;\n",
              "      gap: 12px;\n",
              "    }\n",
              "\n",
              "    .colab-df-convert {\n",
              "      background-color: #E8F0FE;\n",
              "      border: none;\n",
              "      border-radius: 50%;\n",
              "      cursor: pointer;\n",
              "      display: none;\n",
              "      fill: #1967D2;\n",
              "      height: 32px;\n",
              "      padding: 0 0 0 0;\n",
              "      width: 32px;\n",
              "    }\n",
              "\n",
              "    .colab-df-convert:hover {\n",
              "      background-color: #E2EBFA;\n",
              "      box-shadow: 0px 1px 2px rgba(60, 64, 67, 0.3), 0px 1px 3px 1px rgba(60, 64, 67, 0.15);\n",
              "      fill: #174EA6;\n",
              "    }\n",
              "\n",
              "    .colab-df-buttons div {\n",
              "      margin-bottom: 4px;\n",
              "    }\n",
              "\n",
              "    [theme=dark] .colab-df-convert {\n",
              "      background-color: #3B4455;\n",
              "      fill: #D2E3FC;\n",
              "    }\n",
              "\n",
              "    [theme=dark] .colab-df-convert:hover {\n",
              "      background-color: #434B5C;\n",
              "      box-shadow: 0px 1px 3px 1px rgba(0, 0, 0, 0.15);\n",
              "      filter: drop-shadow(0px 1px 2px rgba(0, 0, 0, 0.3));\n",
              "      fill: #FFFFFF;\n",
              "    }\n",
              "  </style>\n",
              "\n",
              "    <script>\n",
              "      const buttonEl =\n",
              "        document.querySelector('#df-b9742e96-214e-44df-b488-b413ed3f5ac1 button.colab-df-convert');\n",
              "      buttonEl.style.display =\n",
              "        google.colab.kernel.accessAllowed ? 'block' : 'none';\n",
              "\n",
              "      async function convertToInteractive(key) {\n",
              "        const element = document.querySelector('#df-b9742e96-214e-44df-b488-b413ed3f5ac1');\n",
              "        const dataTable =\n",
              "          await google.colab.kernel.invokeFunction('convertToInteractive',\n",
              "                                                    [key], {});\n",
              "        if (!dataTable) return;\n",
              "\n",
              "        const docLinkHtml = 'Like what you see? Visit the ' +\n",
              "          '<a target=\"_blank\" href=https://colab.research.google.com/notebooks/data_table.ipynb>data table notebook</a>'\n",
              "          + ' to learn more about interactive tables.';\n",
              "        element.innerHTML = '';\n",
              "        dataTable['output_type'] = 'display_data';\n",
              "        await google.colab.output.renderOutput(dataTable, element);\n",
              "        const docLink = document.createElement('div');\n",
              "        docLink.innerHTML = docLinkHtml;\n",
              "        element.appendChild(docLink);\n",
              "      }\n",
              "    </script>\n",
              "  </div>\n",
              "\n",
              "\n",
              "<div id=\"df-8f74de9c-d2ee-4be2-937d-00c3bf33cedc\">\n",
              "  <button class=\"colab-df-quickchart\" onclick=\"quickchart('df-8f74de9c-d2ee-4be2-937d-00c3bf33cedc')\"\n",
              "            title=\"Suggest charts\"\n",
              "            style=\"display:none;\">\n",
              "\n",
              "<svg xmlns=\"http://www.w3.org/2000/svg\" height=\"24px\"viewBox=\"0 0 24 24\"\n",
              "     width=\"24px\">\n",
              "    <g>\n",
              "        <path d=\"M19 3H5c-1.1 0-2 .9-2 2v14c0 1.1.9 2 2 2h14c1.1 0 2-.9 2-2V5c0-1.1-.9-2-2-2zM9 17H7v-7h2v7zm4 0h-2V7h2v10zm4 0h-2v-4h2v4z\"/>\n",
              "    </g>\n",
              "</svg>\n",
              "  </button>\n",
              "\n",
              "<style>\n",
              "  .colab-df-quickchart {\n",
              "      --bg-color: #E8F0FE;\n",
              "      --fill-color: #1967D2;\n",
              "      --hover-bg-color: #E2EBFA;\n",
              "      --hover-fill-color: #174EA6;\n",
              "      --disabled-fill-color: #AAA;\n",
              "      --disabled-bg-color: #DDD;\n",
              "  }\n",
              "\n",
              "  [theme=dark] .colab-df-quickchart {\n",
              "      --bg-color: #3B4455;\n",
              "      --fill-color: #D2E3FC;\n",
              "      --hover-bg-color: #434B5C;\n",
              "      --hover-fill-color: #FFFFFF;\n",
              "      --disabled-bg-color: #3B4455;\n",
              "      --disabled-fill-color: #666;\n",
              "  }\n",
              "\n",
              "  .colab-df-quickchart {\n",
              "    background-color: var(--bg-color);\n",
              "    border: none;\n",
              "    border-radius: 50%;\n",
              "    cursor: pointer;\n",
              "    display: none;\n",
              "    fill: var(--fill-color);\n",
              "    height: 32px;\n",
              "    padding: 0;\n",
              "    width: 32px;\n",
              "  }\n",
              "\n",
              "  .colab-df-quickchart:hover {\n",
              "    background-color: var(--hover-bg-color);\n",
              "    box-shadow: 0 1px 2px rgba(60, 64, 67, 0.3), 0 1px 3px 1px rgba(60, 64, 67, 0.15);\n",
              "    fill: var(--button-hover-fill-color);\n",
              "  }\n",
              "\n",
              "  .colab-df-quickchart-complete:disabled,\n",
              "  .colab-df-quickchart-complete:disabled:hover {\n",
              "    background-color: var(--disabled-bg-color);\n",
              "    fill: var(--disabled-fill-color);\n",
              "    box-shadow: none;\n",
              "  }\n",
              "\n",
              "  .colab-df-spinner {\n",
              "    border: 2px solid var(--fill-color);\n",
              "    border-color: transparent;\n",
              "    border-bottom-color: var(--fill-color);\n",
              "    animation:\n",
              "      spin 1s steps(1) infinite;\n",
              "  }\n",
              "\n",
              "  @keyframes spin {\n",
              "    0% {\n",
              "      border-color: transparent;\n",
              "      border-bottom-color: var(--fill-color);\n",
              "      border-left-color: var(--fill-color);\n",
              "    }\n",
              "    20% {\n",
              "      border-color: transparent;\n",
              "      border-left-color: var(--fill-color);\n",
              "      border-top-color: var(--fill-color);\n",
              "    }\n",
              "    30% {\n",
              "      border-color: transparent;\n",
              "      border-left-color: var(--fill-color);\n",
              "      border-top-color: var(--fill-color);\n",
              "      border-right-color: var(--fill-color);\n",
              "    }\n",
              "    40% {\n",
              "      border-color: transparent;\n",
              "      border-right-color: var(--fill-color);\n",
              "      border-top-color: var(--fill-color);\n",
              "    }\n",
              "    60% {\n",
              "      border-color: transparent;\n",
              "      border-right-color: var(--fill-color);\n",
              "    }\n",
              "    80% {\n",
              "      border-color: transparent;\n",
              "      border-right-color: var(--fill-color);\n",
              "      border-bottom-color: var(--fill-color);\n",
              "    }\n",
              "    90% {\n",
              "      border-color: transparent;\n",
              "      border-bottom-color: var(--fill-color);\n",
              "    }\n",
              "  }\n",
              "</style>\n",
              "\n",
              "  <script>\n",
              "    async function quickchart(key) {\n",
              "      const quickchartButtonEl =\n",
              "        document.querySelector('#' + key + ' button');\n",
              "      quickchartButtonEl.disabled = true;  // To prevent multiple clicks.\n",
              "      quickchartButtonEl.classList.add('colab-df-spinner');\n",
              "      try {\n",
              "        const charts = await google.colab.kernel.invokeFunction(\n",
              "            'suggestCharts', [key], {});\n",
              "      } catch (error) {\n",
              "        console.error('Error during call to suggestCharts:', error);\n",
              "      }\n",
              "      quickchartButtonEl.classList.remove('colab-df-spinner');\n",
              "      quickchartButtonEl.classList.add('colab-df-quickchart-complete');\n",
              "    }\n",
              "    (() => {\n",
              "      let quickchartButtonEl =\n",
              "        document.querySelector('#df-8f74de9c-d2ee-4be2-937d-00c3bf33cedc button');\n",
              "      quickchartButtonEl.style.display =\n",
              "        google.colab.kernel.accessAllowed ? 'block' : 'none';\n",
              "    })();\n",
              "  </script>\n",
              "</div>\n",
              "\n",
              "  <div id=\"id_884cc741-ad88-420c-99f3-0de59d59a90e\">\n",
              "    <style>\n",
              "      .colab-df-generate {\n",
              "        background-color: #E8F0FE;\n",
              "        border: none;\n",
              "        border-radius: 50%;\n",
              "        cursor: pointer;\n",
              "        display: none;\n",
              "        fill: #1967D2;\n",
              "        height: 32px;\n",
              "        padding: 0 0 0 0;\n",
              "        width: 32px;\n",
              "      }\n",
              "\n",
              "      .colab-df-generate:hover {\n",
              "        background-color: #E2EBFA;\n",
              "        box-shadow: 0px 1px 2px rgba(60, 64, 67, 0.3), 0px 1px 3px 1px rgba(60, 64, 67, 0.15);\n",
              "        fill: #174EA6;\n",
              "      }\n",
              "\n",
              "      [theme=dark] .colab-df-generate {\n",
              "        background-color: #3B4455;\n",
              "        fill: #D2E3FC;\n",
              "      }\n",
              "\n",
              "      [theme=dark] .colab-df-generate:hover {\n",
              "        background-color: #434B5C;\n",
              "        box-shadow: 0px 1px 3px 1px rgba(0, 0, 0, 0.15);\n",
              "        filter: drop-shadow(0px 1px 2px rgba(0, 0, 0, 0.3));\n",
              "        fill: #FFFFFF;\n",
              "      }\n",
              "    </style>\n",
              "    <button class=\"colab-df-generate\" onclick=\"generateWithVariable('df_accs')\"\n",
              "            title=\"Generate code using this dataframe.\"\n",
              "            style=\"display:none;\">\n",
              "\n",
              "  <svg xmlns=\"http://www.w3.org/2000/svg\" height=\"24px\"viewBox=\"0 0 24 24\"\n",
              "       width=\"24px\">\n",
              "    <path d=\"M7,19H8.4L18.45,9,17,7.55,7,17.6ZM5,21V16.75L18.45,3.32a2,2,0,0,1,2.83,0l1.4,1.43a1.91,1.91,0,0,1,.58,1.4,1.91,1.91,0,0,1-.58,1.4L9.25,21ZM18.45,9,17,7.55Zm-12,3A5.31,5.31,0,0,0,4.9,8.1,5.31,5.31,0,0,0,1,6.5,5.31,5.31,0,0,0,4.9,4.9,5.31,5.31,0,0,0,6.5,1,5.31,5.31,0,0,0,8.1,4.9,5.31,5.31,0,0,0,12,6.5,5.46,5.46,0,0,0,6.5,12Z\"/>\n",
              "  </svg>\n",
              "    </button>\n",
              "    <script>\n",
              "      (() => {\n",
              "      const buttonEl =\n",
              "        document.querySelector('#id_884cc741-ad88-420c-99f3-0de59d59a90e button.colab-df-generate');\n",
              "      buttonEl.style.display =\n",
              "        google.colab.kernel.accessAllowed ? 'block' : 'none';\n",
              "\n",
              "      buttonEl.onclick = () => {\n",
              "        google.colab.notebook.generateWithVariable('df_accs');\n",
              "      }\n",
              "      })();\n",
              "    </script>\n",
              "  </div>\n",
              "\n",
              "    </div>\n",
              "  </div>\n"
            ],
            "application/vnd.google.colaboratory.intrinsic+json": {
              "type": "dataframe",
              "variable_name": "df_accs",
              "summary": "{\n  \"name\": \"df_accs\",\n  \"rows\": 6,\n  \"fields\": [\n    {\n      \"column\": \"Model\",\n      \"properties\": {\n        \"dtype\": \"category\",\n        \"num_unique_values\": 2,\n        \"samples\": [\n          \"BERT\",\n          \"RNN\"\n        ],\n        \"semantic_type\": \"\",\n        \"description\": \"\"\n      }\n    },\n    {\n      \"column\": \"Dataset\",\n      \"properties\": {\n        \"dtype\": \"string\",\n        \"num_unique_values\": 3,\n        \"samples\": [\n          \"Training\",\n          \"Validation\"\n        ],\n        \"semantic_type\": \"\",\n        \"description\": \"\"\n      }\n    },\n    {\n      \"column\": \"Accuracy\",\n      \"properties\": {\n        \"dtype\": \"number\",\n        \"std\": 0.040546516496488334,\n        \"min\": 0.7683,\n        \"max\": 0.8568,\n        \"num_unique_values\": 6,\n        \"samples\": [\n          0.8568,\n          0.8344\n        ],\n        \"semantic_type\": \"\",\n        \"description\": \"\"\n      }\n    }\n  ]\n}"
            }
          },
          "metadata": {},
          "execution_count": 14
        }
      ]
    },
    {
      "cell_type": "markdown",
      "source": [
        "The RNN model with GRU in Part A has performed better than the BERT model in Part B in all three datasets.\n",
        "I did not expect these results, as I thought transfer learning would help us achieve higher accuracys.\n",
        "But it is to some extent reasonable as I only runned 10 epochs for the BERT model (it takes too long to train).\n",
        "The performance of BERT model will be likely to further improve with more training time and perhaps better hyperparameters tuning.\n",
        "For both models, test accuracy is close to validation accuracy, which indicates that they have good generalization and are not overfitting."
      ],
      "metadata": {
        "id": "IjCRJhAfmIlc"
      }
    },
    {
      "cell_type": "code",
      "metadata": {
        "id": "vuxLCHhFWw4F",
        "colab": {
          "base_uri": "https://localhost:8080/",
          "height": 237
        },
        "outputId": "97e78e86-017f-4bf7-fc58-24e770e77ebf"
      },
      "source": [
        "# Performance on test set\n",
        "\n",
        "# RNN\n",
        "train_dataset = TensorDataset(torch.Tensor(X_train), torch.Tensor(y_train))\n",
        "valid_dataset = TensorDataset(torch.Tensor(X_valid), torch.Tensor(y_valid))\n",
        "test_dataset = TensorDataset(torch.Tensor(X_test), torch.Tensor(y_test))\n",
        "train_loader = DataLoader(train_dataset, batch_size=32, shuffle=True)\n",
        "valid_loader = DataLoader(valid_dataset, batch_size=32, shuffle=False)\n",
        "test_loader = DataLoader(test_dataset, batch_size=32, shuffle=False)\n",
        "\n",
        "model = SentimentRNN(vocab_size=1001)\n",
        "model.load_state_dict(torch.load('A4-RNN-Yutian_Mei-1010584529.pth'))\n",
        "model.eval()\n",
        "device = torch.device(\"cpu\")\n",
        "fp, fn, tp, tn = 0, 0, 0, 0\n",
        "with torch.no_grad():\n",
        "  for data, target in train_loader:\n",
        "    data, targets = data.to(device), target.to(device)\n",
        "    output = model(data)\n",
        "    _, preds = torch.max(output, dim=1)\n",
        "\n",
        "    tp += torch.sum((preds == 1) & (targets == 1)).item()\n",
        "    fp += torch.sum((preds == 1) & (targets == 0)).item()\n",
        "    tn += torch.sum((preds == 0) & (targets == 0)).item()\n",
        "    fn += torch.sum((preds == 0) & (targets == 1)).item()\n",
        "train_fpr_RNN, train_fnr_RNN = fp / (fp + tn), fn / (fn + tp)\n",
        "\n",
        "fp, fn, tp, tn = 0, 0, 0, 0\n",
        "with torch.no_grad():\n",
        "  for data, target in valid_loader:\n",
        "    data, targets = data.to(device), target.to(device)\n",
        "    output = model(data)\n",
        "    _, preds = torch.max(output, dim=1)\n",
        "\n",
        "    tp += torch.sum((preds == 1) & (targets == 1)).item()\n",
        "    fp += torch.sum((preds == 1) & (targets == 0)).item()\n",
        "    tn += torch.sum((preds == 0) & (targets == 0)).item()\n",
        "    fn += torch.sum((preds == 0) & (targets == 1)).item()\n",
        "valid_fpr_RNN, valid_fnr_RNN = fp / (fp + tn), fn / (fn + tp)\n",
        "\n",
        "fp, fn, tp, tn = 0, 0, 0, 0\n",
        "with torch.no_grad():\n",
        "  for data, target in test_loader:\n",
        "    data, targets = data.to(device), target.to(device)\n",
        "    output = model(data)\n",
        "    _, preds = torch.max(output, dim=1)\n",
        "\n",
        "    tp += torch.sum((preds == 1) & (targets == 1)).item()\n",
        "    fp += torch.sum((preds == 1) & (targets == 0)).item()\n",
        "    tn += torch.sum((preds == 0) & (targets == 0)).item()\n",
        "    fn += torch.sum((preds == 0) & (targets == 1)).item()\n",
        "test_fpr_RNN, test_fnr_RNN = fp / (fp + tn), fn / (fn + tp)\n",
        "\n",
        "# BERT\n",
        "model = SentimentClassifierPooled(n_classes=2)\n",
        "model.load_state_dict(torch.load('A4-BERT-Yutian_Mei-1010584529.pth'))\n",
        "model.eval()\n",
        "device = torch.device(\"cpu\")\n",
        "fp, fn, tp, tn = 0, 0, 0, 0\n",
        "with torch.no_grad():\n",
        "  for batch in train_data_loader:\n",
        "    data = batch['pooled_output'].to(device)\n",
        "    targets = batch['targets'].to(device)\n",
        "    outputs = model(data)\n",
        "    _, preds = torch.max(outputs, dim=1)\n",
        "\n",
        "    tp += torch.sum((preds == 1) & (targets == 1)).item()\n",
        "    fp += torch.sum((preds == 1) & (targets == 0)).item()\n",
        "    tn += torch.sum((preds == 0) & (targets == 0)).item()\n",
        "    fn += torch.sum((preds == 0) & (targets == 1)).item()\n",
        "train_fpr_BERT, train_fnr_BERT = fp / (fp + tn), fn / (fn + tp)\n",
        "\n",
        "fp, fn, tp, tn = 0, 0, 0, 0\n",
        "with torch.no_grad():\n",
        "  for batch in valid_data_loader:\n",
        "    data = batch['pooled_output'].to(device)\n",
        "    targets = batch['targets'].to(device)\n",
        "    outputs = model(data)\n",
        "    _, preds = torch.max(outputs, dim=1)\n",
        "\n",
        "    tp += torch.sum((preds == 1) & (targets == 1)).item()\n",
        "    fp += torch.sum((preds == 1) & (targets == 0)).item()\n",
        "    tn += torch.sum((preds == 0) & (targets == 0)).item()\n",
        "    fn += torch.sum((preds == 0) & (targets == 1)).item()\n",
        "valid_fpr_BERT, valid_fnr_BERT = fp / (fp + tn), fn / (fn + tp)\n",
        "\n",
        "fp, fn, tp, tn = 0, 0, 0, 0\n",
        "with torch.no_grad():\n",
        "  for batch in test_data_loader:\n",
        "    data = batch['pooled_output'].to(device)\n",
        "    targets = batch['targets'].to(device)\n",
        "    outputs = model(data)\n",
        "    _, preds = torch.max(outputs, dim=1)\n",
        "\n",
        "    tp += torch.sum((preds == 1) & (targets == 1)).item()\n",
        "    fp += torch.sum((preds == 1) & (targets == 0)).item()\n",
        "    tn += torch.sum((preds == 0) & (targets == 0)).item()\n",
        "    fn += torch.sum((preds == 0) & (targets == 1)).item()\n",
        "test_fpr_BERT, test_fnr_BERT = fp / (fp + tn), fn / (fn + tp)\n",
        "\n",
        "results = {\n",
        "  'Model - Dataset': ['RNN - Training', 'RNN - Validation', 'RNN - Test', 'BERT - Training', 'BERT - Validation', 'BERT - Test'],\n",
        "  'False Positive Rate': [train_fpr_RNN, valid_fpr_RNN, test_fpr_RNN, train_fpr_BERT, valid_fpr_BERT, test_fpr_BERT],\n",
        "  'False Negative Rate': [train_fnr_RNN, valid_fnr_RNN, test_fnr_RNN, train_fnr_BERT, valid_fnr_BERT, test_fnr_BERT]\n",
        "}\n",
        "df_results = pd.DataFrame(results)\n",
        "df_results"
      ],
      "outputs": [
        {
          "output_type": "execute_result",
          "data": {
            "text/plain": [
              "     Model - Dataset  False Positive Rate  False Negative Rate\n",
              "0     RNN - Training             0.131445             0.154907\n",
              "1   RNN - Validation             0.153732             0.177716\n",
              "2         RNN - Test             0.157908             0.176074\n",
              "3    BERT - Training             0.270852             0.190304\n",
              "4  BERT - Validation             0.271529             0.191911\n",
              "5        BERT - Test             0.268187             0.193059"
            ],
            "text/html": [
              "\n",
              "  <div id=\"df-a0fcdc15-381b-47de-9357-6d8abf77cfff\" class=\"colab-df-container\">\n",
              "    <div>\n",
              "<style scoped>\n",
              "    .dataframe tbody tr th:only-of-type {\n",
              "        vertical-align: middle;\n",
              "    }\n",
              "\n",
              "    .dataframe tbody tr th {\n",
              "        vertical-align: top;\n",
              "    }\n",
              "\n",
              "    .dataframe thead th {\n",
              "        text-align: right;\n",
              "    }\n",
              "</style>\n",
              "<table border=\"1\" class=\"dataframe\">\n",
              "  <thead>\n",
              "    <tr style=\"text-align: right;\">\n",
              "      <th></th>\n",
              "      <th>Model - Dataset</th>\n",
              "      <th>False Positive Rate</th>\n",
              "      <th>False Negative Rate</th>\n",
              "    </tr>\n",
              "  </thead>\n",
              "  <tbody>\n",
              "    <tr>\n",
              "      <th>0</th>\n",
              "      <td>RNN - Training</td>\n",
              "      <td>0.131445</td>\n",
              "      <td>0.154907</td>\n",
              "    </tr>\n",
              "    <tr>\n",
              "      <th>1</th>\n",
              "      <td>RNN - Validation</td>\n",
              "      <td>0.153732</td>\n",
              "      <td>0.177716</td>\n",
              "    </tr>\n",
              "    <tr>\n",
              "      <th>2</th>\n",
              "      <td>RNN - Test</td>\n",
              "      <td>0.157908</td>\n",
              "      <td>0.176074</td>\n",
              "    </tr>\n",
              "    <tr>\n",
              "      <th>3</th>\n",
              "      <td>BERT - Training</td>\n",
              "      <td>0.270852</td>\n",
              "      <td>0.190304</td>\n",
              "    </tr>\n",
              "    <tr>\n",
              "      <th>4</th>\n",
              "      <td>BERT - Validation</td>\n",
              "      <td>0.271529</td>\n",
              "      <td>0.191911</td>\n",
              "    </tr>\n",
              "    <tr>\n",
              "      <th>5</th>\n",
              "      <td>BERT - Test</td>\n",
              "      <td>0.268187</td>\n",
              "      <td>0.193059</td>\n",
              "    </tr>\n",
              "  </tbody>\n",
              "</table>\n",
              "</div>\n",
              "    <div class=\"colab-df-buttons\">\n",
              "\n",
              "  <div class=\"colab-df-container\">\n",
              "    <button class=\"colab-df-convert\" onclick=\"convertToInteractive('df-a0fcdc15-381b-47de-9357-6d8abf77cfff')\"\n",
              "            title=\"Convert this dataframe to an interactive table.\"\n",
              "            style=\"display:none;\">\n",
              "\n",
              "  <svg xmlns=\"http://www.w3.org/2000/svg\" height=\"24px\" viewBox=\"0 -960 960 960\">\n",
              "    <path d=\"M120-120v-720h720v720H120Zm60-500h600v-160H180v160Zm220 220h160v-160H400v160Zm0 220h160v-160H400v160ZM180-400h160v-160H180v160Zm440 0h160v-160H620v160ZM180-180h160v-160H180v160Zm440 0h160v-160H620v160Z\"/>\n",
              "  </svg>\n",
              "    </button>\n",
              "\n",
              "  <style>\n",
              "    .colab-df-container {\n",
              "      display:flex;\n",
              "      gap: 12px;\n",
              "    }\n",
              "\n",
              "    .colab-df-convert {\n",
              "      background-color: #E8F0FE;\n",
              "      border: none;\n",
              "      border-radius: 50%;\n",
              "      cursor: pointer;\n",
              "      display: none;\n",
              "      fill: #1967D2;\n",
              "      height: 32px;\n",
              "      padding: 0 0 0 0;\n",
              "      width: 32px;\n",
              "    }\n",
              "\n",
              "    .colab-df-convert:hover {\n",
              "      background-color: #E2EBFA;\n",
              "      box-shadow: 0px 1px 2px rgba(60, 64, 67, 0.3), 0px 1px 3px 1px rgba(60, 64, 67, 0.15);\n",
              "      fill: #174EA6;\n",
              "    }\n",
              "\n",
              "    .colab-df-buttons div {\n",
              "      margin-bottom: 4px;\n",
              "    }\n",
              "\n",
              "    [theme=dark] .colab-df-convert {\n",
              "      background-color: #3B4455;\n",
              "      fill: #D2E3FC;\n",
              "    }\n",
              "\n",
              "    [theme=dark] .colab-df-convert:hover {\n",
              "      background-color: #434B5C;\n",
              "      box-shadow: 0px 1px 3px 1px rgba(0, 0, 0, 0.15);\n",
              "      filter: drop-shadow(0px 1px 2px rgba(0, 0, 0, 0.3));\n",
              "      fill: #FFFFFF;\n",
              "    }\n",
              "  </style>\n",
              "\n",
              "    <script>\n",
              "      const buttonEl =\n",
              "        document.querySelector('#df-a0fcdc15-381b-47de-9357-6d8abf77cfff button.colab-df-convert');\n",
              "      buttonEl.style.display =\n",
              "        google.colab.kernel.accessAllowed ? 'block' : 'none';\n",
              "\n",
              "      async function convertToInteractive(key) {\n",
              "        const element = document.querySelector('#df-a0fcdc15-381b-47de-9357-6d8abf77cfff');\n",
              "        const dataTable =\n",
              "          await google.colab.kernel.invokeFunction('convertToInteractive',\n",
              "                                                    [key], {});\n",
              "        if (!dataTable) return;\n",
              "\n",
              "        const docLinkHtml = 'Like what you see? Visit the ' +\n",
              "          '<a target=\"_blank\" href=https://colab.research.google.com/notebooks/data_table.ipynb>data table notebook</a>'\n",
              "          + ' to learn more about interactive tables.';\n",
              "        element.innerHTML = '';\n",
              "        dataTable['output_type'] = 'display_data';\n",
              "        await google.colab.output.renderOutput(dataTable, element);\n",
              "        const docLink = document.createElement('div');\n",
              "        docLink.innerHTML = docLinkHtml;\n",
              "        element.appendChild(docLink);\n",
              "      }\n",
              "    </script>\n",
              "  </div>\n",
              "\n",
              "\n",
              "<div id=\"df-7f3b9f14-87e6-4757-b85d-c899c6b509ac\">\n",
              "  <button class=\"colab-df-quickchart\" onclick=\"quickchart('df-7f3b9f14-87e6-4757-b85d-c899c6b509ac')\"\n",
              "            title=\"Suggest charts\"\n",
              "            style=\"display:none;\">\n",
              "\n",
              "<svg xmlns=\"http://www.w3.org/2000/svg\" height=\"24px\"viewBox=\"0 0 24 24\"\n",
              "     width=\"24px\">\n",
              "    <g>\n",
              "        <path d=\"M19 3H5c-1.1 0-2 .9-2 2v14c0 1.1.9 2 2 2h14c1.1 0 2-.9 2-2V5c0-1.1-.9-2-2-2zM9 17H7v-7h2v7zm4 0h-2V7h2v10zm4 0h-2v-4h2v4z\"/>\n",
              "    </g>\n",
              "</svg>\n",
              "  </button>\n",
              "\n",
              "<style>\n",
              "  .colab-df-quickchart {\n",
              "      --bg-color: #E8F0FE;\n",
              "      --fill-color: #1967D2;\n",
              "      --hover-bg-color: #E2EBFA;\n",
              "      --hover-fill-color: #174EA6;\n",
              "      --disabled-fill-color: #AAA;\n",
              "      --disabled-bg-color: #DDD;\n",
              "  }\n",
              "\n",
              "  [theme=dark] .colab-df-quickchart {\n",
              "      --bg-color: #3B4455;\n",
              "      --fill-color: #D2E3FC;\n",
              "      --hover-bg-color: #434B5C;\n",
              "      --hover-fill-color: #FFFFFF;\n",
              "      --disabled-bg-color: #3B4455;\n",
              "      --disabled-fill-color: #666;\n",
              "  }\n",
              "\n",
              "  .colab-df-quickchart {\n",
              "    background-color: var(--bg-color);\n",
              "    border: none;\n",
              "    border-radius: 50%;\n",
              "    cursor: pointer;\n",
              "    display: none;\n",
              "    fill: var(--fill-color);\n",
              "    height: 32px;\n",
              "    padding: 0;\n",
              "    width: 32px;\n",
              "  }\n",
              "\n",
              "  .colab-df-quickchart:hover {\n",
              "    background-color: var(--hover-bg-color);\n",
              "    box-shadow: 0 1px 2px rgba(60, 64, 67, 0.3), 0 1px 3px 1px rgba(60, 64, 67, 0.15);\n",
              "    fill: var(--button-hover-fill-color);\n",
              "  }\n",
              "\n",
              "  .colab-df-quickchart-complete:disabled,\n",
              "  .colab-df-quickchart-complete:disabled:hover {\n",
              "    background-color: var(--disabled-bg-color);\n",
              "    fill: var(--disabled-fill-color);\n",
              "    box-shadow: none;\n",
              "  }\n",
              "\n",
              "  .colab-df-spinner {\n",
              "    border: 2px solid var(--fill-color);\n",
              "    border-color: transparent;\n",
              "    border-bottom-color: var(--fill-color);\n",
              "    animation:\n",
              "      spin 1s steps(1) infinite;\n",
              "  }\n",
              "\n",
              "  @keyframes spin {\n",
              "    0% {\n",
              "      border-color: transparent;\n",
              "      border-bottom-color: var(--fill-color);\n",
              "      border-left-color: var(--fill-color);\n",
              "    }\n",
              "    20% {\n",
              "      border-color: transparent;\n",
              "      border-left-color: var(--fill-color);\n",
              "      border-top-color: var(--fill-color);\n",
              "    }\n",
              "    30% {\n",
              "      border-color: transparent;\n",
              "      border-left-color: var(--fill-color);\n",
              "      border-top-color: var(--fill-color);\n",
              "      border-right-color: var(--fill-color);\n",
              "    }\n",
              "    40% {\n",
              "      border-color: transparent;\n",
              "      border-right-color: var(--fill-color);\n",
              "      border-top-color: var(--fill-color);\n",
              "    }\n",
              "    60% {\n",
              "      border-color: transparent;\n",
              "      border-right-color: var(--fill-color);\n",
              "    }\n",
              "    80% {\n",
              "      border-color: transparent;\n",
              "      border-right-color: var(--fill-color);\n",
              "      border-bottom-color: var(--fill-color);\n",
              "    }\n",
              "    90% {\n",
              "      border-color: transparent;\n",
              "      border-bottom-color: var(--fill-color);\n",
              "    }\n",
              "  }\n",
              "</style>\n",
              "\n",
              "  <script>\n",
              "    async function quickchart(key) {\n",
              "      const quickchartButtonEl =\n",
              "        document.querySelector('#' + key + ' button');\n",
              "      quickchartButtonEl.disabled = true;  // To prevent multiple clicks.\n",
              "      quickchartButtonEl.classList.add('colab-df-spinner');\n",
              "      try {\n",
              "        const charts = await google.colab.kernel.invokeFunction(\n",
              "            'suggestCharts', [key], {});\n",
              "      } catch (error) {\n",
              "        console.error('Error during call to suggestCharts:', error);\n",
              "      }\n",
              "      quickchartButtonEl.classList.remove('colab-df-spinner');\n",
              "      quickchartButtonEl.classList.add('colab-df-quickchart-complete');\n",
              "    }\n",
              "    (() => {\n",
              "      let quickchartButtonEl =\n",
              "        document.querySelector('#df-7f3b9f14-87e6-4757-b85d-c899c6b509ac button');\n",
              "      quickchartButtonEl.style.display =\n",
              "        google.colab.kernel.accessAllowed ? 'block' : 'none';\n",
              "    })();\n",
              "  </script>\n",
              "</div>\n",
              "\n",
              "  <div id=\"id_ab9eb07c-bea8-40c8-b508-5424e8b1a24c\">\n",
              "    <style>\n",
              "      .colab-df-generate {\n",
              "        background-color: #E8F0FE;\n",
              "        border: none;\n",
              "        border-radius: 50%;\n",
              "        cursor: pointer;\n",
              "        display: none;\n",
              "        fill: #1967D2;\n",
              "        height: 32px;\n",
              "        padding: 0 0 0 0;\n",
              "        width: 32px;\n",
              "      }\n",
              "\n",
              "      .colab-df-generate:hover {\n",
              "        background-color: #E2EBFA;\n",
              "        box-shadow: 0px 1px 2px rgba(60, 64, 67, 0.3), 0px 1px 3px 1px rgba(60, 64, 67, 0.15);\n",
              "        fill: #174EA6;\n",
              "      }\n",
              "\n",
              "      [theme=dark] .colab-df-generate {\n",
              "        background-color: #3B4455;\n",
              "        fill: #D2E3FC;\n",
              "      }\n",
              "\n",
              "      [theme=dark] .colab-df-generate:hover {\n",
              "        background-color: #434B5C;\n",
              "        box-shadow: 0px 1px 3px 1px rgba(0, 0, 0, 0.15);\n",
              "        filter: drop-shadow(0px 1px 2px rgba(0, 0, 0, 0.3));\n",
              "        fill: #FFFFFF;\n",
              "      }\n",
              "    </style>\n",
              "    <button class=\"colab-df-generate\" onclick=\"generateWithVariable('df_results')\"\n",
              "            title=\"Generate code using this dataframe.\"\n",
              "            style=\"display:none;\">\n",
              "\n",
              "  <svg xmlns=\"http://www.w3.org/2000/svg\" height=\"24px\"viewBox=\"0 0 24 24\"\n",
              "       width=\"24px\">\n",
              "    <path d=\"M7,19H8.4L18.45,9,17,7.55,7,17.6ZM5,21V16.75L18.45,3.32a2,2,0,0,1,2.83,0l1.4,1.43a1.91,1.91,0,0,1,.58,1.4,1.91,1.91,0,0,1-.58,1.4L9.25,21ZM18.45,9,17,7.55Zm-12,3A5.31,5.31,0,0,0,4.9,8.1,5.31,5.31,0,0,0,1,6.5,5.31,5.31,0,0,0,4.9,4.9,5.31,5.31,0,0,0,6.5,1,5.31,5.31,0,0,0,8.1,4.9,5.31,5.31,0,0,0,12,6.5,5.46,5.46,0,0,0,6.5,12Z\"/>\n",
              "  </svg>\n",
              "    </button>\n",
              "    <script>\n",
              "      (() => {\n",
              "      const buttonEl =\n",
              "        document.querySelector('#id_ab9eb07c-bea8-40c8-b508-5424e8b1a24c button.colab-df-generate');\n",
              "      buttonEl.style.display =\n",
              "        google.colab.kernel.accessAllowed ? 'block' : 'none';\n",
              "\n",
              "      buttonEl.onclick = () => {\n",
              "        google.colab.notebook.generateWithVariable('df_results');\n",
              "      }\n",
              "      })();\n",
              "    </script>\n",
              "  </div>\n",
              "\n",
              "    </div>\n",
              "  </div>\n"
            ],
            "application/vnd.google.colaboratory.intrinsic+json": {
              "type": "dataframe",
              "variable_name": "df_results",
              "summary": "{\n  \"name\": \"df_results\",\n  \"rows\": 6,\n  \"fields\": [\n    {\n      \"column\": \"Model - Dataset\",\n      \"properties\": {\n        \"dtype\": \"string\",\n        \"num_unique_values\": 6,\n        \"samples\": [\n          \"RNN - Training\",\n          \"RNN - Validation\",\n          \"BERT - Test\"\n        ],\n        \"semantic_type\": \"\",\n        \"description\": \"\"\n      }\n    },\n    {\n      \"column\": \"False Positive Rate\",\n      \"properties\": {\n        \"dtype\": \"number\",\n        \"std\": 0.06770279664024025,\n        \"min\": 0.13144480655134955,\n        \"max\": 0.2715287049399199,\n        \"num_unique_values\": 6,\n        \"samples\": [\n          0.13144480655134955,\n          0.1537317133647409,\n          0.2681871150324621\n        ],\n        \"semantic_type\": \"\",\n        \"description\": \"\"\n      }\n    },\n    {\n      \"column\": \"False Negative Rate\",\n      \"properties\": {\n        \"dtype\": \"number\",\n        \"std\": 0.014602754833910157,\n        \"min\": 0.15490733815341146,\n        \"max\": 0.19305856832971802,\n        \"num_unique_values\": 6,\n        \"samples\": [\n          0.15490733815341146,\n          0.1777161583060247,\n          0.19305856832971802\n        ],\n        \"semantic_type\": \"\",\n        \"description\": \"\"\n      }\n    }\n  ]\n}"
            }
          },
          "metadata": {},
          "execution_count": 21
        }
      ],
      "execution_count": null
    },
    {
      "cell_type": "markdown",
      "source": [
        "From the results above, we can tell that the two models are functioning quite differently,\n",
        " as for RNN with GRU, false positive rates for all 3 sets are lower than false negative rates,\n",
        " and for BERT, false negative rates for all 3 sets are lower than false positive.\n",
        "That indicates that RNN is good at identifying positive reviews, while BERT is good at identifying negative reviews.\n",
        "Once again, both models have similar FPR/FNR across all three sets, which indicates they both have good generalization and are not overfitting."
      ],
      "metadata": {
        "id": "KZ7NrS8JmQca"
      }
    },
    {
      "cell_type": "code",
      "metadata": {
        "id": "0OvvnW8OWw4G",
        "colab": {
          "base_uri": "https://localhost:8080/"
        },
        "outputId": "198dcbe7-b504-415a-812a-b74d1d82dbdf"
      },
      "source": [
        "# Examination\n",
        "\n",
        "# the 18-th review in IMDB dataset.csv\n",
        "review = \"\"\"\n",
        "I was first introduced to John Waters films by seeing \"Female trouble\" on IFC. I was disgusted but for some sick reason i enjoyed it. Then, i picked up the Pink Flamingos DVD in the John Waters Boxed Set. The movie is about Babs Johnson \"The Filthiest Person Alive\" who lives in a trailer in Maryland with her obese egg obsessed mother,and her deranged son \"Crackers\". In the movie you will see such sick sights as sex with chickens, drag-queens, people eating feces, torture, and all other sorts of random humiliation. The film has a soundtrack from 60's rock and roll artists. The only problem is that some parts of the film seem to drag on and can get a little boring. I found \"Female Trouble\" a little more fun. Rated NC-17 for Explicit sex, violence, and disturbing images. Enjoy.\n",
        "\"\"\"\n",
        "\n",
        "seq_len = 500\n",
        "tokens = preprocess_sentence(review)\n",
        "indexed_tokens = [stoi[word] for word in tokens if word in stoi]\n",
        "padded_tokens = padding_([indexed_tokens], seq_len)\n",
        "review_tensor = torch.tensor(padded_tokens, dtype=torch.long)\n",
        "\n",
        "model = SentimentRNN(vocab_size=1001)\n",
        "model.load_state_dict(torch.load('A4-RNN-Yutian_Mei-1010584529.pth'))\n",
        "model.eval()\n",
        "with torch.no_grad():\n",
        "  output = model(review_tensor)\n",
        "  prob = torch.softmax(output, dim=1)\n",
        "print(f\"Probability of positive - initial review: {prob[0][1].item()}; negative: {1-prob[0][1].item()}\")\n",
        "\n",
        "review_modified = \"\"\"\n",
        "I was first introduced to John Waters films by seeing \"Female trouble\" on IFC. I enjoyed it. Then, i picked up the Pink Flamingos DVD in the John Waters Boxed Set. The movie is about Babs Johnson \"The Filthiest Person Alive\" who lives in a trailer in Maryland with her obese egg obsessed mother,and her deranged son \"Crackers\". In the movie you will see such sick sights as sex with chickens, drag-queens, people eating feces, torture, and all other sorts of random humiliation. The film has a soundtrack from 60's rock and roll artists. The only problem is that some parts of the film seem to drag on and can get a little boring. I found \"Female Trouble\" a little more fun. Rated NC-17 for Explicit sex, violence, and disturbing images. Enjoy.\n",
        "\"\"\"\n",
        "\n",
        "seq_len = 500\n",
        "tokens = preprocess_sentence(review_modified)\n",
        "indexed_tokens = [stoi[word] for word in tokens if word in stoi]\n",
        "padded_tokens = padding_([indexed_tokens], seq_len)\n",
        "review_tensor = torch.tensor(padded_tokens, dtype=torch.long)\n",
        "\n",
        "model = SentimentRNN(vocab_size=1001)\n",
        "model.load_state_dict(torch.load('A4-RNN-Yutian_Mei-1010584529.pth'))\n",
        "model.eval()\n",
        "with torch.no_grad():\n",
        "  output = model(review_tensor)\n",
        "  prob = torch.softmax(output, dim=1)\n",
        "print(f\"Probability of positive - after modification: {prob[0][1].item()}; negative: {1-prob[0][1].item()}\")"
      ],
      "outputs": [
        {
          "output_type": "stream",
          "name": "stdout",
          "text": [
            "Probability of positive - initial review: 0.40903735160827637; negative: 0.5909626483917236\n",
            "Probability of positive - after modification: 0.5889919996261597; negative: 0.41100800037384033\n"
          ]
        }
      ],
      "execution_count": null
    },
    {
      "cell_type": "code",
      "source": [
        "# the 3-rd review in IMDB dataset.csv\n",
        "review = \"\"\"\n",
        "The film quickly gets to a major chase scene with ever increasing destruction. The first really bad thing is the guy hijacking Steven Seagal would have been beaten to pulp by Seagal's driving, but that probably would have ended the whole premise for the movie.<br /><br />It seems like they decided to make all kinds of changes in the movie plot, so just plan to enjoy the action, and do not expect a coherent plot. Turn any sense of logic you may have, it will reduce your chance of getting a headache.<br /><br />I does give me some hope that Steven Seagal is trying to move back towards the type of characters he portrayed in his more popular movies.\n",
        "\"\"\"\n",
        "\n",
        "inputs = tokenizer(\n",
        "    review,\n",
        "    return_tensors='pt',\n",
        "    truncation=True,\n",
        "    padding=True,\n",
        "    max_length=400\n",
        ")\n",
        "input_ids = inputs['input_ids']\n",
        "attention_mask = inputs['attention_mask']\n",
        "\n",
        "device = torch.device('cpu')\n",
        "bert_model = bert_model.to(device)\n",
        "input_ids = input_ids.to(device)\n",
        "attention_mask = attention_mask.to(device)\n",
        "with torch.no_grad():\n",
        "  outputs = bert_model(input_ids=input_ids, attention_mask=attention_mask)\n",
        "  pooled_output = outputs.pooler_output\n",
        "\n",
        "model = SentimentClassifierPooled(n_classes=2)\n",
        "model.load_state_dict(torch.load('A4-BERT-Yutian_Mei-1010584529.pth'))\n",
        "model.eval()\n",
        "model = model.to(device)\n",
        "pooled_output = pooled_output.to(device)\n",
        "with torch.no_grad():\n",
        "  output = model(pooled_output)\n",
        "  prob = torch.softmax(output, dim=-1)\n",
        "print(f\"Probability of positive - before modification: {prob[0][1].item()}; negative: {1-prob[0][1].item()}\")\n",
        "\n",
        "review_modified = \"\"\"\n",
        "The film with ever increasing destruction. The first really bad thing is the guy hijacking Steven Seagal would have been beaten to pulp by Seagal's driving, but that probably would have ended the whole premise for the movie.<br /><br />It seems like they decided to make all kinds of changes in the movie plot, so just plan to enjoy the action, and do not expect a coherent plot. Turn any sense of logic you may have, it will reduce your chance of getting a headache.<br /><br />I does give me some hope that Steven Seagal is trying to move back towards the type of characters he portrayed in his more popular movies.\n",
        "\"\"\"\n",
        "inputs = tokenizer(\n",
        "    review_modified,\n",
        "    return_tensors='pt',\n",
        "    truncation=True,\n",
        "    padding=True,\n",
        "    max_length=400\n",
        ")\n",
        "input_ids = inputs['input_ids']\n",
        "attention_mask = inputs['attention_mask']\n",
        "\n",
        "device = torch.device('cpu')\n",
        "bert_model = bert_model.to(device)\n",
        "input_ids = input_ids.to(device)\n",
        "attention_mask = attention_mask.to(device)\n",
        "with torch.no_grad():\n",
        "  outputs = bert_model(input_ids=input_ids, attention_mask=attention_mask)\n",
        "  pooled_output = outputs.pooler_output\n",
        "\n",
        "model = SentimentClassifierPooled(n_classes=2)\n",
        "model.load_state_dict(torch.load('A4-BERT-Yutian_Mei-1010584529.pth'))\n",
        "model.eval()\n",
        "model = model.to(device)\n",
        "pooled_output = pooled_output.to(device)\n",
        "with torch.no_grad():\n",
        "  output = model(pooled_output)\n",
        "  prob = torch.softmax(output, dim=-1)\n",
        "print(f\"Probability of positive - after modification: {prob[0][1].item()}; negative: {1-prob[0][1].item()}\")"
      ],
      "metadata": {
        "colab": {
          "base_uri": "https://localhost:8080/"
        },
        "id": "-a4x3RB5LJJe",
        "outputId": "028628f3-9f65-4dac-aed9-bc25c0a1c7e6"
      },
      "execution_count": null,
      "outputs": [
        {
          "output_type": "stream",
          "name": "stdout",
          "text": [
            "Probability of positive - before modification: 0.5923969745635986; negative: 0.40760302543640137\n",
            "Probability of positive - after modification: 0.48579156398773193; negative: 0.5142084360122681\n"
          ]
        }
      ]
    },
    {
      "cell_type": "markdown",
      "source": [
        "According to the structure and character differences in both models, RNN with GRU has limited capability for feature extraction and long-distance dependencies,\n",
        " while BERT depends on the similarities between pretraining data and training data, and is sensitive to noise.\n",
        "So we can see that two models are performing quite differently and each has its own weaknesses.\n",
        "\n",
        "As shown above, initially the positive review was misclassified by RNN model, and the negative review was misclassified by BERT model.\n",
        "After some modification, both models are able to classify it correctly.\n",
        "In fact, I just deleted the phrase 'was disgusted but for some sick reason' in the first one and the phrase 'quickly gets to a major chase scene'.\n",
        "The two words 'disgusted' and 'sick' are usually used to express negative sentiments, but here we can easily tell that they are just emphasizing.\n",
        "And 'quickly gets to a major' is usually a praise, but the key point is 'destruction'.\n",
        "However, they have greatly impacted the judgement of the models."
      ],
      "metadata": {
        "id": "4We9o-jumc85"
      }
    },
    {
      "cell_type": "code",
      "metadata": {
        "id": "y3DCyMW_n05f",
        "colab": {
          "base_uri": "https://localhost:8080/"
        },
        "outputId": "fdbc24aa-2456-4b50-acc2-d874c8092a5e"
      },
      "source": [
        "# Tested on new data\n",
        "\n",
        "REV = [\"\"\"I can't remember the last time I was so invested in a TV show. I was hooked from the first episode, and constantly impressed with the directing, visuals, acting, and plot developments. It's like a cross between Black Mirror and 1984, but it might be better than both of those works of art. This is truly something special and I COULD NOT be more excited for season 2.\"\"\",\n",
        "       \"\"\"Severance is every bit as good as everyone says it is. All you have to do is read through the reviews and look the rating to see how much people think of this series. It's on every \"best shows of 2022\" list out there for a reason and will absolutely be nominated for a ton of awards! Adam Scott leads an amazing cast who all do a fantastic job. It's just such an original show that will keep you wanting more. The first episode may start a little slow for some but stick with it because I promise that you won't regret it. If you stay with it I guarantee it will become one of your favorite shows of the year. I'm so glad they already decided to pick it up for future seasons!\"\"\",\n",
        "       \"\"\"There really aren't enough positive things to say about this potential masterpiece of art. I want to go on record as saying if the show manages to keep this quality up for it's entire run length, this will be the first show I have watched since Breaking Bad to be as close to perfection as possible.\n",
        "          Admittedly, things start off slow and drag slightly with the first episode. Fear not though, because Severance picks up with an increasing amount of drama and mystery, climaxing perfectly with a season finale that balances that fine line of leaving you wanted more, while quenching your appetite to remain satisfied until Season 2.\n",
        "          Every metric you can measure and judge a TV show on is on display with absolute mastery. The casting, acting, script, direction, cinematography, lighting, set decoration.. everything is perfect.\n",
        "          Actually I noticed a running theme for this review I've written is the word \"perfect\". So I'll leave you all with that, and watch the damn show already.\"\"\",\n",
        "       \"\"\"The showrunners prioritized impressing critics over delivering a satisfying season for fans who waited three years. Their focus was on showcasing cinematography rather than crafting a compelling story that progresses naturally. After 9 episodes in Season 2, we're left with more questions than answers. What should be an engaging experience has instead become a frustrating exercise in deciphering the plot. Watching this is no longer enjoyable.\n",
        "          The characters feel flat and unrelatable. There's no one to connect with, making it hard to care about what happens to them. Because of this, the story feels empty, making it even harder to stay engaged.\"\"\",\n",
        "       \"\"\"Very boring and nothing is resolved. If you managed to make it through all 9 hours of monotony, you receive absolutely no payoff. You'll have to wait for season 2. The whole series could have been condensed into a movie.\"\"\"]\n",
        "\n",
        "i = 0\n",
        "for review in REV:\n",
        "  i += 1\n",
        "  if i < 4:\n",
        "    print('Review', i, '- positive')\n",
        "  else:\n",
        "    print('Review', i, '- negative')\n",
        "  seq_len = 500\n",
        "  tokens = preprocess_sentence(review)\n",
        "  indexed_tokens = [stoi[word] for word in tokens if word in stoi]\n",
        "  padded_tokens = padding_([indexed_tokens], seq_len)\n",
        "  review_tensor = torch.tensor(padded_tokens, dtype=torch.long)\n",
        "\n",
        "  model = SentimentRNN(vocab_size=1001)\n",
        "  model.load_state_dict(torch.load('A4-RNN-Yutian_Mei-1010584529.pth'))\n",
        "  model.eval()\n",
        "  with torch.no_grad():\n",
        "    output = model(review_tensor)\n",
        "    prob = torch.softmax(output, dim=1)\n",
        "    pred = 'positive' if prob[0][1].item() > 0.5 else 'negative'\n",
        "    print(f'RNN prediction:', pred)\n",
        "\n",
        "  inputs = tokenizer(review, return_tensors='pt', truncation=True, padding=True, max_length=400)\n",
        "  input_ids = inputs['input_ids']\n",
        "  attention_mask = inputs['attention_mask']\n",
        "\n",
        "  device = torch.device('cpu')\n",
        "  bert_model = bert_model.to(device)\n",
        "  input_ids = input_ids.to(device)\n",
        "  attention_mask = attention_mask.to(device)\n",
        "  with torch.no_grad():\n",
        "    outputs = bert_model(input_ids=input_ids, attention_mask=attention_mask)\n",
        "    pooled_output = outputs.pooler_output\n",
        "\n",
        "  model = SentimentClassifierPooled(n_classes=2)\n",
        "  model.load_state_dict(torch.load('A4-BERT-Yutian_Mei-1010584529.pth'))\n",
        "  model.eval()\n",
        "  model = model.to(device)\n",
        "  pooled_output = pooled_output.to(device)\n",
        "  with torch.no_grad():\n",
        "    output = model(pooled_output)\n",
        "    prob = torch.softmax(output, dim=1)\n",
        "    pred = 'positive' if prob[0][1].item() > 0.5 else 'negative'\n",
        "    print(f'BERT prediction:', pred)\n"
      ],
      "outputs": [
        {
          "output_type": "stream",
          "name": "stdout",
          "text": [
            "Review 1 - positive\n",
            "RNN prediction: positive\n",
            "BERT prediction: positive\n",
            "Review 2 - positive\n",
            "RNN prediction: positive\n",
            "BERT prediction: positive\n",
            "Review 3 - positive\n",
            "RNN prediction: positive\n",
            "BERT prediction: positive\n",
            "Review 4 - negative\n",
            "RNN prediction: negative\n",
            "BERT prediction: positive\n",
            "Review 5 - negative\n",
            "RNN prediction: negative\n",
            "BERT prediction: negative\n"
          ]
        }
      ],
      "execution_count": null
    },
    {
      "cell_type": "markdown",
      "source": [
        "I collected 5 recent reviews (3 positive, 2 negative) on the episode 'Severance', which I enjoyed a lot.\n",
        "The RNN model successfully predicted the sentiment of all 5 reviews, while the BERT model predicted 4 out of 5.\n",
        "This corresponds to the results above, where the false positive rate of BERT model is quite high.\n",
        "Overall, I am happy with the results, as they indicate that both models generalize well to new data."
      ],
      "metadata": {
        "id": "V7pyrqUnmi_V"
      }
    },
    {
      "cell_type": "code",
      "source": [
        "# Generative character-level LSTM model\n",
        "import torch\n",
        "import torch.nn as nn\n",
        "import torch.optim as optim\n",
        "import numpy as np\n",
        "import pandas as pd\n",
        "from sklearn.model_selection import train_test_split\n",
        "from torch.utils.data import Dataset, DataLoader\n",
        "import matplotlib.pyplot as plt\n",
        "\n",
        "df = pd.read_csv(\"IMDB Dataset.csv\")\n",
        "df_train, df_vt = train_test_split(df, test_size=0.6, random_state=0)\n",
        "df_valid, df_test = train_test_split(df_vt, test_size=0.5, random_state=0)\n",
        "\n",
        "# preprocessing\n",
        "def preprocess_text(texts):\n",
        "  text = \" \".join(texts).lower()\n",
        "  chars = sorted(list(set(text)))\n",
        "  stoi = {ch: i for i, ch in enumerate(chars)}\n",
        "  itos = {i: ch for ch, i in stoi.items()}\n",
        "  return stoi, itos, len(chars)\n",
        "train_texts = df_train['review'].tolist()\n",
        "stoi, itos, vocab_size = preprocess_text(train_texts)\n",
        "encoded_texts = [[stoi[ch] for ch in text.lower()] for text in train_texts]\n",
        "\n",
        "class CharDataset(Dataset):\n",
        "  def __init__(self, texts, seq_length=100):\n",
        "    self.texts = texts\n",
        "    self.seq_length = seq_length\n",
        "\n",
        "  def __len__(self):\n",
        "    return len(self.texts)\n",
        "\n",
        "  def __getitem__(self, idx):\n",
        "    text = self.texts[idx]\n",
        "    if len(text) <= self.seq_length:\n",
        "      input_seq = torch.tensor(text + [0] * (self.seq_length - len(text)), dtype=torch.long)\n",
        "      target_seq = torch.tensor(text[1:] + [0] * (self.seq_length - len(text) + 1), dtype=torch.long)\n",
        "    else:\n",
        "      start_idx = torch.randint(0, len(text) - self.seq_length, (1,)).item()\n",
        "      input_seq = torch.tensor(text[start_idx:start_idx+self.seq_length], dtype=torch.long)\n",
        "      target_seq = torch.tensor(text[start_idx+1:start_idx+self.seq_length+1], dtype=torch.long)\n",
        "    return input_seq, target_seq\n",
        "\n",
        "seq_length = 100\n",
        "train_dataset = CharDataset(encoded_texts, seq_length)\n",
        "train_loader = DataLoader(train_dataset, batch_size=32, shuffle=True)\n",
        "valid_texts = df_valid['review'].tolist()\n",
        "encoded_valid_texts = []\n",
        "for text in valid_texts:\n",
        "  encoded_text = []\n",
        "  for ch in text.lower():\n",
        "    if ch in stoi:\n",
        "      encoded_text.append(stoi[ch])\n",
        "    else:\n",
        "      encoded_text.append(stoi.get(' ', 0))\n",
        "  encoded_valid_texts.append(encoded_text)\n",
        "valid_dataset = CharDataset(encoded_valid_texts, seq_length)\n",
        "valid_loader = DataLoader(valid_dataset, batch_size=16, shuffle=False)\n",
        "\n",
        "# generative character-level LSTM model\n",
        "class CharLSTM(nn.Module):\n",
        "  def __init__(self, vocab_size, embedding_dim=128, hidden_dim=256, num_layers=2):\n",
        "    super(CharLSTM, self).__init__()\n",
        "    self.embedding = nn.Embedding(vocab_size, embedding_dim)\n",
        "    self.lstm = nn.LSTM(embedding_dim, hidden_dim, num_layers, batch_first=True)\n",
        "    self.fc = nn.Linear(hidden_dim, vocab_size)\n",
        "\n",
        "  def forward(self, x, hidden):\n",
        "    x = self.embedding(x)\n",
        "    out, hidden = self.lstm(x, hidden)\n",
        "    out = self.fc(out)\n",
        "    return out, hidden\n",
        "\n",
        "device = torch.device(\"cuda\" if torch.cuda.is_available() else \"cpu\")\n",
        "model = CharLSTM(vocab_size).to(device)\n",
        "optimizer = optim.Adam(model.parameters(), lr=0.001)\n",
        "criterion = nn.CrossEntropyLoss()\n",
        "\n",
        "# calculating validation loss\n",
        "def validate_model(model, data_loader):\n",
        "\n",
        "  model.eval()\n",
        "  total_loss = 0\n",
        "  total_batches = 0\n",
        "\n",
        "  with torch.no_grad():\n",
        "    hidden = None\n",
        "    for inputs, targets in data_loader:\n",
        "      inputs, targets = inputs.to(device), targets.to(device)\n",
        "      outputs, hidden = model(inputs, hidden)\n",
        "      loss = criterion(outputs.view(-1, vocab_size), targets.view(-1))\n",
        "      total_loss += loss.item()\n",
        "      total_batches += 1\n",
        "\n",
        "  return total_loss / total_batches\n",
        "\n",
        "def train_model(model, train_loader, valid_loader, epochs=10):\n",
        "\n",
        "  avg_train_loss, avg_valid_loss = [], []\n",
        "  for epoch in range(epochs):\n",
        "\n",
        "    train_loss, train_batches = 0, 0\n",
        "    for batch, (inputs, targets) in enumerate(train_loader):\n",
        "      model.train()\n",
        "      inputs, targets = inputs.to(device), targets.to(device)\n",
        "      optimizer.zero_grad()\n",
        "      hidden = None\n",
        "      outputs, hidden = model(inputs, hidden)\n",
        "      loss = criterion(outputs.view(-1, vocab_size), targets.view(-1))\n",
        "      loss.backward()\n",
        "      optimizer.step()\n",
        "      train_loss += loss.item()\n",
        "      train_batches += 1\n",
        "\n",
        "    avg_train_loss.append(train_loss / train_batches)\n",
        "    avg_valid_loss.append(validate_model(model, valid_loader))\n",
        "    print(f\"Epoch {epoch+1}; Train Loss: {avg_train_loss[-1]:.4f}; Val Loss: {avg_valid_loss[-1]:.4f}\")\n",
        "\n",
        "  # plotting\n",
        "  plt.title(\"Loss Curve\")\n",
        "  plt.plot(avg_train_loss, label=\"Train\")\n",
        "  plt.plot(avg_valid_loss, label=\"Validation\")\n",
        "  plt.xlabel(\"Epoch\")\n",
        "  plt.ylabel(\"Loss\")\n",
        "  plt.legend(loc='best')\n",
        "  plt.show()\n",
        "\n",
        "train_model(model, train_loader, valid_loader, epochs=20)\n"
      ],
      "metadata": {
        "id": "9eUKPfCumdpW",
        "colab": {
          "base_uri": "https://localhost:8080/",
          "height": 819
        },
        "outputId": "146422d2-5358-4153-e2d5-f75e6c1ed887"
      },
      "outputs": [
        {
          "output_type": "stream",
          "name": "stdout",
          "text": [
            "Epoch 1; Train Loss: 2.2929; Val Loss: 1.9106\n",
            "Epoch 2; Train Loss: 1.7925; Val Loss: 1.7239\n",
            "Epoch 3; Train Loss: 1.6610; Val Loss: 1.6330\n",
            "Epoch 4; Train Loss: 1.5881; Val Loss: 1.5877\n",
            "Epoch 5; Train Loss: 1.5438; Val Loss: 1.5453\n",
            "Epoch 6; Train Loss: 1.5074; Val Loss: 1.5212\n",
            "Epoch 7; Train Loss: 1.4806; Val Loss: 1.4935\n",
            "Epoch 8; Train Loss: 1.4628; Val Loss: 1.4820\n",
            "Epoch 9; Train Loss: 1.4437; Val Loss: 1.4662\n",
            "Epoch 10; Train Loss: 1.4258; Val Loss: 1.4510\n",
            "Epoch 11; Train Loss: 1.4150; Val Loss: 1.4431\n",
            "Epoch 12; Train Loss: 1.4023; Val Loss: 1.4324\n",
            "Epoch 13; Train Loss: 1.3914; Val Loss: 1.4210\n",
            "Epoch 14; Train Loss: 1.3848; Val Loss: 1.4190\n",
            "Epoch 15; Train Loss: 1.3749; Val Loss: 1.4129\n",
            "Epoch 16; Train Loss: 1.3712; Val Loss: 1.4018\n",
            "Epoch 17; Train Loss: 1.3620; Val Loss: 1.3973\n",
            "Epoch 18; Train Loss: 1.3561; Val Loss: 1.3913\n",
            "Epoch 19; Train Loss: 1.3508; Val Loss: 1.3924\n",
            "Epoch 20; Train Loss: 1.3431; Val Loss: 1.3855\n"
          ]
        },
        {
          "output_type": "display_data",
          "data": {
            "text/plain": [
              "<Figure size 640x480 with 1 Axes>"
            ],
            "image/png": "[encoded data removed]"
          },
          "metadata": {}
        }
      ],
      "execution_count": null
    },
    {
      "cell_type": "code",
      "source": [
        "def generate_text(model, start_text, length=500, temperature=1.0):\n",
        "  model.eval()\n",
        "  generated_text = start_text.lower()\n",
        "  input_seq = torch.tensor([[stoi[ch] for ch in generated_text]], dtype=torch.long).to(device)\n",
        "  hidden = None\n",
        "\n",
        "  for _ in range(length):\n",
        "    with torch.no_grad():\n",
        "      outputs, hidden = model(input_seq, hidden)\n",
        "      probs = torch.softmax(outputs[:, -1, :] / temperature, dim=-1)\n",
        "      next_char_idx = torch.multinomial(probs, 1).item()\n",
        "      next_char = itos[next_char_idx]\n",
        "      generated_text += next_char\n",
        "      input_seq = torch.cat((input_seq[:, 1:], torch.tensor([[next_char_idx]], device=device)), dim=1)  # 更新输入序列\n",
        "\n",
        "  return generated_text\n",
        "\n",
        "start_text = \"The movie is\"\n",
        "generated_review = generate_text(model, start_text, length=200, temperature=0.8)\n",
        "print(f\"Generated Review :{generated_review}\")"
      ],
      "metadata": {
        "colab": {
          "base_uri": "https://localhost:8080/"
        },
        "id": "Qxey_dA7FScR",
        "outputId": "fb7bf63a-3c97-4580-938f-432c03f514ad"
      },
      "execution_count": null,
      "outputs": [
        {
          "output_type": "stream",
          "name": "stdout",
          "text": [
            "Generated Review :the movie is so intentivels and best. and and it should have been hard of sake somewhere to make it a new opera and \"explandside dentinues early too which started essence is the distankly video and reindand. stra\n"
          ]
        }
      ]
    },
    {
      "cell_type": "markdown",
      "source": [
        "I constructed a generative character-level LSTM model by modifying the code provided in Pre4B.\n",
        "generate_text is coded with the help of AI.\n",
        "We can see that the training has converged at around 10 epochs.\n",
        "After 20 epochs of training, the model is able to generate some weird sentences, which are not comparable to those from LLMs."
      ],
      "metadata": {
        "id": "xHQBDQIZmqhs"
      }
    }
  ]
}